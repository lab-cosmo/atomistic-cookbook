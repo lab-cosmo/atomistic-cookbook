{
  "cells": [
    {
      "cell_type": "markdown",
      "metadata": {},
      "source": [
        "\n# Path integral molecular dynamics\n\n:Authors: Michele Ceriotti [@ceriottm](https://github.com/ceriottm/)\n\nThis example shows how to run a path integral molecular dynamics\nsimulation using ``i-PI``, analyze the output and visualize the\ntrajectory in ``chemiscope``. It uses [LAMMPS](http://lammps.org)\nas the driver to simulate the [q-TIP4P/f water\nmodel](http://doi.org/10.1063/1.3167790).\n"
      ]
    },
    {
      "cell_type": "code",
      "execution_count": null,
      "metadata": {
        "collapsed": false
      },
      "outputs": [],
      "source": [
        "import subprocess\nimport time\n\nimport chemiscope\nimport ipi\nimport matplotlib.pyplot as plt\nimport numpy as np"
      ]
    },
    {
      "cell_type": "markdown",
      "metadata": {},
      "source": [
        "## Quantum nuclear effects and path integral methods\n\nThe Born-Oppenheimer approximation separates the joint quantum mechanical\nproblem for electrons and nuclei into two independent problems. Even though\noften one makes the additional approximation of treating nuclei as classical\nparticles, this is not necessary, and in some cases (typically when H atoms are\npresent) can add considerable error.\n\n\n.. figure:: pimd-slices-round.png\n   :align: center\n   :width: 600px\n\n   A representation of ther ring-polymer Hamiltonian for a water molecule.\n\nIn order to describe the quantum mechanical nature of light nuclei\n(nuclear quantum effects) one of the most widely-applicable methods uses\nthe *path integral formalism*  to map the quantum partition function of a\nset of distinguishable particles onto the classical partition function of\n*ring polymers* composed by multiple beads (replicas) with\ncorresponding atoms in adjacent replicas being connected by harmonic\nsprings.\n[The textbook by Tuckerman](https://tinyurl.com/bdfhk2tx)\ncontains a pedagogic introduction to the topic, while\n[this paper](https://doi.org/10.1063/1.3489925) outlines the implementation\nused in ``i-PI``.\n\nThe classical partition function of the path converges to quantum statistics\nin the limit of a large number of replicas. In this example, we will use a\ntechnique based on generalized Langevin dynamics, known as\n[PIGLET](http://doi.org/10.1103/PhysRevLett.109.100604) to accelerate the\nconvergence.\n\n"
      ]
    },
    {
      "cell_type": "markdown",
      "metadata": {},
      "source": [
        "## Running PIMD calculations with ``i-PI``\n\n[i-PI](http://ipi-code.org) is based on a client-server model, with ``i-PI``\ncontrolling the nuclear dynamics (in this case sampling the path Hamiltonian using\nmolecular dynamics) while the calculation of energies and forces is delegated to\nan external client program, in this example ``LAMMPS``.\n\nAn i-PI calculation is specified by an XML file.\n\n"
      ]
    },
    {
      "cell_type": "code",
      "execution_count": null,
      "metadata": {
        "collapsed": false
      },
      "outputs": [],
      "source": [
        "# Open and read the XML file\nwith open(\"data/input_pimd.xml\", \"r\") as file:\n    xml_content = file.read()\nprint(xml_content)"
      ]
    },
    {
      "cell_type": "markdown",
      "metadata": {},
      "source": [
        "NB1: In a realistic simulation you may want to increase the field\n``total_steps``, to simulate at least a few 100s of picoseconds.\n\nNB2: To converge a simulation of water at room temperature, you\ntypically need at least 32 beads. We will see later how to accelerate\nconvergence using a colored-noise thermostat, but you can try to\nmodify the input to check convergence with conventional PIMD\n\n"
      ]
    },
    {
      "cell_type": "markdown",
      "metadata": {},
      "source": [
        "i-PI and lammps should be run separately, and it is possible to\nlaunch separate lammps processes to parallelize the evaluation over\nthe beads. On the the command line, this amounts to launching\n\n```bash\ni-pi data/input_pimd.xml > log &\nsleep 2\nlmp -in data/in.lmp &\nlmp -in data/in.lmp &\n```\nNote how ``i-PI`` and ``LAMMPS`` are completely independent, and\ntherefore need a separate set of input files. The client-side communication\nin ``LAMMPS`` is described in the ``fix_ipi`` section, that matches the socket\nname and mode defined in the ``ffsocket`` field in the ``i-PI`` file.\n\nWe can launch the external processes from a Python script as follows\n\n"
      ]
    },
    {
      "cell_type": "code",
      "execution_count": null,
      "metadata": {
        "collapsed": false
      },
      "outputs": [],
      "source": [
        "ipi_process = subprocess.Popen([\"i-pi\", \"data/input_pimd.xml\"])\ntime.sleep(2)  # wait for i-PI to start\nlmp_process = [subprocess.Popen([\"lmp\", \"-in\", \"data/in.lmp\"]) for i in range(2)]"
      ]
    },
    {
      "cell_type": "markdown",
      "metadata": {},
      "source": [
        "If you run this in a notebook, you can go ahead and start loading\noutput files *before* i-PI and lammps have finished running, by\nskipping this cell\n\n"
      ]
    },
    {
      "cell_type": "code",
      "execution_count": null,
      "metadata": {
        "collapsed": false
      },
      "outputs": [],
      "source": [
        "ipi_process.wait()\nlmp_process[0].wait()\nlmp_process[1].wait()"
      ]
    },
    {
      "cell_type": "markdown",
      "metadata": {},
      "source": [
        "### Analyzing the simulation\n\nAfter the simulation has run, you can visualize and post-process the trajectory data.\nNote that i-PI prints a separate trajectory for each bead, as structural properties\ncan be computed averaging over the configurations of any of the beads.\n\n"
      ]
    },
    {
      "cell_type": "code",
      "execution_count": null,
      "metadata": {
        "collapsed": false
      },
      "outputs": [],
      "source": [
        "# drops first frame where all atoms overlap\noutput_data, output_desc = ipi.read_output(\"simulation.out\")\ntraj_data = [ipi.read_trajectory(f\"simulation.pos_{i}.xyz\")[1:] for i in range(8)]"
      ]
    },
    {
      "cell_type": "markdown",
      "metadata": {},
      "source": [
        "The simulation parameters are pushed at the limits: with the aggressive stochastic\nthermostatting and the high-frequency normal modes of the ring polymer, there are\nfairly large fluctuations of the conserved quantity. This is usually not affecting\nphysical observables, but if you see this level of drift in a production run, check\ncarefully for convergence and stability with a reduced time step.\n\n"
      ]
    },
    {
      "cell_type": "code",
      "execution_count": null,
      "metadata": {
        "collapsed": false
      },
      "outputs": [],
      "source": [
        "fix, ax = plt.subplots(1, 1, figsize=(4, 3), constrained_layout=True)\nax.plot(\n    output_data[\"time\"],\n    output_data[\"potential\"] - output_data[\"potential\"][0],\n    \"b-\",\n    label=\"Potential, $V$\",\n)\nax.plot(\n    output_data[\"time\"],\n    output_data[\"conserved\"] - output_data[\"conserved\"][0],\n    \"r-\",\n    label=\"Conserved, $H$\",\n)\nax.set_xlabel(r\"$t$ / ps\")\nax.set_ylabel(r\"energy / eV\")\nax.legend()\nplt.show()"
      ]
    },
    {
      "cell_type": "markdown",
      "metadata": {},
      "source": [
        "While the potential energy is simply the mean over the beads of the\nenergy of individual replicas, computing the kinetic energy requires\naveraging special quantities that involve also the correlations between beads.\nHere we compare two of these *estimators*: the 'thermodynamic' estimator becomes\nstatistically inefficient when increasing the number of beads, whereas the\n'centroid virial' estimator remains well-behaved. Note how quickly these estimators\nequilibrate to roughly their stationary value, much faster than the equilibration\nof the potential energy above. This is thanks to the ``pile_g`` thermostat\n(see [DOI:10.1063/1.3489925](http://doi.org/10.1063/1.3489925)) that is\noptimally coupled to the normal modes of the ring polymer.\n\n"
      ]
    },
    {
      "cell_type": "code",
      "execution_count": null,
      "metadata": {
        "collapsed": false
      },
      "outputs": [],
      "source": [
        "fix, ax = plt.subplots(1, 1, figsize=(4, 3), constrained_layout=True)\nax.plot(\n    output_data[\"time\"],\n    output_data[\"kinetic_cv\"],\n    \"b-\",\n    label=\"Centroid virial, $K_{CV}$\",\n)\nax.plot(\n    output_data[\"time\"],\n    output_data[\"kinetic_td\"],\n    \"r-\",\n    label=\"Thermodynamic, $K_{TD}$\",\n)\nax.set_xlabel(r\"$t$ / ps\")\nax.set_ylabel(r\"energy / eV\")\nax.legend()\nplt.show()"
      ]
    },
    {
      "cell_type": "markdown",
      "metadata": {},
      "source": [
        "You can also visualize the (very short) trajectory in a way that highlights the\nfast spreading out of the beads of the ring polymer. ``chemiscope`` provides a\nutility function to interleave the trajectories of the beads, forming a trajectory\nthat shows the connecttions between the replicas of each atom. Each atom and its\nconnections are color-coded.\n\n"
      ]
    },
    {
      "cell_type": "code",
      "execution_count": null,
      "metadata": {
        "collapsed": false
      },
      "outputs": [],
      "source": [
        "traj_pimd = chemiscope.ase_merge_pi_frames(traj_data)\n# we also tweak the visualization options, and then show the viewer\ntraj_pimd[\"shapes\"][\"paths\"][\"parameters\"][\"global\"][\"radius\"] = 0.05\ntraj_pimd[\"settings\"][\"structure\"][0].update(\n    dict(\n        atoms=False,\n        keepOrientation=True,\n        color={\"property\": \"bead_id\", \"palette\": \"hsv (periodic)\"},\n    )\n)\n\nchemiscope.show(**traj_pimd, mode=\"structure\")"
      ]
    },
    {
      "cell_type": "markdown",
      "metadata": {},
      "source": [
        "## Accelerating PIMD with a PIGLET thermostat\n\nThe simulations in the previous sections are very far from converged -- typically\none would need approximately 32 replicas to converge a simulation of\nroom-temperature water. To address this problem we will use a method based on\ngeneralized Langevin equations, called\n[PIGLET](http://doi.org/10.1103/PhysRevLett.109.100604)\n\nThe input file is ``input_piglet.xml``, that only differs by the definition of\nthe thermostat, that uses a ``nm_gle`` mode in which each normal mode\nof the ring polymer is attached to a different colored-noise Generalized Langevin\nequation. This makes it possible to converge exactly the simulation results with\na small number of replicas, and to accelerate greatly convergence for realistic\nsystems such as this. The thermostat parameters can be generated on\n[the GLE4MD website](https://tinyurl.com/4y2e45jx)\n\n\n"
      ]
    },
    {
      "cell_type": "code",
      "execution_count": null,
      "metadata": {
        "collapsed": false
      },
      "outputs": [],
      "source": [
        "ipi_process = subprocess.Popen([\"i-pi\", \"data/input_piglet.xml\"])\ntime.sleep(2)  # wait for i-PI to start\nlmp_process = [subprocess.Popen([\"lmp\", \"-in\", \"data/in.lmp\"]) for i in range(2)]\n\nipi_process.wait()\nlmp_process[0].wait()\nlmp_process[1].wait()"
      ]
    },
    {
      "cell_type": "markdown",
      "metadata": {},
      "source": [
        "The mean potential energy from the PIGLET trajectory is higher than that for the\nPIMD one, because it is closer to the converged value (try to run a PIMD trajectory\nwith 64 beads for comparison)\n\n"
      ]
    },
    {
      "cell_type": "code",
      "execution_count": null,
      "metadata": {
        "collapsed": false
      },
      "outputs": [],
      "source": [
        "# drops first frame\noutput_gle, desc_gle = ipi.read_output(\"simulation_piglet.out\")\ntraj_gle = [ipi.read_trajectory(f\"simulation_piglet.pos_{i}.xyz\")[1:] for i in range(8)]\n\nfig, ax = plt.subplots(1, 1, figsize=(4, 3), constrained_layout=True)\nax.plot(\n    output_data[\"time\"],\n    output_data[\"potential\"] - output_data[\"potential\"][0],\n    \"b--\",\n    label=\"PIMD\",\n)\nax.plot(\n    output_gle[\"time\"],\n    output_gle[\"potential\"] - output_gle[\"potential\"][0],\n    \"b-\",\n    label=\"PIGLET\",\n)\nax.set_xlabel(r\"$t$ / ps\")\nax.set_ylabel(r\"energy / eV\")\nax.legend()\nplt.show()"
      ]
    },
    {
      "cell_type": "markdown",
      "metadata": {},
      "source": [
        "However, you should be somewhat careful: PIGLET converges *some* but not all the\ncorrelations within a path. For instance, it is designed to converge the\ncentroid-virial estimator for the kinetic energy, but not the thermodynamic\nestimator. For the same reason, don't try to look at equilibration in terms of\nthe mean temperature: it won't match the target value, because PIGLET uses a\nLangevin equation that breaks the classical fluctuation-dissipation theorem, and\ngenerates a steady-state distribution that mimics quantum fluctuations.\n\n"
      ]
    },
    {
      "cell_type": "code",
      "execution_count": null,
      "metadata": {
        "collapsed": false
      },
      "outputs": [],
      "source": [
        "fix, ax = plt.subplots(1, 1, figsize=(4, 3), constrained_layout=True)\nax.plot(output_data[\"time\"], output_data[\"kinetic_cv\"], \"b--\", label=\"PIMD, $K_{CV}$\")\nax.plot(output_gle[\"time\"], output_gle[\"kinetic_cv\"], \"b\", label=\"PIGLET, $K_{CV}$\")\nax.plot(output_data[\"time\"], output_data[\"kinetic_td\"], \"r--\", label=\"PIMD, $K_{TD}$\")\nax.plot(output_gle[\"time\"], output_gle[\"kinetic_td\"], \"r\", label=\"PIGLET, $K_{TD}$\")\nax.set_xlabel(r\"$t$ / ps\")\nax.set_ylabel(r\"energy / eV\")\nax.legend()\nplt.show()"
      ]
    },
    {
      "cell_type": "markdown",
      "metadata": {},
      "source": [
        "### Kinetic energy tensors\n\nWhile we're at it, let's do something more complicated (and instructive).\nClassically, the momentum distribution of any atom is isotropic, so the\nkinetic energy tensor (KET) $\\mathbf{p}\\mathbf{p}^T/2m$ is a constant\ntimes the identity matrix. Quantum mechanically, the kinetic energy tensor\nhas more structure, that reflects the higher kinetic energy of particles\nalong directions with stiff bonds. We can compute a moving average of the\ncentroid virial estimator of the KET, and plot it to show the direction\nof anisotropy. Note that there are some subtleties connected with the\nevaluation of the moving average, see e.g.\n[DOI:10.1103/PhysRevLett.109.100604](http://doi.org/10.1103/PhysRevLett.109.100604)\n\n"
      ]
    },
    {
      "cell_type": "markdown",
      "metadata": {},
      "source": [
        "We first need to postprocess the components of the kinetic energy tensors\n(that i-PI prints out separating the diagonal and off-diagonal bits), averaging\nthem over the last 10 frames and combining them with the centroid configuration\nfrom the last frame in the trajectory.\n\n"
      ]
    },
    {
      "cell_type": "code",
      "execution_count": null,
      "metadata": {
        "collapsed": false
      },
      "outputs": [],
      "source": [
        "kinetic_cv = ipi.read_trajectory(\"simulation_piglet.kin.xyz\")[1:]\nkinetic_od = ipi.read_trajectory(\"simulation_piglet.kod.xyz\")[1:]\nkinetic_tens = np.hstack(\n    [\n        np.asarray([k.positions for k in kinetic_cv[-10:]]).mean(axis=0),\n        np.asarray([k.positions for k in kinetic_od[-10:]]).mean(axis=0),\n    ]\n)\n\ncentroid = traj_gle[-1][-1].copy()\ncentroid.positions = np.asarray([t[-1].positions for t in traj_gle]).mean(axis=0)\ncentroid.arrays[\"kinetic_cv\"] = kinetic_tens"
      ]
    },
    {
      "cell_type": "markdown",
      "metadata": {},
      "source": [
        "We can then view these in ``chemiscope``, setting the proper parameters to\nvisualize the ellipsoids associated with the KET. Note that some KETs have\nnegative eigenvalues, because we are averaging over a few frames, which is\ninsufficient to converge the estimator fully.\n\n"
      ]
    },
    {
      "cell_type": "code",
      "execution_count": null,
      "metadata": {
        "collapsed": false
      },
      "outputs": [],
      "source": [
        "ellipsoids = chemiscope.ase_tensors_to_ellipsoids(\n    [centroid], \"kinetic_cv\", scale=15, force_positive=True\n)\n\nchemiscope.show(\n    [centroid],\n    shapes={\"kinetic_cv\": ellipsoids},\n    mode=\"structure\",\n    settings=chemiscope.quick_settings(\n        structure_settings={\n            \"shape\": [\"kinetic_cv\"],\n            \"unitCell\": True,\n        }\n    ),\n)"
      ]
    }
  ],
  "metadata": {
    "kernelspec": {
      "display_name": "Python 3",
      "language": "python",
      "name": "python3"
    },
    "language_info": {
      "codemirror_mode": {
        "name": "ipython",
        "version": 3
      },
      "file_extension": ".py",
      "mimetype": "text/x-python",
      "name": "python",
      "nbconvert_exporter": "python",
      "pygments_lexer": "ipython3",
      "version": "3.11.14"
    }
  },
  "nbformat": 4,
  "nbformat_minor": 0
}