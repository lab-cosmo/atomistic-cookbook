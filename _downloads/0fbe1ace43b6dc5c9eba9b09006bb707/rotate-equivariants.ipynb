{
  "cells": [
    {
      "cell_type": "markdown",
      "metadata": {},
      "source": [
        "\n# Rotating equivariants\n\n:Authors:\n    Filippo Bigi [@frostedoyster](https://github.com/frostedoyster/);\n    Michelangelo Domina [@MichelangeloDomina](https://github.com/MichelangeloDomina/)\n\nThis example shows how to rotate equivariant properties of atomic structures\nusing the ``scipy`` and ``quaternionic`` libraries. The equivariant properties for\nthis example are computed by the ``featomic`` library.\n"
      ]
    },
    {
      "cell_type": "code",
      "execution_count": null,
      "metadata": {
        "collapsed": false
      },
      "outputs": [],
      "source": [
        "# sphinx_gallery_thumbnail_path = '../../examples/rotate-equivariants/rotate-equivariants.png'  # noqa: E501"
      ]
    },
    {
      "cell_type": "markdown",
      "metadata": {},
      "source": [
        "Import the necessary packages for this recipe\n\n"
      ]
    },
    {
      "cell_type": "code",
      "execution_count": null,
      "metadata": {
        "collapsed": false
      },
      "outputs": [],
      "source": [
        "import ase.build\nimport featomic\nimport metatensor\nimport numpy as np\nimport spherical\nfrom scipy.spatial.transform import Rotation"
      ]
    },
    {
      "cell_type": "markdown",
      "metadata": {},
      "source": [
        "## Introduction\nThe equivariant properties of atomic structures are properties that transform in a\nspecific way under the action of a group of symmetries. In our case, we are interested\nin the group of rotations in 3D space.\n\n<img src=\"file://rotate-equivariants.png\" align=\"center\">\n\n"
      ]
    },
    {
      "cell_type": "markdown",
      "metadata": {},
      "source": [
        "## The quaternionic library\nThe [quaternionic](https://quaternionic.readthedocs.io/en/latest/) library\nis a Python library for working with quaternions and much more. In our case,\nwe will use it to calculate Wigner D matrices, which are essential to rotate\nequivariant spherical tensors.\n\nThree remarks before beginning:\n- Scipy uses a different notation (``[x,y,z,w]``) for quaternions\n  from the one in quaternionic (``[x,y,z,w]``)\n\n- It is also useful to have a clear convention for the matrices that we use. Among the\n  most common cases we have the standard convention x-y-z from the left to right\n  and from the top to bottom. However, when dealing with irreducible components of the\n  angular momentum, we will use a -1, 0, 1 convention, that makes the Wigner\n  D-matrices more readable. When used in the context of real spherical harmonics, the\n  identification is realized by the following scheme:\n\n    + $y \\longleftrightarrow -1$\n    + $z \\longleftrightarrow 0$\n    + $x \\longleftrightarrow 1$\n\n  which then is represented by y-z-x convention.\n\n- If the only difference between two quaternions is their sign, they represent the\n  same rotation. When this happens, we can just check their scalar product: if it\n  is negative (and it should be -1 when this happens) then we can invert the sign\n  of one of the two quaternions.\n\n"
      ]
    },
    {
      "cell_type": "markdown",
      "metadata": {},
      "source": [
        "## Utility functions\nWe define a couple of utility functions to obtain orthogonal matrices that represent\nrotations in the 3D space. Here we use the `scipy.spatial.transform.Rotation` class\nto generate random orthogonal matrices with determinant equal to 1. This is done by\nmeans of the function\n\n"
      ]
    },
    {
      "cell_type": "code",
      "execution_count": null,
      "metadata": {
        "collapsed": false
      },
      "outputs": [],
      "source": [
        "def get_random_rotation():\n    return Rotation.random()\n\n\n# and we can test that the generated matrices are indeed orthogonal by\nrotation = get_random_rotation().as_matrix()\nassert np.allclose(rotation @ rotation.T, np.eye(3))\nprint(f\"The determinant is: {np.linalg.det(rotation):.3f}\")\n\n# Now we can define the function that generates the transformation matrix from the\n# standard (complex) spherical harmonics to the real spherical harmonics. This function\n# is given by the following code:\n\n\ndef complex_to_real_spherical_harmonics_transform(ell: int):\n    # Generates the transformation matrix from complex spherical harmonics\n    # to real spherical harmonics for a given l.\n    # Returns a transformation matrix of shape ((2l+1), (2l+1)).\n\n    if ell < 0 or not isinstance(ell, int):\n        raise ValueError(\"l must be a non-negative integer.\")\n\n    # The size of the transformation matrix is (2l+1) x (2l+1)\n    size = 2 * ell + 1\n    U = np.zeros((size, size), dtype=complex)\n\n    for m in range(-ell, ell + 1):\n        m_index = m + ell  # Index in the matrix\n        if m > 0:\n            # Real part of Y_{l}^{m}\n            U[m_index, ell + m] = 1 / np.sqrt(2) * (-1) ** m\n            U[m_index, ell - m] = 1 / np.sqrt(2)\n        elif m < 0:\n            # Imaginary part of Y_{l}^{|m|}\n            U[m_index, ell + abs(m)] = -1j / np.sqrt(2) * (-1) ** m\n            U[m_index, ell - abs(m)] = 1j / np.sqrt(2)\n        else:  # m == 0\n            # Y_{l}^{0} remains unchanged\n            U[m_index, ell] = 1\n\n    return U\n\n\n# This matrix must be unitary, as can be easily checked by direct evaluation\nfor ell in range(5):\n    U = complex_to_real_spherical_harmonics_transform(ell)\n    if np.allclose(U @ U.T.conj(), np.eye(2 * ell + 1)):\n        print(f\"For l = {ell}, the U matrix is unitary\")\n\n# This is a necesseary condition when we have a transformation matrix that leads to a\n# change of basis (in this case from the complex to the real representation of spherical\n# harmonics).\n# Finally, in order to address the difference in convention betqween the scipy and the\n# quaternionic libraries, we define the following function which allows to convert from\n# the former to the latter:\n\n\ndef scipy_quaternion_to_quaternionic(q_scipy):\n    # This function convert a quaternion obtained from the scipy library to the format\n    # used by the quaternionic library.\n    # Note: 'xyzw' is the format used by scipy.spatial.transform.Rotation\n    # while 'wxyz' is the format used by quaternionic.\n    qx, qy, qz, qw = q_scipy\n    q_quaternion = np.array([qw, qx, qy, qz])\n    return q_quaternion\n\n\n# As a last utility function, we define the utility function to convert from rotation\n# written in the y-z-x convention to rotations in the x-y-z convention.\ndef rotation_matrix_conversion_order(rotation_matrix):\n    \"\"\"\n    This function is used to convert a rotation matrix from the format (y, z, x)\n    to (x, y, z).\n\n    Note: 'xyz' is the format used by scipy.spatial.transform.Rotation\n    while 'yzx' is the format used by the spherical harmonics.\n    \"\"\"\n    converted_matrix = rotation_matrix[[2, 0, 1], :]\n    converted_matrix = converted_matrix[:, [2, 0, 1]]\n    return converted_matrix"
      ]
    },
    {
      "cell_type": "markdown",
      "metadata": {},
      "source": [
        "## Generating equivariants\n\nHere, we generate some equivariants for a water molecule using ``featomic``.\n\n"
      ]
    },
    {
      "cell_type": "code",
      "execution_count": null,
      "metadata": {
        "collapsed": false
      },
      "outputs": [],
      "source": [
        "# We first generate the structure of a water molecule...\nstructure = ase.build.molecule(\"H2O\")\n\n# ...and set the hyperparameters as required by ``featomic``\nhypers = {\n    \"cutoff\": {\n        \"radius\": 5.0,\n        \"smoothing\": {\"type\": \"ShiftedCosine\", \"width\": 0.5},\n    },\n    \"density\": {\n        \"type\": \"Gaussian\",\n        \"width\": 0.3,\n    },\n    \"basis\": {\n        \"type\": \"TensorProduct\",\n        \"max_angular\": 2,\n        \"radial\": {\"type\": \"Gto\", \"max_radial\": 3},\n    },\n}\n\n# We initialize the spherical expansion calculator and compute the features\nspherical_expansion_calculator = featomic.SphericalExpansion(**hypers)\nequivariants = spherical_expansion_calculator.compute(structure)\nprint(equivariants)"
      ]
    },
    {
      "cell_type": "markdown",
      "metadata": {},
      "source": [
        "the neighbor type labels to the properties. In this way, the only relevant keys will\nbe the o3_lambda and o3_sigma representing, respectively, the angular momentum channel\nand the parity under inversion of the corresponding spherical tensor.\n\n"
      ]
    },
    {
      "cell_type": "code",
      "execution_count": null,
      "metadata": {
        "collapsed": false
      },
      "outputs": [],
      "source": [
        "equivariants = equivariants.keys_to_samples(\"center_type\").keys_to_properties(\n    \"neighbor_type\"\n)\nprint(equivariants)"
      ]
    },
    {
      "cell_type": "markdown",
      "metadata": {},
      "source": [
        "For this exercise we will focus on the L = 2 case, so we drop the L = 0 and L = 1\nones, represented by the keys o3_lambda = 0 and o3_lambda = 1:\n\n"
      ]
    },
    {
      "cell_type": "code",
      "execution_count": null,
      "metadata": {
        "collapsed": false
      },
      "outputs": [],
      "source": [
        "equivariants = metatensor.drop_blocks(\n    equivariants, metatensor.Labels(names=[\"o3_lambda\"], values=np.array([[0], [1]]))\n)\nprint(equivariants)"
      ]
    },
    {
      "cell_type": "markdown",
      "metadata": {},
      "source": [
        "---------\nWe now have all the ingredients to generate rotations and apply them to the TensorMap.\nLet us start by generating a list of 100 random rotations\n\n"
      ]
    },
    {
      "cell_type": "code",
      "execution_count": null,
      "metadata": {
        "collapsed": false
      },
      "outputs": [],
      "source": [
        "n_rotations = 100\nrotations = [get_random_rotation() for _ in range(n_rotations)]\n\n# This list containts the rotation matrices that we will use to rotate both the\n# atomic positions and to generate the Wigner D matrices to rotate also the associated\n# equavariants.\n#\n# Let us first rotate the atomic structures by first generating a copy...\nrotated_structures = [structure.copy() for _ in range(n_rotations)]\n# ...and then applying the rotations to the positions\nfor rotated_structure, rotation in zip(rotated_structures, rotations):\n    # Here we rotate using the trasponse of the rotation matrices because we are\n    # applying the rotations from the left to the right.\n    rotated_structure.positions = (\n        rotated_structure.positions @ np.array(rotation.as_matrix()).T\n    )"
      ]
    },
    {
      "cell_type": "markdown",
      "metadata": {},
      "source": [
        "To rotate the equivariants, we need to generate the Wigner D matrices with the right\nangular momentum. We can do this by using the following function, which takes as input\nour set and rotation and the L channel characterizing the representation. The function\nreturns a list of Wigner D matrices, one for each rotation. Moreover, since we want\na real representation, we will use the formula\n\n\\begin{align}R_{mm'}^{l} = \\sum_{m_1m_2} U^{l*}_{mm_1}D_{m_1m_2}^{l} (U^T)^l_{m_2m'}\\end{align}\n\nwhere $U^l$ is the transformation matrix from the complex to the real spherical\ndefined above, $D^l$ is the complex Wigner D-matrix and $R^l$ is\nits real counterpart.\nPutting all together, the function is\n\n"
      ]
    },
    {
      "cell_type": "code",
      "execution_count": null,
      "metadata": {
        "collapsed": false
      },
      "outputs": [],
      "source": [
        "def WignerD_calculator(rotations, L):\n\n    # We initialize the Wigner calculator from the quaternionic library...\n    wigner = spherical.Wigner(L)\n    # ...and we also initialize the transformation matrix from complex to real\n    complex_to_real_transform = complex_to_real_spherical_harmonics_transform(L)\n\n    # We now generate the Wigner D matrices for each rotation and put them in a list\n    wigner_D_matrices = []\n    for rotation in rotations:\n        # Obtaining the quaternion associated with the rotation by means of the scipy\n        # libtary\n        quaternion_scipy = rotation.as_quat()\n        # Change convention to be consistent with the one of the quaternionic library\n        quaternion_quaternionic = scipy_quaternion_to_quaternionic(quaternion_scipy)\n        # applying the quaternion to the Wigner D to obtain the actual values\n        wigners_R = wigner.D(quaternion_quaternionic)\n\n        # We now extract the values of the Wigner D matrices and transform them to real\n        wigner_D_matrix_complex = np.zeros((2 * L + 1, 2 * L + 1), dtype=np.complex128)\n        for m in range(-L, L + 1):\n            for mp in range(-L, L + 1):\n                # This is the procedure that gives the correct indexing of the Wigner\n                # D matrices, note that the quaternionic library uses a convention such\n                # that the resulting matrix is the complex conjugate of the one that we\n                # expect from the rotation, and so we take the complex conjugation\n                wigner_D_matrix_complex[m + L, mp + L] = (\n                    wigners_R[wigner.Dindex(L, m, mp)]\n                ).conj()\n\n        # We finally transform everything in the real representation...\n        wigner_D_matrix = (\n            complex_to_real_transform.conj()\n            @ wigner_D_matrix_complex\n            @ complex_to_real_transform.T\n        )\n        # ...and check that we do not have imaginary contributions\n        assert np.allclose(wigner_D_matrix.imag, 0.0)  # check that the matrix is real\n\n        # We can now store the real part of the evaluated matrix and return the final\n        # list\n        wigner_D_matrices.append(wigner_D_matrix.real)\n\n    return wigner_D_matrices\n\n\n# To do a simple test of the function, we can generate the Wigner D matrices for the\n# case L = 1 and check that they are, indeed, the same as the function generating the\n# rotation matrices that we generated. Importantly, we need to change convention using\n# the utility function ``rotation_matrix_conversion_order``.\n\n# Initiaize the L for the comparison with the rotation matrices\nL = 1\n# Generate the Wigner D matrices\nwigner_D_matrices = WignerD_calculator(rotations, L)\n# Change convention to match the one of the rotation matrices\nwigner_D_matrices = [rotation_matrix_conversion_order(w) for w in wigner_D_matrices]\n\n# Check that the Wigner D matrices are the same as the rotation matrices\nfor w, rotation in zip(wigner_D_matrices, rotations):\n    assert np.allclose(w, rotation.as_matrix())\nprint(\"All the Wigner D matrices are the same as the rotation matrix for l=1.\")"
      ]
    },
    {
      "cell_type": "markdown",
      "metadata": {},
      "source": [
        "We can now apply the rotations to the equivariants. Since we are interested in the\nL = 2 case, we first evaluate the Wigner D matrices as above...\n\n"
      ]
    },
    {
      "cell_type": "code",
      "execution_count": null,
      "metadata": {
        "collapsed": false
      },
      "outputs": [],
      "source": [
        "L = 2\nwigner_D_matrices = WignerD_calculator(rotations, L)\n\n# ...and then we use them to rotate the equivariants. The results would be stored in a\n# list of TensorMaps, one for each rotation.\nrotated_equivariants = []\nfor idx, _ in enumerate(rotations):\n    # We obtaine the new values by applying the Wigner D matrices from the right (and\n    # thus we use their transpose)\n    new_values = (\n        equivariants.block().values.swapaxes(-1, -2) @ wigner_D_matrices[idx].T\n    ).swapaxes(-1, -2)\n\n    # We append the new TensorMap with the same metadata as the original but with the\n    # new, rotated, equivariants.\n    rotated_equivariants.append(\n        metatensor.TensorMap(\n            keys=equivariants.keys,\n            blocks=[\n                metatensor.TensorBlock(\n                    values=new_values,\n                    samples=equivariants.block().samples,\n                    components=equivariants.block().components,\n                    properties=equivariants.block().properties,\n                )\n            ],\n        )\n    )\n# Having constructed the list of TensorMaps, the only exercise left is to check that the\n# rotations is correct."
      ]
    },
    {
      "cell_type": "markdown",
      "metadata": {},
      "source": [
        "## Check the correctness of the rotation\n\nWe will now check the correctness of the rotation by comparing the rotated\nequivariants with equivariants computed from the rotated structures.\n\n"
      ]
    },
    {
      "cell_type": "code",
      "execution_count": null,
      "metadata": {
        "collapsed": false
      },
      "outputs": [],
      "source": [
        "# We follow the same procedure that we used when defining the TensorMap.\nrotated_equivariants_reference = []\nfor s in rotated_structures:\n    # We first compute the spherical expansion\n    eq = spherical_expansion_calculator.compute(s)\n    # We then send the center type labels to the samples and the neighbor type labels\n    # in order to have only o3_lambda and o3_sigma as keys\n    eq = eq.keys_to_samples(\"center_type\").keys_to_properties(\"neighbor_type\")\n    # We drop the L = 0 and L = 1 blocks, by dropping o3_lambda = 0 and o3_lambda = 1\n    eq = metatensor.drop_blocks(\n        eq, metatensor.Labels(names=[\"o3_lambda\"], values=np.array([[0], [1]]))\n    )\n    # and finally we keep only the L = 2 blocks to a list\n    rotated_equivariants_reference.append(eq)\n\n# We can now check that the rotated equivariants are the same as the reference ones\nfor re1, re2 in zip(rotated_equivariants, rotated_equivariants_reference):\n    assert metatensor.allclose(re1, re2)\nprint(\"All the rotated equivariants are the same as the reference ones!\")\n\n# Which shows that our rotation are indeed correct!"
      ]
    }
  ],
  "metadata": {
    "kernelspec": {
      "display_name": "Python 3",
      "language": "python",
      "name": "python3"
    },
    "language_info": {
      "codemirror_mode": {
        "name": "ipython",
        "version": 3
      },
      "file_extension": ".py",
      "mimetype": "text/x-python",
      "name": "python",
      "nbconvert_exporter": "python",
      "pygments_lexer": "ipython3",
      "version": "3.11.14"
    }
  },
  "nbformat": 4,
  "nbformat_minor": 0
}