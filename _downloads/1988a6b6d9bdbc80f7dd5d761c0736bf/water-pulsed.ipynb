{
  "cells": [
    {
      "cell_type": "markdown",
      "metadata": {},
      "source": [
        "\n# Water orientation in a pulsed electric field\n\n:Authors: Philip Loche [@PicoCentauri](https://github.com/picocentauri)\n\nEnergy dissipation in water is very fast and more efficient than in many other liquids.\nThis behavior is commonly attributed to the intermolecular interactions associated with\nhydrogen bonding. This effect has been studied intensively by experiments, ab initio,\nand classical simulations in the work by [Elgabarty et al.](https://advances.sciencemag.org/content/6/17/eaay7074). Here, we will re run some of\nthe classical force field molecular dynamics (MD) simulations of the paper using the\nGROMACS package to compute the timeseries of the dipole moments as well as the energy.\n\n.. note ::\n\n    We will only run a single simulation/pulse. To get enough statistics for clear\n    results as in the paper, one has to run around ~10,000 pulses.\n\nWe start by loading the required packages. The base tool for loading trajectories will\nbe ``MDAnalysis``, and for computing the dipole moment, we will use ``MAICoS``.\n"
      ]
    },
    {
      "cell_type": "code",
      "execution_count": null,
      "metadata": {
        "collapsed": false
      },
      "outputs": [],
      "source": [
        "import subprocess\n\nimport maicos\nimport matplotlib.pyplot as plt\nimport MDAnalysis as mda\nimport numpy as np"
      ]
    },
    {
      "cell_type": "markdown",
      "metadata": {},
      "source": [
        "## A simulated laser pulse\n\nWe will simulate a periodic water box at constant particle number, volume, and energy\n(NVE) in an alternating electric field according to\n\n\\begin{align}E(t) = E_0 \\exp \\left[ -\\frac{(t-t_0)^2}{2 \\sigma^2} \\right]\n            \\cos\\left[\\omega (t-t_0)\\right]\\end{align}\n\nwhere $E_0$ is the field strength, $\\omega$ is the angular frequency,\n$t_0$ is the time at the peak of the field strength, and $\\sigma$ is the\nwidth of the pulse. We define the electric pulse with this function.\n\n"
      ]
    },
    {
      "cell_type": "code",
      "execution_count": null,
      "metadata": {
        "collapsed": false
      },
      "outputs": [],
      "source": [
        "def Efield(t, E0, omega, t0, sigma):\n    \"\"\"An alternating and pulsed electric field.\"\"\"\n    E = E0 * np.cos(omega * (t - t0))\n    if sigma == 0:\n        return E\n    else:\n        return E * np.exp(-((t - t0) ** 2) / (2 * sigma**2))"
      ]
    },
    {
      "cell_type": "markdown",
      "metadata": {},
      "source": [
        "We now plot the electric field over time using the same parameters as later in our\nsimulations.\n\n"
      ]
    },
    {
      "cell_type": "code",
      "execution_count": null,
      "metadata": {
        "collapsed": false
      },
      "outputs": [],
      "source": [
        "time = np.linspace(0, 10, 101)\nelectric_field = Efield(time, E0=0.5, omega=1.0, t0=5.0, sigma=0.5)\n\nplt.axhline(0, color=\"k\", linestyle=\"--\")\nplt.plot(time, electric_field)\nplt.xlabel(\"Time (ps)\")\nplt.ylabel(\"Electric Field (V/nm)\")\nplt.show()"
      ]
    },
    {
      "cell_type": "markdown",
      "metadata": {},
      "source": [
        "As you can see, the pulse lasts for roughly 2 ps, which is consistent with the\nexperimental findings.\n\n## Simulate a water box\n\nThe simulation system is a cubic box with a 5.5 nm edge length containing 5360 water\nmolecules. We first create the topology using the ``pdb2gmx`` tool with rigid SPC/E\nmolecules.\n\n"
      ]
    },
    {
      "cell_type": "code",
      "execution_count": null,
      "metadata": {
        "collapsed": false
      },
      "outputs": [],
      "source": [
        "subprocess.check_call(\n    [\"gmx\", \"pdb2gmx\", \"-f\", \"data/conf.gro.gz\", \"-ff\", \"amber99\", \"-water\", \"spce\"]\n)"
      ]
    },
    {
      "cell_type": "markdown",
      "metadata": {},
      "source": [
        "We use the AMBER99 force field even though we don't use any parameters besides the\ndefinitions of SPC/E. We will run a simulation based on MD parameter (mdp) saved in\nthe ``grompp.mdp`` file. The simulation will be run for 10 ps with a timestep of 2 fs.\nFor a detailed explanation of the parameters, refer to the [GROMACS documentation](https://manual.gromacs.org/current/user-guide/mdp-options.html). The electric field\npointing in the $x$ direction is defined at the very end with the\n``electric-field-x`` directive.\n\nBefore running the simulation, we use the GROMACS preprocessor (``grompp``) to create\nthe necessary tpr input file.\n\n"
      ]
    },
    {
      "cell_type": "code",
      "execution_count": null,
      "metadata": {
        "collapsed": false
      },
      "outputs": [],
      "source": [
        "subprocess.check_call([\"gmx\", \"grompp\", \"-f\", \"data/grompp.mdp\"])"
      ]
    },
    {
      "cell_type": "markdown",
      "metadata": {},
      "source": [
        "And run the simulation, which should take about 30 seconds to complete.\n\n"
      ]
    },
    {
      "cell_type": "code",
      "execution_count": null,
      "metadata": {
        "collapsed": false
      },
      "outputs": [],
      "source": [
        "subprocess.check_call([\"gmx\", \"mdrun\"])"
      ]
    },
    {
      "cell_type": "markdown",
      "metadata": {},
      "source": [
        "## Water orientation\n\nNow that we have the trajectory, we can load the positions and analyze the data.\n\n"
      ]
    },
    {
      "cell_type": "code",
      "execution_count": null,
      "metadata": {
        "collapsed": false
      },
      "outputs": [],
      "source": [
        "u = mda.Universe(\"topol.tpr\", \"traj_comp.xtc\")\n\nn_frames = u.trajectory.n_frames\nn_residues = u.atoms.residues.n_residues"
      ]
    },
    {
      "cell_type": "markdown",
      "metadata": {},
      "source": [
        "We define a helper function that provides a vector pointing in the x-direction for\nevery molecule in the system. For this simple example, the creation could be done\nmanually, but using a function makes it easily generalizable. Since our field points\nin the $x$ direction, we set ``pdim`` to 0.\n\n"
      ]
    },
    {
      "cell_type": "code",
      "execution_count": null,
      "metadata": {
        "collapsed": false
      },
      "outputs": [],
      "source": [
        "def get_unit_vectors(atomgroup: mda.AtomGroup, grouping: str):\n    return maicos.lib.util.unit_vectors_planar(\n        atomgroup=atomgroup, grouping=grouping, pdim=0\n    )"
      ]
    },
    {
      "cell_type": "markdown",
      "metadata": {},
      "source": [
        "We now define the arrays to store the data and run the analysis over the whole\ntrajectory to compute the self and collective contributions of the dipole orientation.\n\n"
      ]
    },
    {
      "cell_type": "code",
      "execution_count": null,
      "metadata": {
        "collapsed": false
      },
      "outputs": [],
      "source": [
        "time = np.empty(n_frames)\ncos_theta_i = np.empty(n_frames)\ncos_theta_ii = np.empty(n_frames)\ncos_theta_ij = np.empty(n_frames)\n\nfor i_ts, ts in enumerate(u.trajectory):\n    u.atoms.unwrap()\n\n    cos_theta = maicos.lib.weights.diporder_weights(\n        u.atoms,\n        grouping=\"molecules\",\n        order_parameter=\"cos_theta\",\n        get_unit_vectors=get_unit_vectors,\n    )\n    matrix = np.outer(cos_theta, cos_theta)\n\n    trace = matrix.trace()\n\n    time[i_ts] = ts.time\n    cos_theta_i[i_ts] = cos_theta.mean()\n    cos_theta_ii[i_ts] = trace / n_residues\n    cos_theta_ij[i_ts] = matrix.sum() - trace\n    cos_theta_ij[i_ts] /= n_residues**2 - n_residues"
      ]
    },
    {
      "cell_type": "markdown",
      "metadata": {},
      "source": [
        "We have all data and can plot the results in a shared figure\n\n"
      ]
    },
    {
      "cell_type": "code",
      "execution_count": null,
      "metadata": {
        "collapsed": false
      },
      "outputs": [],
      "source": [
        "fig, ax = plt.subplots(3)\nax[0].plot(time, cos_theta_i, label=\"cos_theta_i\")\nax[0].set_ylabel(r\"$\\langle \\cos(\\theta)_i \\rangle$\")\nax[1].plot(time, cos_theta_ii, label=\"cos_theta_ii\")\nax[1].set_ylabel(r\"$\\langle \\cos(\\theta)_{ii} \\rangle$\")\nax[2].plot(time, cos_theta_ij, label=\"cos_theta_ij\")\nax[2].set_ylabel(r\"$\\langle \\cos(\\theta)_{ij} \\rangle$\")\n\nfor a in ax:\n    axE = a.twinx()\n    axE.plot(time, electric_field, c=\"red\", ls=\"dashed\")\n    axE.set_ylabel(\"E (V/nm)\", color=\"red\")\n    axE.tick_params(\"y\", colors=\"r\", which=\"both\")\n\nax[-1].set_xlabel(\"Time (ps)\")\nfig.align_labels()"
      ]
    },
    {
      "cell_type": "markdown",
      "metadata": {},
      "source": [
        "We find that the reorientation of water molecules is influenced by the applied\nelectric field. Next, we will check the energy dissipation.\n\n## Energy over time\n\nMDAnalysis offers the ``EDRReader`` class to read energy data from GROMACS energy\nfiles and attach it to a trajectory.\n\n"
      ]
    },
    {
      "cell_type": "code",
      "execution_count": null,
      "metadata": {
        "collapsed": false
      },
      "outputs": [],
      "source": [
        "aux = mda.auxiliary.EDR.EDRReader(\"ener.edr\")"
      ]
    },
    {
      "cell_type": "markdown",
      "metadata": {},
      "source": [
        "To add this auxiliary data, we have to create a dictionary. This will be used to store\nthe data and access it later, while the values are the names of the properties in the\nedr file. ``aux.terms`` shows a list of all properties.\n\n"
      ]
    },
    {
      "cell_type": "code",
      "execution_count": null,
      "metadata": {
        "collapsed": false
      },
      "outputs": [],
      "source": [
        "u.trajectory.add_auxiliary(\n    {\"epot\": \"Potential\", \"etot\": \"Total Energy\", \"ekin\": \"Kinetic En.\"}, aux\n)\n\netot = np.zeros(len(u.trajectory))\nekin = np.zeros(len(u.trajectory))\nepot = np.zeros(len(u.trajectory))\n\nfor i_ts, ts in enumerate(u.trajectory):\n    etot[i_ts] = ts.aux[\"etot\"]\n    ekin[i_ts] = ts.aux[\"ekin\"]\n    epot[i_ts] = ts.aux[\"epot\"]"
      ]
    },
    {
      "cell_type": "markdown",
      "metadata": {},
      "source": [
        "We now plot the data and observe energy transfer in this NVE simulation\ndue to the applied pulse. As mentioned earlier, resolving the noisy data\nfully requires at least two to three orders of magnitude more simulations.\n\n"
      ]
    },
    {
      "cell_type": "code",
      "execution_count": null,
      "metadata": {
        "collapsed": false
      },
      "outputs": [],
      "source": [
        "fig, ax = plt.subplots(2, sharex=True)\nax[0].plot(time, ekin - ekin.mean(), label=\"Kinetic Energy\")\nax[0].plot(time, epot - epot.mean(), label=\"Potential Energy\")\nax[0].legend(loc=\"upper left\")\nax[0].set_ylabel(\"Energy (kJ/mol)\")\n\nax[1].plot(time, etot - etot[:10].mean(), label=\"Total Energy\")\nax[1].set_ylabel(\"Energy (kJ/mol)\")\nax[1].legend(loc=\"upper left\")\n\naxE = ax[1].twinx()\naxE.plot(time, electric_field**2, c=\"red\", ls=\"dashed\")\naxE.set_ylabel(\"E^2 (V/nm)\", color=\"red\")\naxE.tick_params(\"y\", colors=\"r\", which=\"both\")\n\nax[-1].set_xlabel(\"Time (ps)\")\n\nfig.align_labels()"
      ]
    }
  ],
  "metadata": {
    "kernelspec": {
      "display_name": "Python 3",
      "language": "python",
      "name": "python3"
    },
    "language_info": {
      "codemirror_mode": {
        "name": "ipython",
        "version": 3
      },
      "file_extension": ".py",
      "mimetype": "text/x-python",
      "name": "python",
      "nbconvert_exporter": "python",
      "pygments_lexer": "ipython3",
      "version": "3.12.12"
    }
  },
  "nbformat": 4,
  "nbformat_minor": 0
}