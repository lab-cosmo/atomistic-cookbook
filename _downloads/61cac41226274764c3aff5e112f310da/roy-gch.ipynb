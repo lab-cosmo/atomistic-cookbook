{
  "cells": [
    {
      "cell_type": "markdown",
      "metadata": {},
      "source": [
        "\n# Generalized Convex Hull construction for the polymorphs of ROY\n\n:Authors: Michele Ceriotti [@ceriottm](https://github.com/ceriottm/)\n\nThis notebook analyzes the structures of 264 polymorphs of ROY, from\n[Beran et Al, Chemical Science (2022)](https://doi.org/10.1039/D1SC06074K)_,\ncomparing the conventional density-energy convex hull with a Generalized Convex Hull\n(GCH) analysis (see [Anelli et al., Phys. Rev. Materials\n(2018)](https://doi.org/10.1103/PhysRevMaterials.2.103804)_).\nIt uses features computed with [featomic](https://github.com/metatensor/featomic)_\nand uses the directional convex hull function from\n[scikit-matter](https://github.com/lab-cosmo/scikit-matter)_\nto make the figure.\n\nThe GCH construction aims at determining structures, among a collection of\ncandidate configurations, that are stable or have the potential of being stabilized\nby appropriate thermodynamic boundary conditions (pressure, doping, external fields,\n...). It does so by using microscopic descriptors to determine the diversity of\nstructures, and assumes that configurations that are stable relative to other\nconfigurations with similar descriptors are those that could be made\n\"locally\" stable by suitable synthesis conditions.\n"
      ]
    },
    {
      "cell_type": "code",
      "execution_count": null,
      "metadata": {
        "collapsed": false
      },
      "outputs": [],
      "source": [
        "# sphinx_gallery_thumbnail_number = 3\nimport bz2\n\nimport chemiscope\nimport matplotlib.tri\nimport numpy as np\nfrom ase.io import read\nfrom featomic import SoapPowerSpectrum\nfrom matplotlib import pyplot as plt\nfrom metatensor import mean_over_samples\nfrom sklearn.decomposition import PCA\nfrom skmatter.sample_selection import DirectionalConvexHull"
      ]
    },
    {
      "cell_type": "markdown",
      "metadata": {},
      "source": [
        "Loads the structures (that also contain properties in the ``info`` field)\n\n"
      ]
    },
    {
      "cell_type": "code",
      "execution_count": null,
      "metadata": {
        "collapsed": false
      },
      "outputs": [],
      "source": [
        "structures = read(\n    bz2.open(\"data/beran_roy_structures.xyz.bz2\", \"rt\"), \":\", format=\"extxyz\"\n)\n\ndensity = np.array([s.info[\"density\"] for s in structures])\nenergy = np.array([s.info[\"energy\"] for s in structures])\nstructype = np.array([s.info[\"type\"] for s in structures])\niknown = np.where(structype == \"known\")[0]\niothers = np.where(structype != \"known\")[0]"
      ]
    },
    {
      "cell_type": "markdown",
      "metadata": {},
      "source": [
        "## Energy-density hull\n\nThe Directional Convex Hull routines can be used to compute a\nconventional density-energy hull (see\n[Hautier (2014)](http://doi.org/10.1007/128_2013_486) for a pedagogic\nintroduction to the convex hull construction in the context\nof atomistic simulations).\n\n"
      ]
    },
    {
      "cell_type": "code",
      "execution_count": null,
      "metadata": {
        "collapsed": false
      },
      "outputs": [],
      "source": [
        "dch_builder = DirectionalConvexHull(low_dim_idx=[0])\ndch_builder.fit(density.reshape(-1, 1), energy)"
      ]
    },
    {
      "cell_type": "markdown",
      "metadata": {},
      "source": [
        "We can get the indices of the selection, and compute the distance from\nthe hull\n\n"
      ]
    },
    {
      "cell_type": "code",
      "execution_count": null,
      "metadata": {
        "collapsed": false
      },
      "outputs": [],
      "source": [
        "sel = dch_builder.selected_idx_\ndch_dist = dch_builder.score_samples(density.reshape(-1, 1), energy)"
      ]
    },
    {
      "cell_type": "markdown",
      "metadata": {},
      "source": [
        "### Hull energies\n\nStructures on the hull are stable with respect to synthesis at constant\nmolar volume. Any other structure would lower the energy by decomposing\ninto a mixture of the two nearest structures along the hull. Given that\nthe lattice energy is an imperfect proxy for the free energy, and that\nsynthesis can be performed in other ways than by fixing the density,\nstructures that are not exactly on the hull might also be stable. One\ncan compute a \u201chull energy\u201d as an indication of how close these\nstructures are to being stable.\n\n"
      ]
    },
    {
      "cell_type": "code",
      "execution_count": null,
      "metadata": {
        "collapsed": false
      },
      "outputs": [],
      "source": [
        "fig, ax = plt.subplots(1, 1, figsize=(6, 4))\nax.scatter(density, energy, c=dch_dist, marker=\".\")\nssel = sel[np.argsort(density[sel])]\nax.plot(density[ssel], energy[ssel], \"k--\")\nax.set_xlabel(\"density / g/cm$^3$\")\nax.set_ylabel(\"energy / kJ/mol\")\nplt.show()\n\nprint(\n    f\"Mean hull energy for 'known' stable structures {dch_dist[iknown].mean()} kJ/mol\"\n)\nprint(f\"Mean hull energy for 'other' structures {dch_dist[iothers].mean()} kJ/mol\")"
      ]
    },
    {
      "cell_type": "markdown",
      "metadata": {},
      "source": [
        "### Interactive visualization\n\nYou can also visualize the hull with ``chemiscope`` in a juptyer notebook.\n\n\n"
      ]
    },
    {
      "cell_type": "code",
      "execution_count": null,
      "metadata": {
        "collapsed": false
      },
      "outputs": [],
      "source": [
        "cs = chemiscope.show(\n    structures,\n    dict(\n        energy=energy,\n        density=density,\n        hull_energy=dch_dist,\n        structure_type=structype,\n    ),\n    settings={\n        \"map\": {\n            \"x\": {\"property\": \"density\"},\n            \"y\": {\"property\": \"energy\"},\n            \"color\": {\"property\": \"hull_energy\"},\n            \"symbol\": \"structure_type\",\n            \"size\": {\"factor\": 35},\n        },\n        \"structure\": [{\"unitCell\": True, \"supercell\": {\"0\": 2, \"1\": 2, \"2\": 2}}],\n    },\n)\ncs"
      ]
    },
    {
      "cell_type": "markdown",
      "metadata": {},
      "source": [
        "Save chemiscope file in a format that can be shared and viewed on `chemiscope.org`\n\n"
      ]
    },
    {
      "cell_type": "code",
      "execution_count": null,
      "metadata": {
        "collapsed": false
      },
      "outputs": [],
      "source": [
        "cs.save(\"roy_ch.json.gz\")"
      ]
    },
    {
      "cell_type": "markdown",
      "metadata": {},
      "source": [
        "## Generalized Convex Hull\n\nA GCH is a similar construction, in which generic structural descriptors\nare used in lieu of composition, density or other thermodynamic\nconstraints. The idea is that configurations that are found close to the\nGCH are locally stable with respect to structurally-similar\nconfigurations. In other terms, one can hope to find a thermodynamic\nconstraint (i.e.\u00a0synthesis conditions) that act differently on these\nstructures in comparison with the others, and may potentially stabilize\nthem.\n\n\n"
      ]
    },
    {
      "cell_type": "markdown",
      "metadata": {},
      "source": [
        "### Compute structural descriptors\n\nA first step is to computes suitable ML descriptors. Here we have used\n``featomic`` to evaluate average SOAP features for the structures.\nIf you don't want to install these dependencies for this example you\ncan also use the pre-computed features (that are part of skmatter, see\nload_roy_dataset), but you can use this as a stub to apply this analysis\nto other chemical systems\n\n"
      ]
    },
    {
      "cell_type": "code",
      "execution_count": null,
      "metadata": {
        "collapsed": false
      },
      "outputs": [],
      "source": [
        "# from skmatter.datasets import load_roy_dataset\n# features = load_roy_dataset()[\"features\"]\n\nhypers = {\n    \"cutoff\": {\"radius\": 4, \"smoothing\": {\"type\": \"ShiftedCosine\", \"width\": 0.5}},\n    \"density\": {\"type\": \"Gaussian\", \"width\": 0.7},\n    \"basis\": {\n        \"type\": \"TensorProduct\",\n        \"max_angular\": 4,\n        \"radial\": {\"type\": \"Gto\", \"max_radial\": 5},\n    },\n}\ncalculator = SoapPowerSpectrum(**hypers)\nrho2i = calculator.compute(structures)\nrho2i = rho2i.keys_to_samples([\"center_type\"]).keys_to_properties(\n    [\"neighbor_1_type\", \"neighbor_2_type\"]\n)\nrho2i_structure = mean_over_samples(rho2i, sample_names=[\"atom\", \"center_type\"])\nnp.savez(\"roy_features.npz\", feats=rho2i_structure.block(0).values)\n\nfeatures = rho2i_structure.block(0).values"
      ]
    },
    {
      "cell_type": "markdown",
      "metadata": {},
      "source": [
        "### PCA projection\n\nComputes PCA projection to generate low-dimensional descriptors that\nreflect structural diversity. Any other dimensionality reduction scheme\ncould be used in a similar fashion.\n\n"
      ]
    },
    {
      "cell_type": "code",
      "execution_count": null,
      "metadata": {
        "collapsed": false
      },
      "outputs": [],
      "source": [
        "pca = PCA(n_components=4)\npca_features = pca.fit_transform(features)\n\nfig, ax = plt.subplots(1, 1, figsize=(6, 4))\nscatter = ax.scatter(pca_features[:, 0], pca_features[:, 1], c=energy)\nax.set_xlabel(\"PCA[1]\")\nax.set_ylabel(\"PCA[2]\")\ncbar = fig.colorbar(scatter, ax=ax)\ncbar.set_label(\"energy / kJ/mol\")\nplt.show()"
      ]
    },
    {
      "cell_type": "markdown",
      "metadata": {},
      "source": [
        "### Builds the Generalized Convex Hull\n\nBuilds a convex hull on the first two PCA features\n\n"
      ]
    },
    {
      "cell_type": "code",
      "execution_count": null,
      "metadata": {
        "collapsed": false
      },
      "outputs": [],
      "source": [
        "dch_builder = DirectionalConvexHull(low_dim_idx=[0, 1])\ndch_builder.fit(pca_features, energy)\nsel = dch_builder.selected_idx_\ndch_dist = dch_builder.score_samples(pca_features, energy)"
      ]
    },
    {
      "cell_type": "markdown",
      "metadata": {},
      "source": [
        "Generates a 3D Plot\n\n\n"
      ]
    },
    {
      "cell_type": "code",
      "execution_count": null,
      "metadata": {
        "collapsed": false
      },
      "outputs": [],
      "source": [
        "triang = matplotlib.tri.Triangulation(pca_features[sel, 0], pca_features[sel, 1])\nfig = plt.figure(figsize=(7, 5), tight_layout=True)\nax = fig.add_subplot(projection=\"3d\")\nax.plot_trisurf(triang, energy[sel], color=\"gray\")\nax.scatter(pca_features[:, 0], pca_features[:, 1], energy, c=dch_dist)\nax.set_xlabel(\"PCA[1]\")\nax.set_ylabel(\"PCA[2]\")\nax.set_zlabel(\"energy / kJ/mol\\n \\n\", labelpad=11)\nax.view_init(25, 110)\nplt.show()"
      ]
    },
    {
      "cell_type": "markdown",
      "metadata": {},
      "source": [
        "The GCH construction improves the separation between the hull energies\nof \u201cknown\u201d and hypothetical polymorphs (compare with the density-energy\nvalues above)\n\n"
      ]
    },
    {
      "cell_type": "code",
      "execution_count": null,
      "metadata": {
        "collapsed": false
      },
      "outputs": [],
      "source": [
        "print(\n    f\"Mean hull energy for 'known' stable structures {dch_dist[iknown].mean()} kJ/mol\"\n)\nprint(f\"Mean hull energy for 'other' structures {dch_dist[iothers].mean()} kJ/mol\")"
      ]
    },
    {
      "cell_type": "markdown",
      "metadata": {},
      "source": [
        "Visualize in a ``chemiscope`` widget\n\n"
      ]
    },
    {
      "cell_type": "code",
      "execution_count": null,
      "metadata": {
        "collapsed": false
      },
      "outputs": [],
      "source": [
        "for i, f in enumerate(structures):\n    for j in range(len(pca_features[i])):\n        f.info[\"pca_\" + str(j + 1)] = pca_features[i, j]\nstructure_properties = chemiscope.extract_properties(structures)\nstructure_properties.update({\"per_atom_energy\": energy, \"hull_energy\": dch_dist})\n\n# You can save a chemiscope file to disk (for viewing on chemiscope.org)\n\nchemiscope.write_input(\n    \"roy_gch.json.gz\",\n    frames=structures,\n    properties=structure_properties,\n    meta={\n        \"name\": \"GCH for ROY polymorphs\",\n        \"description\": \"\"\"\nDemonstration of the Generalized Convex Hull construction for\npolymorphs of the ROY molecule. Molecules that are closest to\nthe hull built on PCA-based structural descriptors and having the\ninternal energy predicted by electronic-structure calculations as\nthe z axis are the most thermodynamically stable. Indeed most of the\nknown polymorphs of ROY are on (or very close) to this hull.\n\"\"\",\n        \"authors\": [\"Michele Ceriotti <michele.ceriotti@gmail.com>\"],\n        \"references\": [\n            'A. Anelli, E. A. Engel, C. J. Pickard, and M. Ceriotti, \\\n            \"Generalized convex hull construction for materials discovery,\" \\\n            Physical Review Materials 2(10), 103804 (2018).',\n            'G. J. O. Beran, I. J. Sugden, C. Greenwell, D. H. Bowskill, \\\n            C. C. Pantelides, and C. S. Adjiman, \"How many more polymorphs of \\\n            ROY remain undiscovered,\" Chem. Sci. 13(5), 1288\u20131297 (2022).',\n        ],\n    },\n    settings={\n        \"map\": {\n            \"x\": {\"property\": \"pca_1\"},\n            \"y\": {\"property\": \"pca_2\"},\n            \"z\": {\"property\": \"energy\"},\n            \"symbol\": \"type\",\n            \"color\": {\"property\": \"hull_energy\"},\n            \"size\": {\n                \"factor\": 35,\n                \"mode\": \"linear\",\n                \"property\": \"\",\n                \"reverse\": True,\n            },\n        },\n        \"structure\": [\n            {\n                \"bonds\": True,\n                \"unitCell\": True,\n                \"keepOrientation\": True,\n            }\n        ],\n    },\n)"
      ]
    },
    {
      "cell_type": "markdown",
      "metadata": {},
      "source": [
        "... and also load one as an interactive viewer\n\n"
      ]
    },
    {
      "cell_type": "code",
      "execution_count": null,
      "metadata": {
        "collapsed": false
      },
      "outputs": [],
      "source": [
        "chemiscope.show_input(\"roy_gch.json.gz\")"
      ]
    }
  ],
  "metadata": {
    "kernelspec": {
      "display_name": "Python 3",
      "language": "python",
      "name": "python3"
    },
    "language_info": {
      "codemirror_mode": {
        "name": "ipython",
        "version": 3
      },
      "file_extension": ".py",
      "mimetype": "text/x-python",
      "name": "python",
      "nbconvert_exporter": "python",
      "pygments_lexer": "ipython3",
      "version": "3.11.14"
    }
  },
  "nbformat": 4,
  "nbformat_minor": 0
}