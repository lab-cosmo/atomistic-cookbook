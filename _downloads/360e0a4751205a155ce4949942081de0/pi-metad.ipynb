{
  "cells": [
    {
      "cell_type": "markdown",
      "metadata": {},
      "source": [
        "\n# Path integral metadynamics\n\n:Authors: Michele Ceriotti [@ceriottm](https://github.com/ceriottm/),\n          Guillaume Fraux [@luthaf](https://github.com/luthaf/)\n\nThis example shows how to run a free-energy sampling calculation that\ncombines path integral molecular dynamics to model nuclear quantum effects\nand metadynamics to accelerate sampling of the high-free-energy regions.\n\nThe rather complicated setup combines [i-PI](http://ipi-code.org)\nto perform path integral\nMD, its built-in driver to compute energy and forces for the Zundel\n$\\mathrm{H_5O_2^+}$ cation, and [PLUMED](http://plumed.org/)\nto perform metadynamics.\nIf you want to see an example in a more realistic scenario, you can look at\n[this paper (Rossi et al., JCTC (2020))](http://doi.org/10.1021/acs.jctc.0c00362),\nin which this\nmethodology is used to simulate the decomposition of methanesulphonic\nacid in a solution of phenol and hydrogen peroxide.\n\nNote also that, in order to keep the execution time of this example as\nlow as possible, several parameters are set to values that would not be\nsuitable for an accurate, converged simulation.\nThey will be highlighted and more reasonable values will be provided.\n\"High-quality\" runs can also be realized substituting the input files\nused in this example with those labeled with the ``_hiq`` suffix, that\nare also provided in the ``data/`` folder.\n"
      ]
    },
    {
      "cell_type": "code",
      "execution_count": null,
      "metadata": {
        "collapsed": false
      },
      "outputs": [],
      "source": [
        "import bz2\nimport os\nimport subprocess\nimport time\nimport xml.etree.ElementTree as ET\n\nimport ase\nimport ase.io\nimport chemiscope\nimport ipi\nimport matplotlib.pyplot as plt\nimport numpy as np"
      ]
    },
    {
      "cell_type": "markdown",
      "metadata": {},
      "source": [
        "## Metadynamics for the Zundel cation\n\nMetadynamics is a method to accelerate sampling of rare events - microscopic processes\nthat are too infrequent to be observed over the time scale (ns-\u00b5s) accessible to\nmolecular dynamics simulations. You can read one of the many excellent reviews\non metadynamics (see e.g.\n[Bussi and Branduardi (2015)](https://doi.org/10.1002/9781118889886.ch1)),\nor follow a\n[lecture from the PLUMED masterclass](https://www.plumed-tutorials.org/lessons/21/004/data/NAVIGATION.html).\nIn short, during a metadynamics simulation an adaptive biasing potential is\nbuilt as a superimposition of Gaussians centered over configurations that have\nbeen previously visited by the trajectory. This discourages the system from remaining\nin high-probability configurations and accelerates sampling of free-energy barriers.\n\n.. figure:: metad-scheme.png\n   :align: center\n   :width: 600px\n\n   A schematic representation of how metadynamics work by adaptively building\n   a repulsive bias based on the trajectory of a molecule, compensating for\n   low-energy regions in the free energy surface.\n\nCrucially, the bias is *not* built relative to the Cartesian coordinates of the atoms,\nbut relative to a lower-dimensional description of the system (so-called collective\nvariables) that are suited to describe the processes being studied.\n\n"
      ]
    },
    {
      "cell_type": "markdown",
      "metadata": {},
      "source": [
        "The Zundel cation $\\mathrm{H_5O_2^+}$ is one of the limiting\nstructures of the solvated proton, and in the gas phase leads to a\nstable structure, with the additional proton shared between two water\nmolecules (see the structure below).\nWe will use a potential fitted on high-end quantum-chemistry calculations\n[Huang et al. (2005)](http://doi.org/10.1063/1.1834500) to compute energy\nand forces acting on the atoms.\n\n"
      ]
    },
    {
      "cell_type": "code",
      "execution_count": null,
      "metadata": {
        "collapsed": false
      },
      "outputs": [],
      "source": [
        "zundel = ase.io.read(\"data/h5o2+.xyz\", \":\")\nchemiscope.show(frames=zundel, mode=\"structure\")"
      ]
    },
    {
      "cell_type": "markdown",
      "metadata": {},
      "source": [
        "As the two water molecules are separated, the proton remains attached\nto one of the two, effectively leading to a dissociated\n$\\mathrm{H_2O+H_3O^+}$ configuration. Thus, two natural\ncoordinates to describe the physics of this system are the distance\nbetween the O atoms, and the difference in coordination number of\nthe two O atoms, which is 0 for a shared proton and \u00b11 for the\ndissociated system.\n\n"
      ]
    },
    {
      "cell_type": "markdown",
      "metadata": {},
      "source": [
        "## Running metadynamics calculations with ``i-PI`` and ``PLUMED``\n\nThe client-server architecture [i-PI](http://ipi-code.org) is based on makes it easy\nto combine multiple programs to realize complicated simulation workflows.\nIn this case we will use an implementation of the Zundel potential in a simple\ndriver code that is available in the i-PI repository, and use\n[PLUMED](http://plumed.org/) to compute collective variables and build\nthe adaptive bias. We will then perform some post-processing to\nestimate the free energy.\n\n"
      ]
    },
    {
      "cell_type": "markdown",
      "metadata": {},
      "source": [
        "### Installing the Python driver\n\ni-PI comes with a FORTRAN driver, which however has to be installed\nfrom source. We use a utility function to compile it. Note that this requires\na functioning build system with `gfortran` and `make`.\n\n"
      ]
    },
    {
      "cell_type": "code",
      "execution_count": null,
      "metadata": {
        "collapsed": false
      },
      "outputs": [],
      "source": [
        "ipi.install_driver()"
      ]
    },
    {
      "cell_type": "markdown",
      "metadata": {},
      "source": [
        "### Defining the molecular dynamics setup\nThe `input-md.xml` file defines the way the MD simulation is performed.\n\n"
      ]
    },
    {
      "cell_type": "code",
      "execution_count": null,
      "metadata": {
        "collapsed": false
      },
      "outputs": [],
      "source": [
        "xmlroot = ET.parse(\"data/input-md.xml\").getroot()"
      ]
    },
    {
      "cell_type": "markdown",
      "metadata": {},
      "source": [
        "The `<ffsocket>` block describe the way communication will occur with the\ndriver code\n\n"
      ]
    },
    {
      "cell_type": "code",
      "execution_count": null,
      "metadata": {
        "collapsed": false
      },
      "outputs": [],
      "source": [
        "print(\"   \" + ET.tostring(xmlroot.find(\"ffsocket\"), encoding=\"unicode\"))"
      ]
    },
    {
      "cell_type": "markdown",
      "metadata": {},
      "source": [
        "... and the `<motion>` section describes the MD setup.\nThis is a relatively standard NVT setup, with an efficient\ngeneralized Langevin equation thermostat (important to\ncompensate for the non-equilibrium nature of metadynamics).\nNote that the time step is rather long (the recommended value for\naqueous systems is around 0.5 fs). This is done to improve\nefficiency for this example, but you should check if it\naffects results in a realistic scenario.\n\n"
      ]
    },
    {
      "cell_type": "code",
      "execution_count": null,
      "metadata": {
        "collapsed": false
      },
      "outputs": [],
      "source": [
        "print(\"      \" + ET.tostring(xmlroot.find(\".//motion\"), encoding=\"unicode\"))"
      ]
    },
    {
      "cell_type": "markdown",
      "metadata": {},
      "source": [
        "The metadynamics setup requires three ingredients:\na `<ffplumed>` forcefield that defines what input to use\n(more on that later) and the file from which to initialize\nthe structural information (number of atoms, ...);\n`<plumed_extras>` is an advanced feature, available from\nPLUMED 2.10, that allows extracting internal variables\nfrom plumed and integrate them into the outputs of\ni-PI.\n\n"
      ]
    },
    {
      "cell_type": "code",
      "execution_count": null,
      "metadata": {
        "collapsed": false
      },
      "outputs": [],
      "source": [
        "print(\"   \" + ET.tostring(xmlroot.find(\"ffplumed\"), encoding=\"unicode\"))"
      ]
    },
    {
      "cell_type": "markdown",
      "metadata": {},
      "source": [
        "The `<ensemble>` section contains a `<bias>` key that\nspecifies that energy and forces from PLUMED should be\ntreated as a bias (so that e.g. are not included in the\npotential, even though they're used to propagate the\ntrajectory).\n\n"
      ]
    },
    {
      "cell_type": "code",
      "execution_count": null,
      "metadata": {
        "collapsed": false
      },
      "outputs": [],
      "source": [
        "print(\"      \" + ET.tostring(xmlroot.find(\".//ensemble\"), encoding=\"unicode\"))\n\n# The `<smotion>` section contains a `<metad>` class that\n# instructs i-PI to call the PLUMED action that adds hills\n# along the trajectory.\n\nprint(\"  \" + ET.tostring(xmlroot.find(\"smotion\"), encoding=\"unicode\"))"
      ]
    },
    {
      "cell_type": "markdown",
      "metadata": {},
      "source": [
        "### CVs and metadynamics\n\nThe calculation of the collective variables and the\nmetadynamics bias is delegated to PLUMED, and controlled by\na separate `plumed-md.dat` input file.\nWithout going in detail into the syntax, one can recognize the\ncalculation of the distance between the O atoms `doo`,\nthe coordination of the two oxygens `co1` and `co2`,\nand the difference between the two, `dc`.\nThe `METAD` action specifies the CVs to be used, the pace of\nhill depositon (which is way too frequent here, but suitable for\nthis example), the width along the two CVs and the initial\nheight of the repulsive Gaussians (which are both too large to\nguarantee high resolution in CV and energy). The `BIASFACTOR` keyword specifies\nthat the height of the hills will be progressively reduced\naccording to the \"well-tempered metadynamics\" protocol, see\n[Barducci et al., Phys. Rev. Lett. (2008)](http://doi.org/10.1103/PhysRevLett.100.020603).\nA repulsive static bias (`UPPER_WALLS`) prevents complete dissociation of the\ncation by limiting the range of the O-O distance.\n\n"
      ]
    },
    {
      "cell_type": "code",
      "execution_count": null,
      "metadata": {
        "collapsed": false
      },
      "outputs": [],
      "source": [
        "with open(\"data/plumed-md.dat\", \"r\") as file:\n    plumed_dat = file.read()\nprint(plumed_dat)"
      ]
    },
    {
      "cell_type": "markdown",
      "metadata": {},
      "source": [
        "### Running the simulations\n\nNow we can launch the actual calculations. On the the command line,\nthis requires launching i-PI first, and then the built-in driver,\nspecifying the appropriate communication mode, and the `zundel` potential.\nPLUMED is called from within i-PI as a library, so there is no need to\nlaunch a separate process. Note that the Zundel potential requires some data\nfiles, with a hard-coded location in the current working directory,\nwhich is why the driver should be run from within the ``data/`` folder.\n\n```bash\ni-pi data/input-md.xml > log &\nsleep 2\ncd data; i-pi-driver -u -a zundel -m zundel\n```\nThe same can be achieved from Python using ``subprocess.Popen``\n\n"
      ]
    },
    {
      "cell_type": "code",
      "execution_count": null,
      "metadata": {
        "collapsed": false
      },
      "outputs": [],
      "source": [
        "ipi_process = None\nif not os.path.exists(\"meta-md.out\"):\n    # don't rerun if the outputs already exist\n    ipi_process = subprocess.Popen([\"i-pi\", \"data/input-md.xml\"])\n    time.sleep(2)  # wait for i-PI to start\n    driver_process = [\n        subprocess.Popen(\n            [\"i-pi-driver\", \"-u\", \"-a\", \"zundel\", \"-m\", \"zundel\"], cwd=\"data/\"\n        )\n        for i in range(1)\n    ]"
      ]
    },
    {
      "cell_type": "markdown",
      "metadata": {},
      "source": [
        "If you run this in a notebook, you can go ahead and start loading\noutput files *before* i-PI has finished running by skipping this cell\n\n"
      ]
    },
    {
      "cell_type": "code",
      "execution_count": null,
      "metadata": {
        "collapsed": false
      },
      "outputs": [],
      "source": [
        "# wait for simulations to finish\nif ipi_process is not None:\n    ipi_process.wait()\n    for process in driver_process:\n        process.wait()"
      ]
    },
    {
      "cell_type": "markdown",
      "metadata": {},
      "source": [
        "### Trajectory post-processing\n\nWe can now post-process the simulation to see metadynamics in action.\n\nFirst, we read the trajectory outputs. Note that these have all been\nprinted with the same stride\n\n"
      ]
    },
    {
      "cell_type": "code",
      "execution_count": null,
      "metadata": {
        "collapsed": false
      },
      "outputs": [],
      "source": [
        "output_data, output_desc = ipi.read_output(\"meta-md.out\")\ncolvar_data = ipi.read_trajectory(\"meta-md.colvar_0\", format=\"extras\")[\n    \"doo,dc,mtd.bias\"\n]\ntraj_data = ipi.read_trajectory(\"meta-md.pos_0.xyz\")"
      ]
    },
    {
      "cell_type": "markdown",
      "metadata": {},
      "source": [
        "then, assemble a visualization\n\n"
      ]
    },
    {
      "cell_type": "code",
      "execution_count": null,
      "metadata": {
        "collapsed": false
      },
      "outputs": [],
      "source": [
        "chemiscope.show(\n    frames=traj_data,\n    properties=dict(\n        d_OO=10 * colvar_data[:, 0],  # nm to \u00c5\n        delta_coord=colvar_data[:, 1],\n        bias=27.211386 * output_data[\"ensemble_bias\"],  # Ha to eV\n        time=2.4188843e-05 * output_data[\"time\"],  # atomictime to ps\n    ),  # attime to ps\n    settings=chemiscope.quick_settings(\n        x=\"d_OO\", y=\"delta_coord\", z=\"bias\", color=\"time\", trajectory=True\n    ),\n    mode=\"default\",\n)"
      ]
    },
    {
      "cell_type": "markdown",
      "metadata": {},
      "source": [
        "The visualization above shows how the growing metadynamics bias pushes\nprogressively the atoms towards geometries with larger O-O separations,\nand that for these distorted configurations the proton is not shared\nsymmetrically between the O atoms, but is preferentially attached to\none of the two water molecules.\n\n"
      ]
    },
    {
      "cell_type": "markdown",
      "metadata": {},
      "source": [
        "#### Trajectory diagnostics\n\nThe time history of the bias is instructive, as it shows how the\nbias grows until the trajectory gets pushed in a new region (where the\nbias is zero) and then grows again. The envelope of the bias increase\nslows down over time, because the \"well-tempered\" deposition strategy\nreduces the height of the hills deposited in high-bias regions.\n\nNote that the potential energy has fluctuations that are larger than\nthe magnitude of the bias, although it shows a tendency to reach higher\nvalues as the simulation progresses. This is because only two degrees\nof freedom are affected by the bias, while all degrees of freedom\nundergo thermal fluctuations, which are dominant even for this\nsmall system.\n\n"
      ]
    },
    {
      "cell_type": "code",
      "execution_count": null,
      "metadata": {
        "collapsed": false
      },
      "outputs": [],
      "source": [
        "fig, ax = plt.subplots(1, 1, figsize=(4, 3), constrained_layout=True)\n\nax.plot(\n    2.4188843e-05 * output_data[\"time\"],\n    27.211386 * output_data[\"potential\"],\n    \"r\",\n    label=\"potential\",\n)\nax.plot(\n    2.4188843e-05 * output_data[\"time\"],\n    27.211386 * output_data[\"ensemble_bias\"],\n    \"b\",\n    label=\"bias\",\n)\n\nax.set_xlabel(r\"$t$ / ps\")\nax.set_ylabel(r\"energy / eV\")\nax.legend(loc=\"upper left\", ncols=1)\nplt.show()"
      ]
    },
    {
      "cell_type": "markdown",
      "metadata": {},
      "source": [
        "It's important to keep in mind that the growing metadynamics bias can\nlead to deviations from the quasi-equilibrium sampling that is necessary\nto recover the correct properties of the rare event. It is not easy\nto verify this condition, but one simple diagnostics that can highlight\nthe most evident problems is looking at the kinetic temperature of different\nportions of the system, computing a moving average to have a clearer signal.\n\n"
      ]
    },
    {
      "cell_type": "code",
      "execution_count": null,
      "metadata": {
        "collapsed": false
      },
      "outputs": [],
      "source": [
        "def moving_average(arr, window_size):\n    # Create a window of the specified size with equal weights\n    window = np.ones(window_size) / window_size\n    # Use the 'valid' mode to only return elements where the window fully\n    # overlaps with the data\n    return np.convolve(arr, window, mode=\"valid\")\n\n\nfig, ax = plt.subplots(1, 1, figsize=(4, 3), constrained_layout=True)\n\nax.plot(\n    2.4188843e-05 * output_data[\"time\"][50:-49],\n    moving_average(output_data[\"temperature(O)\"], 100),\n    \"r\",\n    label=r\"$T_\\mathrm{O}$\",\n)\nax.plot(\n    2.4188843e-05 * output_data[\"time\"][50:-49],\n    moving_average(output_data[\"temperature(H)\"], 100),\n    \"gray\",\n    label=r\"$T_\\mathrm{H}$\",\n)\nax.plot(\n    2.4188843e-05 * output_data[\"time\"][50:-49],\n    moving_average(output_data[\"temperature\"], 100),\n    \"b\",\n    label=\"T\",\n)\n\nax.set_xlabel(r\"$t$ / ps\")\nax.set_ylabel(r\"temperature / K\")\nax.legend(loc=\"upper left\", ncols=2)\nplt.show()"
      ]
    },
    {
      "cell_type": "markdown",
      "metadata": {},
      "source": [
        "It is clear that the very high rate of biasing used in this demonstrative\nexample leads to a temperature that is consistently higher than the target,\nwith spikes up to 380 K and O and H atoms reaching different temperatures\n(i.e. equipartition is broken). While this does not affect the qualitative\nnature of the results, these parameters are unsuitable for a production run.\nNB: especially for small systems, the instantaneous kinetic temperature\ncan deviate by a large amount from the target temperature: only the mean\nvalue has actual meaning. However, a kinetic temperature that is consistently\nabove the target value indicates that the thermostat cannot dissipate\nefficiently the energy due to the growing bias.\n\n"
      ]
    },
    {
      "cell_type": "markdown",
      "metadata": {},
      "source": [
        "#### Free energy profiles\n\nOne of the advantages of metadynamics is that it allows one to easily\nestimate the free-energy associated with the collective variables\nthat are used to accelerate sampling by summing the repulsive hills\nthat have been deposited during the run and taking the negative of\nthe total bias at the end of the trajectory.\n\nEven though more sophisticated strategies exist that provide explicit\nweighting factors to estimate the unbiased Boltzmann distribution\n(see e.g.\n[Giberti et al., JCTC 2020](http://doi.org/10.1021/acs.jctc.9b00907)),\nthis simple approach is good enough for this example, and can be\nrealized as a post-processing step using the ``plumed sum_hills`` module,\nthat also applies a (simple) correction to the negative bias that\nis needed when using the well-tempered bias scaling protocol.\nOn the command line,\n\n```bash\nplumed sum_hills --hills HILLS-md --min 0.21,-1 --max 0.31,1 --bin 100,100 \\\n       --outfile FES-md --stride 100 --mintozero < data/plumed-md.dat\n```\nThe ``--stride`` option generates a series of files showing the estimates\nof $F$ at different times along the trajectory.\n\n"
      ]
    },
    {
      "cell_type": "code",
      "execution_count": null,
      "metadata": {
        "collapsed": false
      },
      "outputs": [],
      "source": [
        "with open(\"data/plumed-md.dat\", \"r\") as file:\n    subprocess.run(\n        [\n            \"plumed\",\n            \"sum_hills\",\n            \"--hills\",\n            \"HILLS-md\",\n            \"--min\",\n            \"0.21,-1\",\n            \"--max\",\n            \"0.31,1\",\n            \"--bin\",\n            \"100,100\",\n            \"--outfile\",\n            \"FES-md\",\n            \"--stride\",\n            \"100\",\n            \"--mintozero\",\n        ],\n        stdin=file,\n        text=True,\n    )\n\n# rearrange data and converts to \u00c5 and eV\ndata = np.loadtxt(\"FES-md0.dat\", comments=\"#\")[:, :3]\nxyz_0 = np.array([10, 1, 0.01036427])[:, np.newaxis, np.newaxis] * data.T.reshape(\n    3, 101, 101\n)\ndata = np.loadtxt(\"FES-md2.dat\", comments=\"#\")[:, :3]\nxyz_2 = np.array([10, 1, 0.01036427])[:, np.newaxis, np.newaxis] * data.T.reshape(\n    3, 101, 101\n)\ndata = np.loadtxt(\"FES-md5.dat\", comments=\"#\")[:, :3]\nxyz_5 = np.array([10, 1, 0.01036427])[:, np.newaxis, np.newaxis] * data.T.reshape(\n    3, 101, 101\n)"
      ]
    },
    {
      "cell_type": "markdown",
      "metadata": {},
      "source": [
        "The plots show, left-to-right, the accumulation of the\nmetadynamics bias as simulation progresses.\n\n"
      ]
    },
    {
      "cell_type": "code",
      "execution_count": null,
      "metadata": {
        "collapsed": false
      },
      "outputs": [],
      "source": [
        "fig, ax = plt.subplots(\n    1, 3, figsize=(8, 3), sharex=True, sharey=True, constrained_layout=True\n)\n\ncf_0 = ax[0].contourf(*xyz_0)\ncf_1 = ax[1].contourf(*xyz_2)\ncf_2 = ax[2].contourf(*xyz_5)\nfig.colorbar(cf_2, ax=ax, orientation=\"vertical\", label=r\"$F$ / eV\")\nax[0].set_ylabel(r\"$\\Delta C_\\mathrm{H}$\")\nax[0].set_xlabel(r\"$d_\\mathrm{OO}$ / \u00c5\")\nax[1].set_xlabel(r\"$d_\\mathrm{OO}$ / \u00c5\")\nax[2].set_xlabel(r\"$d_\\mathrm{OO}$ / \u00c5\")\nax[0].set_title(r\"$t=0.8$ ps\")\nax[1].set_title(r\"$t=2.5$ ps\")\nax[2].set_title(r\"$t=5.0$ ps\")\nplt.show()"
      ]
    },
    {
      "cell_type": "markdown",
      "metadata": {},
      "source": [
        "## Biasing a path integral calculation\n\nYou can see [this recipe](http://lab-cosmo.github.io/atomistic-cookbook/examples/latest/path-integrals)\nfor a brief introduction to path integral simulations with `i-PI`.\nFrom a practical perspective, very little needs to change with respect\nto the classical case.\n\n"
      ]
    },
    {
      "cell_type": "code",
      "execution_count": null,
      "metadata": {
        "collapsed": false
      },
      "outputs": [],
      "source": [
        "xmlroot = ET.parse(\"data/input-pimd.xml\").getroot()"
      ]
    },
    {
      "cell_type": "markdown",
      "metadata": {},
      "source": [
        "The `nbeads` option determines the number of path integral\nreplicas. The value of 8 used here is not sufficient to converge\nquantum statistics at 300 K (a more typical value would be\naround 32). There are methods to reduce the number of replicas\nneeded for convergence, see e.g.\n[Ceriotti and Markland, Nat. Rev. Chem. (2018)](http://doi.org/10.1038/s41570-017-0109)\nbut we keep it simple here.\n\n"
      ]
    },
    {
      "cell_type": "code",
      "execution_count": null,
      "metadata": {
        "collapsed": false
      },
      "outputs": [],
      "source": [
        "print(\" \" + ET.tostring(xmlroot.find(\".//initialize\"), encoding=\"unicode\")[:23])"
      ]
    },
    {
      "cell_type": "markdown",
      "metadata": {},
      "source": [
        "### Centroid bias\n\nAnother detail worth discussing is that the metadynamics bias\nis computed exclusively on the *centroid*, the mean position of\nthe ring-polymer beads. This is an extreme form of\nring polymer contraction\n[(Markland and Manolopoulos, J. Chem. Phys. (2008)](http://doi.org/10.1063/1.2953308)\nthat avoids computing for each replica the slowly-varying\nparts of the potential, but is not applied for computational\nsavings. When performing a quantum free-energy calculation it\nis important to distinguish between the free-energy computed\nas the logarithm of the probability of observing a given\nconfiguration (that depends on the distribution of the\nreplicas) and the free-energy taken as a tool to estimate\nreaction  rates $k$ in a transition-state theory\nfashion $k\\propto e^{-\\Delta E^\\ddagger/kT}$,\nwhere the energy barrier $\\Delta E^\\ddagger$\nis better estimated from the distribution of the centroid.\nSee e.g.\n[Habershon et al., Annu. Rev. Phys. Chem. (2013)](http://doi.org/10.1146/annurev-physchem-040412-110122)\nfor a discussion of the subtleties involved in estimating\ntransition rates.\nIn practice, performing this contraction step is very easy\nin `i-PI`, because for each `<force>` section - including\nthat corresponding to the bias - it is possible to specify\na different number of replicas. The configurations will\nbe automatically computed by Fourier interpolation.\n\n"
      ]
    },
    {
      "cell_type": "code",
      "execution_count": null,
      "metadata": {
        "collapsed": false
      },
      "outputs": [],
      "source": [
        "print(\"         \" + ET.tostring(xmlroot.find(\".//bias\"), encoding=\"unicode\"))"
      ]
    },
    {
      "cell_type": "markdown",
      "metadata": {},
      "source": [
        "### Running the calculation\n\nThe other changes are purely cosmetic, and the calculation\ncan be launched very easily, using several drivers to parallelize\nthe energy evaluation over the beads (although this kind of calculations\nis not limited by the evaluation of the forces).\n\n"
      ]
    },
    {
      "cell_type": "code",
      "execution_count": null,
      "metadata": {
        "collapsed": false
      },
      "outputs": [],
      "source": [
        "# don't rerun if the outputs already exist\nipi_process = None\nif not os.path.exists(\"meta-pimd.out\"):\n    ipi_process = subprocess.Popen([\"i-pi\", \"data/input-pimd.xml\"])\n    time.sleep(2)  # wait for i-PI to start\n    driver_process = [\n        subprocess.Popen(\n            [\"i-pi-driver\", \"-u\", \"-a\", \"zundel\", \"-m\", \"zundel\"], cwd=\"data/\"\n        )\n        for i in range(4)\n    ]"
      ]
    },
    {
      "cell_type": "markdown",
      "metadata": {},
      "source": [
        "If you run this in a notebook, you can go ahead and start loading\noutput files _before_ i-PI has finished running by skipping this cell\n\n"
      ]
    },
    {
      "cell_type": "code",
      "execution_count": null,
      "metadata": {
        "collapsed": false
      },
      "outputs": [],
      "source": [
        "# wait for simulations to finish\nif ipi_process is not None:\n    ipi_process.wait()\n    for process in driver_process:\n        process.wait()"
      ]
    },
    {
      "cell_type": "markdown",
      "metadata": {},
      "source": [
        "### Analysis of the simulation\n\nA path integral simulation evolves multiple configurations at the same\ntime, forming a `ring polymer`. Each replica provides a sample of the\nquantum mechanical configuration distribution of the atoms. To provide\nan overall visualization of the path integral dynamics, we load all the\nreplicas and combine them using a utility function from the\n`chemiscope` library.`\n\n"
      ]
    },
    {
      "cell_type": "code",
      "execution_count": null,
      "metadata": {
        "collapsed": false
      },
      "outputs": [],
      "source": [
        "output_data, output_desc = ipi.read_output(\"meta-pimd.out\")\ncolvar_data = ipi.read_trajectory(\"meta-pimd.colvar_0\", format=\"extras\")[\n    \"doo,dc,mtd.bias\"\n]\npimd_traj_data = [ipi.read_trajectory(f\"meta-pimd.pos_{i}.xyz\") for i in range(8)]\n\n# combines the PI beads and sets up the visualization options\ntraj_pimd = chemiscope.ase_merge_pi_frames(pimd_traj_data)\ntraj_pimd[\"shapes\"][\"paths\"][\"parameters\"][\"global\"][\"radius\"] = 0.05\ntraj_pimd[\"properties\"] = dict(\n    d_OO=10 * colvar_data[:, 0],  # nm to \u00c5\n    delta_coord=colvar_data[:, 1],\n    bias=27.211386 * output_data[\"ensemble_bias\"],  # Ha to eV\n    time=2.4188843e-05 * output_data[\"time\"],\n)\ntraj_pimd[\"settings\"] = chemiscope.quick_settings(\n    x=\"d_OO\",\n    y=\"delta_coord\",\n    z=\"bias\",\n    color=\"time\",\n    trajectory=True,\n    structure_settings=dict(\n        bonds=False,\n        atoms=False,\n        keepOrientation=True,\n        unitCell=False,\n        shape=[\n            \"paths\",\n        ],\n    ),\n)\ntraj_pimd[\"settings\"][\"target\"] = \"structure\""
      ]
    },
    {
      "cell_type": "markdown",
      "metadata": {},
      "source": [
        "Visualize the trajectory. Note the similar behavior as for the classical\ntrajectory, and the delocalization of the protons\n\n"
      ]
    },
    {
      "cell_type": "code",
      "execution_count": null,
      "metadata": {
        "collapsed": false
      },
      "outputs": [],
      "source": [
        "chemiscope.show(**traj_pimd)"
      ]
    },
    {
      "cell_type": "markdown",
      "metadata": {},
      "source": [
        "### Free energy plots\n\nThe free energy profiles relative to $\\Delta C_\\mathrm{H}$\nand $d_\\mathrm{OO}$ can be computed exactly as for the\nclassical trajectory, using the `sum_hills` module.\n\n"
      ]
    },
    {
      "cell_type": "code",
      "execution_count": null,
      "metadata": {
        "collapsed": false
      },
      "outputs": [],
      "source": [
        "with open(\"data/plumed-pimd.dat\", \"r\") as file:\n    subprocess.run(\n        [\n            \"plumed\",\n            \"sum_hills\",\n            \"--hills\",\n            \"HILLS-pimd\",\n            \"--min\",\n            \"0.21,-1\",\n            \"--max\",\n            \"0.31,1\",\n            \"--bin\",\n            \"100,100\",\n            \"--outfile\",\n            \"FES-pimd\",\n            \"--stride\",\n            \"100\",\n            \"--mintozero\",\n        ],\n        stdin=file,\n        text=True,\n    )\n\n# rearrange data and converts to \u00c5 and eV\ndata = np.loadtxt(\"FES-pimd0.dat\", comments=\"#\")[:, :3]\nxyz_pi_0 = np.array([10, 1, 0.01036427])[:, np.newaxis, np.newaxis] * data.T.reshape(\n    3, 101, 101\n)\ndata = np.loadtxt(\"FES-pimd2.dat\", comments=\"#\")[:, :3]\nxyz_pi_2 = np.array([10, 1, 0.01036427])[:, np.newaxis, np.newaxis] * data.T.reshape(\n    3, 101, 101\n)\ndata = np.loadtxt(\"FES-pimd5.dat\", comments=\"#\")[:, :3]\nxyz_pi_5 = np.array([10, 1, 0.01036427])[:, np.newaxis, np.newaxis] * data.T.reshape(\n    3, 101, 101\n)"
      ]
    },
    {
      "cell_type": "markdown",
      "metadata": {},
      "source": [
        "Just as for a classical run, the metadynamics bias progressively\npushes the centroid (and the beads that are distributed around it)\nto sample a wider portion of the collective-variable space.\n\n"
      ]
    },
    {
      "cell_type": "code",
      "execution_count": null,
      "metadata": {
        "collapsed": false
      },
      "outputs": [],
      "source": [
        "fig, ax = plt.subplots(\n    1, 3, figsize=(8, 3), sharex=True, sharey=True, constrained_layout=True\n)\n\ncf_0 = ax[0].contourf(*xyz_pi_0)\ncf_1 = ax[1].contourf(*xyz_pi_2)\ncf_2 = ax[2].contourf(*xyz_pi_5)\nfig.colorbar(cf_2, ax=ax, orientation=\"vertical\", label=r\"$F$ / eV\")\nax[0].set_ylabel(r\"$\\Delta C_\\mathrm{H}$\")\nax[0].set_xlabel(r\"$d_\\mathrm{OO}$ / \u00c5\")\nax[1].set_xlabel(r\"$d_\\mathrm{OO}$ / \u00c5\")\nax[2].set_xlabel(r\"$d_\\mathrm{OO}$ / \u00c5\")\nax[0].set_title(r\"$t=0.8$ ps\")\nax[1].set_title(r\"$t=2.5$ ps\")\nax[2].set_title(r\"$t=5.0$ ps\")\nplt.show()"
      ]
    },
    {
      "cell_type": "markdown",
      "metadata": {},
      "source": [
        "### Assessing quantum nuclear effects\n\nThe effect of nuclear quantization on the centroid free-energy\nis relatively small, despite the large delocalization of the\nprotons in the PIMD calculation. Looking more\ncarefully at the two distributions, one can notice that\nin the high-$d_\\mathrm{OO}$ region there is higher\ndelocalisation of the proton.\n\n"
      ]
    },
    {
      "cell_type": "code",
      "execution_count": null,
      "metadata": {
        "collapsed": false
      },
      "outputs": [],
      "source": [
        "fig, ax = plt.subplots(\n    1, 1, figsize=(4, 3), sharex=True, sharey=True, constrained_layout=True\n)\n\nlevels = np.linspace(0, 0.5, 6)\ncp1 = ax.contour(*xyz_5, colors=\"b\", levels=levels)\ncp2 = ax.contour(*xyz_pi_5, colors=\"r\", levels=levels)\nax.set_ylabel(r\"$\\Delta C_\\mathrm{H}$\")\nax.set_xlabel(r\"$d_\\mathrm{OO}$ / \u00c5\")\nax.legend(\n    handles=[\n        plt.Line2D([0], [0], color=\"b\", label=\"MD\"),\n        plt.Line2D([0], [0], color=\"r\", label=\"PIMD\"),\n    ]\n)\nplt.show()"
      ]
    },
    {
      "cell_type": "markdown",
      "metadata": {},
      "source": [
        "To get a clear signal, we need better-converged calculations;\nthe `data/` folder contains inputs for these \"high quality\" runs,\nand free-energies obtained from them.\nThe results confirm the lowering of the free-energy barrier for\nthe $\\mathrm{H_3O^+ + H_2O} \\rightarrow \\mathrm{H_2O + H_3O^+}$\ntransition.\n\n"
      ]
    },
    {
      "cell_type": "code",
      "execution_count": null,
      "metadata": {
        "collapsed": false
      },
      "outputs": [],
      "source": [
        "with bz2.open(\"data/FES-md_hiq.bz2\", \"rt\") as f:\n    data = np.loadtxt(f, comments=\"#\")[:, :3]\nxyz_md_hiq = np.array([10, 1, 0.01036427])[:, np.newaxis, np.newaxis] * data.T.reshape(\n    3, 101, 101\n)\nwith bz2.open(\"data/FES-pimd_hiq.bz2\", \"rt\") as f:\n    data = np.loadtxt(f, comments=\"#\")[:, :3]\nxyz_pi_hiq = np.array([10, 1, 0.01036427])[:, np.newaxis, np.newaxis] * data.T.reshape(\n    3, 101, 101\n)\n\nfig, ax = plt.subplots(\n    1, 1, figsize=(4, 3), sharex=True, sharey=True, constrained_layout=True\n)\n\nlevels = np.linspace(0, 0.5, 6)\ncp1 = ax.contour(*xyz_md_hiq, colors=\"b\", levels=levels)\ncp2 = ax.contour(*xyz_pi_hiq, colors=\"r\", levels=levels)\nax.set_ylabel(r\"$\\Delta C_\\mathrm{H}$\")\nax.set_xlabel(r\"$d_\\mathrm{OO}$ / \u00c5\")\nax.legend(\n    handles=[\n        plt.Line2D([0], [0], color=\"b\", label=\"MD\"),\n        plt.Line2D([0], [0], color=\"r\", label=\"PIMD\"),\n    ]\n)\nplt.show()"
      ]
    },
    {
      "cell_type": "markdown",
      "metadata": {},
      "source": [
        "The lowering of the barrier for proton hopping is clearly\nseen by taking 1D slices of the free energy at different O-O separations.\n\n"
      ]
    },
    {
      "cell_type": "code",
      "execution_count": null,
      "metadata": {
        "collapsed": false
      },
      "outputs": [],
      "source": [
        "fig, ax = plt.subplots(\n    1, 1, figsize=(4, 3), sharex=True, sharey=True, constrained_layout=True\n)\n\nax.plot(\n    xyz_md_hiq[1, :, 50], xyz_md_hiq[2, :, 50], \"b\", label=r\"MD, $d_\\mathrm{OO}=2.6 $\u00c5\"\n)\nax.plot(\n    xyz_pi_hiq[1, :, 50],\n    xyz_pi_hiq[2, :, 50],\n    \"r\",\n    label=r\"PIMD, $d_\\mathrm{OO}=2.6 $\u00c5\",\n)\nax.plot(\n    xyz_md_hiq[1, :, 60],\n    xyz_md_hiq[2, :, 60],\n    \"b--\",\n    label=r\"MD, $d_\\mathrm{OO}=2.7 $\u00c5\",\n)\nax.plot(\n    xyz_pi_hiq[1, :, 60],\n    xyz_pi_hiq[2, :, 60],\n    \"r--\",\n    label=r\"PIMD, $d_\\mathrm{OO}=2.7 $\u00c5\",\n)\nax.set_ylim(0.08, 0.6)\nax.legend(ncols=2, loc=\"upper right\", fontsize=9)\nax.set_ylabel(r\"$F$ / eV\")\nax.set_xlabel(r\"$\\Delta C_\\mathrm{H}$\")\nplt.show()"
      ]
    },
    {
      "cell_type": "markdown",
      "metadata": {},
      "source": [
        "This model system is representative of the behavior of protons\nalong a hydrogen bond in different conditions, where the environment\ndetermines the typical O-O separation, and whether the proton is shared\n(as in high pressure ice X) or preferentially attached to one of the two\nmolecules. Zero-point energy (and to a lesser extent tunneling)\nincreases the delocalization, and reduces the barrier for an excess\nproton to hop between water molecues.\n\n"
      ]
    }
  ],
  "metadata": {
    "kernelspec": {
      "display_name": "Python 3",
      "language": "python",
      "name": "python3"
    },
    "language_info": {
      "codemirror_mode": {
        "name": "ipython",
        "version": 3
      },
      "file_extension": ".py",
      "mimetype": "text/x-python",
      "name": "python",
      "nbconvert_exporter": "python",
      "pygments_lexer": "ipython3",
      "version": "3.11.14"
    }
  },
  "nbformat": 4,
  "nbformat_minor": 0
}