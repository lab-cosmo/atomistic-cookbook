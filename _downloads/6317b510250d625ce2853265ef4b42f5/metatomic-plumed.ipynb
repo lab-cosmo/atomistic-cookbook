{
  "cells": [
    {
      "cell_type": "markdown",
      "metadata": {},
      "source": [
        "\n# ML collective variables in PLUMED with metatomic\n\n:Authors: Guillaume Fraux [@Luthaf](https://github.com/luthaf/);\n          Rohit Goswami [@HaoZeke](https://github.com/haozeke/);\n          Michele Ceriotti [@ceriottim](https://github.com/ceriottim/)\n\nThis example shows how to build a [metatomic model](https://docs.metatensor.org/metatomic/latest/overview.html) that computes order\nparameters for a Lennard-Jones cluster, and how to use it with the [PLUMED](https://www.plumed.org/) package to run a metadynamics simulation.\n\nThe LJ38 cluster is a classic benchmark system because its global minimum energy\nstructure is a truncated octahedron with $O_h$ symmetry, which is difficult to\nfind with simple optimization methods. The PES has a multi-funnel landscape, meaning the\nsystem can easily get trapped in other local minima. Our goal is to explore the PES,\nmoving from a random initial configuration to the low-energy structures. To do this, we\nwill:\n\n1.  Define a set of **collective variables (CVs)** that can distinguish between the\n    disordered (liquid-like) and ordered (solid-like) states of the cluster. We will use\n    two sets of CVs: histograms of the coordination number of atoms, and two CVs derived\n    from SOAP descriptors that are analogous to the **Steinhardt order parameters**\n    $Q_4$ and $Q_6$ (a.k.a the bond-order parameters).\n2.  Implement these custom CV using ``featomic``, ``metatensor``, and ``metatomic`` to\n    create a portable ``metatomic`` model.\n3.  Run metadynamics trajectories with LAMMPS, and visualize the system as it explores\n    different configurations.\n4.  Show an example of integration with [i-PI](https://ipi-code.org/), that uses\n    multiple time stepping to reduce the cost of computing complicated CVs.\n\nAs usual for these examples, the simulation is run on a small system and for a short\ntime, so that results will be fast but inaccurate. If you want to use this example as a\ntemplate, you should set more appropriate parameters.\n"
      ]
    },
    {
      "cell_type": "code",
      "execution_count": null,
      "metadata": {
        "collapsed": false
      },
      "outputs": [],
      "source": [
        "import linecache\nimport pathlib\nimport subprocess\nfrom time import sleep\nfrom typing import Dict, List, Optional\n\nimport ase.io\nimport chemiscope\nimport featomic.torch\nimport ipi\nimport matplotlib.pyplot as plt\nimport metatensor.torch as mts\nimport metatomic.torch as mta\nimport numpy as np\nimport torch"
      ]
    },
    {
      "cell_type": "markdown",
      "metadata": {},
      "source": [
        "## Target structures\n\nThe two most \"famous\" structures for LJ38 are the global minimum (a perfect truncated\noctahedron) and a lower-symmetry icosahedral structure which is a deep local minimum.\nWe can visualize them using [chemiscope](https://chemiscope.org/docs/).\n\n"
      ]
    },
    {
      "cell_type": "code",
      "execution_count": null,
      "metadata": {
        "collapsed": false
      },
      "outputs": [],
      "source": [
        "minimal = ase.io.read(\"data/lj-oct.xyz\")\nicosaed = ase.io.read(\"data/lj-ico.xyz\")\n\nsettings = {\n    \"structure\": [\n        {\"playbackDelay\": 50, \"unitCell\": True, \"bonds\": True, \"spaceFilling\": True}\n    ]\n}\nchemiscope.show([minimal, icosaed], mode=\"structure\", settings=settings)"
      ]
    },
    {
      "cell_type": "markdown",
      "metadata": {},
      "source": [
        "## Defining custom collective variables\n\nWe use two different approaches to define our custom CVs: in one case, we compute the\nCV manually starting from the atomic positions, in the other we build the descriptors\nbased on a spherical-harmonics expansion of the neighbor density, computed using the\n[featomic](https://metatensor.github.io/featomic/) package.\n\n### Histogram of coordination numbers\n\nAs a first set of CVs, we use a histogram of coordination numbers, that was used in\nseveral examples studying this cluster (see e.g. [this paper](http://doi.org/10.1021/ct3010563)). The idea is to compute the coordination number\nof each atom in the cluster, and then to count how many atoms have a given\ncoordination number. This makes it possible to differentiate clearly between the\ntruncated octahedron and the icosahedral configurations, as well as distorted,\ndisordered structures.\n\n\nTo make this CV usable by PLUMED via the ``METATOMIC`` interface, we must wrap our\ncalculation logic in a ``torch.nn.Module``. This class takes a list of atomic systems\nand returns a ``metatensor.TensorMap`` containing the calculated CV values. The\ninterface is defined in the [metatomic](https://docs.metatensor.org/metatomic/latest/torch/reference/models/export.html)\ndocumentation.\n\n"
      ]
    },
    {
      "cell_type": "code",
      "execution_count": null,
      "metadata": {
        "collapsed": false
      },
      "outputs": [],
      "source": [
        "def f_coord(y: torch.Tensor) -> torch.Tensor:\n    \"\"\"\n    This function computes a switching function that we use\n    to evaluate the coordination number.\n    \"\"\"\n    cy = torch.zeros_like(y)\n    # we use torch.where to be compatible with autodiff\n    cy = torch.where(y <= 0, torch.tensor(1.0, dtype=torch.float32), cy)\n    cy = torch.where(y >= 1, torch.tensor(0.0, dtype=torch.float32), cy)\n    mask = (y > 0) & (y < 1)\n    cy = torch.where(mask, ((y - 1) ** 2) * (1 + 2 * y), cy)\n    return cy\n\n\nclass CoordinationHistogram(torch.nn.Module):\n    def __init__(self, cutoff, cn_list):\n        \"\"\"\n        ``cutoff`` provides the point at which the switching function levels off to\n        zero. Note that for simplicity we still compute all distances.\n\n        ``cn_list`` is the list of bins in the histogram. Strictly speaking, we don't\n        compute a histogram, but a kernel density estimator centered on the values given\n        in this list.\n        \"\"\"\n        super().__init__()\n\n        self.cn_list = torch.tensor(cn_list, dtype=torch.int32)\n        self._nl_options = mta.NeighborListOptions(\n            cutoff=cutoff, full_list=True, strict=True\n        )\n        self.cutoff = cutoff\n        self.r0 = cutoff\n        self.r1 = cutoff * 4.0 / 5.0\n        self.sigma2 = 0.5**2\n\n    def requested_neighbor_lists(self) -> List[mta.NeighborListOptions]:\n        # request a neighbor list to be computed and stored in the system passed to\n        # `forward`.\n        return [self._nl_options]\n\n    def forward(\n        self,\n        systems: List[mta.System],\n        outputs: Dict[str, mta.ModelOutput],\n        selected_atoms: Optional[mts.Labels],\n    ) -> Dict[str, mts.TensorMap]:\n        if \"features\" not in outputs:\n            return {}\n\n        if outputs[\"features\"].per_atom:\n            raise ValueError(\"per-atoms features are not supported in this model\")\n\n        if selected_atoms is not None:\n            raise ValueError(\"selected_atoms is not supported in this model\")\n\n        if len(systems[0].positions) == 0:\n            # PLUMED will first call the model with 0 atoms to get the size of the\n            # output, so we need to handle this case first\n            keys = mts.Labels(\"_\", torch.tensor([[0]]))\n            block = mts.TensorBlock(\n                torch.zeros((0, len(self.cn_list)), dtype=torch.float64),\n                samples=mts.Labels(\"structure\", torch.zeros((0, 1), dtype=torch.int32)),\n                components=[],\n                properties=mts.Labels(\"cn\", self.cn_list.reshape(-1, 1)),\n            )\n            return {\"features\": mts.TensorMap(keys, [block])}\n\n        values = []\n        # loop over all systems\n        system_index = torch.arange(len(systems), dtype=torch.int32).reshape((-1, 1))\n        for system in systems:\n            # the neighbor list has been computed by whoever is calling this model\n            neighbors = system.get_neighbor_list(self._nl_options)\n\n            # get all distances\n            distances = torch.linalg.vector_norm(neighbors.values.reshape(-1, 3), dim=1)\n\n            # switching function to evaluate the coordination number\n            z = f_coord((distances - self.r1) / (self.r0 - self.r1))\n\n            # Sum over neighbors\n            coords = torch.zeros(len(system), dtype=z.dtype, device=z.device)\n            coords.index_add_(\n                dim=0, index=neighbors.samples.column(\"first_atom\"), source=z\n            )\n\n            # Compute the KDE over the required bins\n            cn_histo = torch.exp(\n                -((coords - self.cn_list.reshape(-1, 1)) ** 2) * 0.5 / self.sigma2\n            ).sum(dim=1)\n            values.append(cn_histo)\n\n        # Assembles a TensorMap\n        keys = mts.Labels(\"_\", torch.tensor([[0]]))\n        block = mts.TensorBlock(\n            values=torch.stack(values, dim=0),\n            samples=mts.Labels(\"structure\", system_index),\n            components=[],\n            properties=mts.Labels(\"cn\", self.cn_list.reshape(-1, 1)),\n        )\n        mts_coords = mts.TensorMap(keys, [block])\n        # This model has a single output, named \"features\". This can be used by multiple\n        # tools, including PLUMED where it defines a custom collective variable.\n        return {\"features\": mts_coords}"
      ]
    },
    {
      "cell_type": "markdown",
      "metadata": {},
      "source": [
        "### SOAP-based Steinhardt parameters\n\nRather than looking at the atomic coordination, one can also resort to order\nparameters that capture the angular order. The **Steinhardt order parameters**,\nspecifically $Q_4$ and $Q_6$ are rotationally invariant and measure the\nlocal orientational symmetry around each atom. The standard caclulation works by\nsumming over bond vectors within a cutoff radius which connect a central atom to the\nneighbors and does not use a weighing within the cutoff radius.\n\n- $Q_6$ is often high for both icosahedral and FCC-like structures, making it a\n  good measure of general \"solidness\".\n- $Q_4$ helps to distinguish between different crystal packing types. It is\n  close to zero for icosahedral structures but has a distinct non-zero value for FCC\n  structures.\n\nThis works fairly well for the LJ38 and is also part of the standard PLUMED build.\n\nThe key concept is that the geometry of the atomic neighborhood is described by\nprojection onto a basis of spherical harmonics. With that in mind, we will use the\nSOAP power spectrum, which differs from the standard Steinhardt by operating on a\nsmooth density field, and includes distance information through the radial basis set.\nAdditionally, unlike the sharp cutoff of the Steinhardt, we will use a cosine cutoff.\n\nWe will use the power spectrum components for angular channels $l=4$ and\n$l=6$. SOAP features are computed from an expansion of the neighbor density in\nspherical harmonics and radial functions.  ``featomic`` is used to evaluate this\nspherical expansion, select the appropriate angular indices and then sum over the\n$m$ index, as well as over the radial dimension to recover order parameters\nanalogous to $Q_4$ and $Q_6$.\n\n"
      ]
    },
    {
      "cell_type": "code",
      "execution_count": null,
      "metadata": {
        "collapsed": false
      },
      "outputs": [],
      "source": [
        "class SoapCV(torch.nn.Module):\n    def __init__(self, cutoff, angular_list):\n        super().__init__()\n\n        self.max_angular = max(angular_list)\n        # initialize and store the featomic calculator inside the class\n        self.spex = featomic.torch.SphericalExpansion(\n            **{\n                \"cutoff\": {\n                    \"radius\": cutoff,\n                    \"smoothing\": {\"type\": \"ShiftedCosine\", \"width\": 1.5},\n                },\n                \"density\": {\"type\": \"Gaussian\", \"width\": 1.0},\n                \"basis\": {\n                    \"type\": \"TensorProduct\",\n                    \"max_angular\": self.max_angular,\n                    \"radial\": {\"type\": \"Gto\", \"max_radial\": 3},\n                },\n            }\n        )\n        self.selected_keys = mts.Labels(\n            # These represent the degree of the spherical harmonics\n            \"o3_lambda\",\n            torch.tensor(angular_list).reshape(-1, 1),\n        )\n\n    def forward(\n        self,\n        systems: List[mta.System],\n        outputs: Dict[str, mta.ModelOutput],\n        selected_atoms: Optional[mts.Labels],\n    ) -> Dict[str, mts.TensorMap]:\n        if \"features\" not in outputs:\n            return {}\n\n        # computes the spherical expansion\n        spex = self.spex(\n            systems, selected_samples=selected_atoms, selected_keys=self.selected_keys\n        )\n\n        if len(spex) == 0:\n            # PLUMED will first call the model with 0 atoms to get the size of the\n            # output, so we need to handle this case first\n            keys = mts.Labels(\"_\", torch.tensor([[0]]))\n            block = mts.TensorBlock(\n                torch.zeros((0, len(self.selected_keys)), dtype=torch.float64),\n                samples=mts.Labels(\"structure\", torch.zeros((0, 1), dtype=torch.int32)),\n                components=[],\n                properties=self.selected_keys,\n            )\n            return {\"features\": mts.TensorMap(keys, [block])}\n\n        # then manipulate the tensormap to remove some of the sparsity\n        spex = mts.remove_dimension(spex, axis=\"keys\", name=\"o3_sigma\")\n        spex = spex.keys_to_properties(\"neighbor_type\")\n        spex = spex.keys_to_samples(\"center_type\")\n\n        blocks: List[mts.TensorBlock] = []\n        for block in spex.blocks():\n            # squares, and sums over both the m and the radial components\n            new_block = mts.TensorBlock(\n                (block.values**2).sum(dim=(1, 2)).reshape(-1, 1),\n                samples=block.samples,\n                components=[],\n                properties=mts.Labels(\"n\", torch.tensor([[0]])),\n            )\n            blocks.append(new_block)\n\n        # packs the resulting values in a tensormap\n        summed_q = mts.TensorMap(spex.keys, blocks)\n        summed_q = summed_q.keys_to_properties(\"o3_lambda\")\n\n        if not outputs[\"features\"].per_atom:\n            summed_q = mts.mean_over_samples(\n                summed_q, sample_names=[\"atom\", \"center_type\"]\n            )\n\n        # This model, like CoordinationHistogram has a single output, named \"features\".\n        return {\"features\": summed_q}"
      ]
    },
    {
      "cell_type": "markdown",
      "metadata": {},
      "source": [
        "### Exporting the Model\n\nOnce we have defined our custom model, we can now annotate it with multiple metadata\nentries and export it to the disk. The resulting model file and extensions directory\ncan then be loaded by PLUMED and other compatible engines, without requiring a Python\ninstallation (for example on HPC systems).\n\nSee the [corresponding documentation](https://docs.metatensor.org/metatomic/latest/torch/reference/models/export.html)\nand [example](https://docs.metatensor.org/metatomic/latest/examples/1-export-atomistic-model.html)\nfor more information about exporting metatomic models.\n\n"
      ]
    },
    {
      "cell_type": "code",
      "execution_count": null,
      "metadata": {
        "collapsed": false
      },
      "outputs": [],
      "source": [
        "# generates a coordination histogram model\ncutoff = 5.5\nmodule = CoordinationHistogram(cutoff, cn_list=[6, 8])\n\n# metatdata about the model itself\nmetadata = mta.ModelMetadata(\n    name=\"Coordination histogram\",\n    description=\"Computes smooth histogram of coordination numbers\",\n)\n\n# metatdata about what the model can do\ncapabilities = mta.ModelCapabilities(\n    length_unit=\"Angstrom\",\n    outputs={\"features\": mta.ModelOutput(per_atom=False)},\n    atomic_types=[18],\n    interaction_range=cutoff,\n    supported_devices=[\"cpu\"],\n    dtype=\"float64\",\n)\n\nmodel_ch = mta.AtomisticModel(\n    module=module.eval(),\n    metadata=metadata,\n    capabilities=capabilities,\n)\n\nmodel_ch.save(\"histo-cv.pt\", collect_extensions=\"./extensions/\")\n\n# ... and a SOAP-based CV, with the same cutoff\nmodule = SoapCV(cutoff, angular_list=[4, 6])\n\nmetadata = mta.ModelMetadata(\n    name=\"Steinhardt-like SOAP CV\",\n    description=\"Computes smoothed out versions of the Steinhardt order parameters\",\n)\n\nmodel_soap = mta.AtomisticModel(\n    module=module.eval(),\n    metadata=metadata,\n    capabilities=capabilities,\n)\n\n# finally, save the model to a standalone file\nmodel_soap.save(\"soap-cv.pt\", collect_extensions=\"./extensions/\")"
      ]
    },
    {
      "cell_type": "markdown",
      "metadata": {},
      "source": [
        "### Optional: test the collective variables in Python\n\nBefore running the full simulation, we can use ``chemiscope``'s\n``metatomic_featurizer`` to quickly check the output of our model on our initial\nstructures. This is a great way to verify that the CVs produce different values for\nthe different structures.\n\n"
      ]
    },
    {
      "cell_type": "code",
      "execution_count": null,
      "metadata": {
        "collapsed": false
      },
      "outputs": [],
      "source": [
        "featurizer_ch = chemiscope.metatomic_featurizer(model_ch)\nfeaturizer_soap = chemiscope.metatomic_featurizer(model_soap)\n\nchemiscope.explore(\n    [minimal, icosaed],\n    featurize=featurizer_ch,\n    # we can also add extra properties, here we use this\n    # to include additional descriptors\n    properties={\"cv_soap\": featurizer_soap([minimal, icosaed], None)},\n    settings=settings,\n)"
      ]
    },
    {
      "cell_type": "markdown",
      "metadata": {},
      "source": [
        "## Using the model to run metadynamics with PLUMED\n\nWith our model saved, we can now write the PLUMED input file. This file instructs\nPLUMED on what to do during the simulation. The input file consists of the following\nsections:\n\n- ``UNITS``: Specifies the energy and length units;\n- ``METATOMIC``: Defines a collective variable using an exported metatomic model. We\n  load both the models we just created, and use the CV histogram that is faster to\n  compute (and more efficient with metadynamics);\n- ``SELECT_COMPONENTS``: Splits the model output to scalars;\n- ``METAD``: sets up the metadynamics algorithm. It will add repulsive Gaussian\n  potentials in the (``cv1``, ``cv2``) space at regular intervals (``PACE``),\n  discouraging the simulation from re-visiting conformations and pushing it over\n  energy barriers;\n- ``PRINT``: This tells PLUMED to write the values of our CVs and the metadynamics\n  bias energy to a file named ``COLVAR`` for later analysis.\n\n"
      ]
    },
    {
      "cell_type": "code",
      "execution_count": null,
      "metadata": {
        "collapsed": false
      },
      "outputs": [],
      "source": [
        "with open(\"data/plumed.dat\", \"r\") as fd:\n    print(fd.read())"
      ]
    },
    {
      "cell_type": "markdown",
      "metadata": {},
      "source": [
        "### Running metadynamics with LAMMPS\n\nWe use a custom version of LAMMPS that is linked with ``metatomic`` and the\n``metatomic``-enabled version of PLUMED. From the point of view of LAMMPS, all that is\nneeded is to use ``fix_plumed`` to load the PLUMED input file, as the calculation of\nthe custom collective variables is handled by PLUMED itself.\n\n"
      ]
    },
    {
      "cell_type": "code",
      "execution_count": null,
      "metadata": {
        "collapsed": false
      },
      "outputs": [],
      "source": [
        "# write the LAMMPS structure file\nlammps_initial = minimal.copy()\nlammps_initial.cell = [20, 20, 20]\nase.io.write(\"data/minimal.data\", lammps_initial, format=\"lammps-data\")\n\nprint(linecache.getline(\"data/lammps.plumed.in\", 25).strip())\nsubprocess.run(\n    [\"lmp\", \"-in\", \"data/lammps.plumed.in\"], check=True, capture_output=False\n)\nlmp_trajectory = ase.io.read(\"lj38.lammpstrj\", index=\":\")"
      ]
    },
    {
      "cell_type": "markdown",
      "metadata": {},
      "source": [
        "### Static visualization\n\nThe dynamics on the free energy surface can be visualized using a static plot with the\ntrajectory overlaid as follows. NB: The accumulated bias is **not** the free energy\nwhen performing well-tempered metadynamics, and a re-scaling is required, cf. [the\noriginal paper](https://doi.org/10.1103/PhysRevLett.100.020603)\n\nNB: PLUMED provides dedicated CLI tools to perform these tasks\n\n\n"
      ]
    },
    {
      "cell_type": "code",
      "execution_count": null,
      "metadata": {
        "collapsed": false
      },
      "outputs": [],
      "source": [
        "# time, cv1, cv2, mtd.bias, histo.1, histo.2, soap.1, soap.2\ncolvar = np.loadtxt(\"COLVAR\")\ntime = colvar[:, 0]\ncv1_traj = colvar[:, 1]\ncv2_traj = colvar[:, 2]\nsoap1_traj = colvar[:, 6]\nsoap2_traj = colvar[:, 7]\n\n# HILLS has the free energy surface\n# time, center_cv1, center_cv2, sigma_cv1, sigma_cv2, height\nhills = np.loadtxt(\"HILLS\")\n\n# Visually pleasing grid for the FES based on the PLUMED input\ngrid_min = [0, 0]\ngrid_max = [30, 20]\ngrid_bins = [200, 100]\ngrid_cv1 = np.linspace(grid_min[0], grid_max[0], grid_bins[0])\ngrid_cv2 = np.linspace(grid_min[1], grid_max[1], grid_bins[1])\nX, Y = np.meshgrid(grid_cv1, grid_cv2)\nFES = np.zeros_like(X)\n\n# Sum over Gaussian hills to reconstruct the bias\nfor hill in hills:\n    center_cv1, center_cv2 = hill[1], hill[2]\n    sigma_cv1, sigma_cv2 = hill[3], hill[4]\n    height = hill[5]\n\n    term1 = (X - center_cv1) ** 2 / (2 * sigma_cv1**2)\n    term2 = (Y - center_cv2) ** 2 / (2 * sigma_cv2**2)\n    FES += height * np.exp(-(term1 + term2))\n\n# The free energy surface is the -ve of the summed bias potential\n# Shift for 0 minimum\nFES = -FES\nFES -= FES.min()\nFES *= 40 / (40 - 1)  # corrects for the well-tempered biasfactor\n\n# Prepare the plot\nplt.figure(figsize=(10, 7))\ncontour = plt.contourf(X, Y, FES, levels=np.linspace(0, FES.max(), 25), cmap=\"viridis\")\nplt.colorbar(contour, label=\"-bias (a.u.)\")\n\n# Overlay the trajectory\nplt.plot(\n    cv1_traj,\n    cv2_traj,\n    color=\"white\",\n    alpha=0.7,\n    linewidth=1.5,\n    label=\"LAMMPS MD Trajectory\",\n)\n\n# Mark significant points\nfeats = featurizer_ch([minimal, icosaed], None)\nplt.scatter(\n    feats[0, 0], feats[0, 1], c=\"red\", marker=\"X\", s=150, zorder=3, label=\"octahedron\"\n)\nplt.scatter(\n    feats[1, 0], feats[1, 1], c=\"cyan\", marker=\"o\", s=150, zorder=3, label=\"icosahedral\"\n)\n\nplt.title(\"Free Energy Surface of LJ38 Cluster\")\nplt.xlabel(\"Collective Variable 1\")\nplt.ylabel(\"Collective Variable 2\")\nplt.xlim(grid_min[0], grid_max[0])\nplt.ylim(grid_min[1], grid_max[1])\nplt.legend()\nplt.grid(True, linestyle=\"--\", alpha=0.5)\nplt.show()"
      ]
    },
    {
      "cell_type": "markdown",
      "metadata": {},
      "source": [
        "### Interactive visualization in ``chemiscope``\n\nThe structures on the free energy surface can be visualized using a dynamic\nplot in ``chemiscope``.  We load both the histogram-based and the SOAP-based\nCVs, so you can see the difference in the two approaches by changing the x and\ny axes in the plot settings.\n\n"
      ]
    },
    {
      "cell_type": "code",
      "execution_count": null,
      "metadata": {
        "collapsed": false
      },
      "outputs": [],
      "source": [
        "dyn_prop = {\n    \"cv1\": {\n        \"target\": \"structure\",\n        \"values\": cv1_traj[::10],\n        \"description\": \"CV1 (histo c=6)\",\n    },\n    \"cv2\": {\n        \"target\": \"structure\",\n        \"values\": cv2_traj[::10],\n        \"description\": \"CV2 (histo c=8)\",\n    },\n    \"soap1\": {\n        \"target\": \"structure\",\n        \"values\": soap1_traj[::10],\n        \"description\": \"SOAP1 (~Q4)\",\n    },\n    \"soap2\": {\n        \"target\": \"structure\",\n        \"values\": soap2_traj[::10],\n        \"description\": \"CV2 (~Q6)\",\n    },\n    \"time\": {\n        \"target\": \"structure\",\n        \"values\": time[::10],\n        \"description\": \"Simulation time\",\n        \"units\": \"ps\",\n    },\n}\n\n# Configure the settings for the chemiscope visualization.\ndyn_settings = chemiscope.quick_settings(\n    x=\"cv1\",\n    y=\"cv2\",\n    color=\"time\",\n    trajectory=True,\n    map_settings={\n        \"x\": {\"max\": 30, \"min\": 0},\n        \"y\": {\"max\": 15, \"min\": 0},\n    },\n    structure_settings={\n        \"playbackDelay\": 50,  # ms between frames\n        \"unitCell\": True,\n        \"bonds\": True,\n        \"spaceFilling\": True,\n    },\n)\n\nlmp_trajectory = ase.io.read(\"lj38.lammpstrj\", index=\":\")\n# Show the trajectory in an interactive chemiscope widget.\nchemiscope.show(\n    frames=lmp_trajectory,\n    properties=dyn_prop,\n    settings=dyn_settings,\n)"
      ]
    },
    {
      "cell_type": "markdown",
      "metadata": {},
      "source": [
        "## Running metadynamics with i-PI\n\nThe ``metatomic`` models can be used with any code that supports the PLUMED interface,\nincluding [i-PI](https://ipi-code.org/). We take this opportunity to demonstrate the\nmultiple time stepping feature of i-PI which reduces the cost of computing expensive\nCVs.\n\nWe modify the PLUMED input file to use the SOAP CVs and to half the frequency of the\nmetadynamics updates, since we will call PLUMED every two steps. We also change the\ngrid and the Gaussian width, consistent with the different range of the SOAP CVs.\n\n"
      ]
    },
    {
      "cell_type": "code",
      "execution_count": null,
      "metadata": {
        "collapsed": false
      },
      "outputs": [],
      "source": [
        "src = pathlib.Path(\"data/plumed.dat\")\ndst = pathlib.Path(\"data/plumed-mts.dat\")\n\ncontent = src.read_text()\ndst.write_text(\n    content.replace(\"ARG=histo\", \"ARG=soap\")\n    .replace(\"PACE=30\", \"PACE=15\")\n    .replace(\"GRID_MAX=30,20\", \"GRID_MAX=0.5,1.5\")\n    .replace(\"GRID_BIN=300,200\", \"GRID_BIN=100,300\")\n    .replace(\"SIGMA=1.0,0.5\", \"SIGMA=0.03,0.05\")\n)"
      ]
    },
    {
      "cell_type": "markdown",
      "metadata": {},
      "source": [
        "The i-PI input file defines PLUMED as a forcefield, but uses the ``<bias>``\ntag to specify that it should not be used  as a physical force. The input also\ndemonstrates how to retrieve the CVs from PLUMED.\nSee [this recipe](https://atomistic-cookbook.org/examples/pi-mts-rpc/mts-rpc.html#multiple-time-stepping)\nfor more details on performing multiple time stepping with i-PI.\n\n"
      ]
    },
    {
      "cell_type": "code",
      "execution_count": null,
      "metadata": {
        "collapsed": false
      },
      "outputs": [],
      "source": [
        "ipi_input = pathlib.Path(\"data/input-meta.xml\")\nprint(ipi_input.read_text())"
      ]
    },
    {
      "cell_type": "markdown",
      "metadata": {},
      "source": [
        "We use LAMMPS to compute the LJ potential, and use i-PI in its client-server mode.\n\n"
      ]
    },
    {
      "cell_type": "code",
      "execution_count": null,
      "metadata": {
        "collapsed": false
      },
      "outputs": [],
      "source": [
        "ipi_process = subprocess.Popen([\"i-pi\", \"data/input-meta.xml\"])\nsleep(3)  # wait for i-PI to start\nlmp_process = subprocess.Popen([\"lmp\", \"-in\", \"data/lammps.ipi.in\"])"
      ]
    },
    {
      "cell_type": "markdown",
      "metadata": {},
      "source": [
        "Wait for the processes to finish\n\n"
      ]
    },
    {
      "cell_type": "code",
      "execution_count": null,
      "metadata": {
        "collapsed": false
      },
      "outputs": [],
      "source": [
        "ipi_process.wait()\nlmp_process.wait()"
      ]
    },
    {
      "cell_type": "markdown",
      "metadata": {},
      "source": [
        "### i-PI output trajectory\n\nThe SOAP CVs are much more expensive to compute than the histogram-based CVs,\nso we only run 2000 steps as a demonstration.\n\n"
      ]
    },
    {
      "cell_type": "code",
      "execution_count": null,
      "metadata": {
        "collapsed": false
      },
      "outputs": [],
      "source": [
        "ipi_trajectory = ase.io.read(\"meta-md.pos_0.extxyz\", \":\")\nipi_properties, _ = ipi.utils.parsing.read_output(\"meta-md.out\")\nipi_cv = ipi.utils.parsing.read_trajectory(\"meta-md.colvar_0\", format=\"extras\")[\n    \"cv1, cv2\"\n]"
      ]
    },
    {
      "cell_type": "markdown",
      "metadata": {},
      "source": [
        "The structure doesn't move much in this short simulation, but we can still see how\ntrajectory moves around in the region surrounding the octahedral structure.\n\n"
      ]
    },
    {
      "cell_type": "code",
      "execution_count": null,
      "metadata": {
        "collapsed": false
      },
      "outputs": [],
      "source": [
        "chemiscope.show(\n    frames=ipi_trajectory,\n    properties={\n        \"time\": {\n            \"target\": \"structure\",\n            \"values\": ipi_properties[\"time\"],\n            \"description\": \"Simulation time\",\n            \"units\": \"a.u.\",\n        },\n        \"bias\": {\n            \"target\": \"structure\",\n            \"values\": ipi_properties[\"ensemble_bias\"],\n            \"description\": \"Bias energy\",\n            \"units\": \"a.u.\",\n        },\n        \"soap1\": {\n            \"target\": \"structure\",\n            \"values\": ipi_cv[:, 0],\n            \"description\": \"SOAP1 (~Q4)\",\n        },\n        \"soap2\": {\n            \"target\": \"structure\",\n            \"values\": ipi_cv[:, 1],\n            \"description\": \"SOAP2 (~Q6)\",\n        },\n    },\n    settings=chemiscope.quick_settings(\n        x=\"soap1\",\n        y=\"soap2\",\n        z=\"\",\n        color=\"bias\",\n        trajectory=True,\n        structure_settings={\n            \"playbackDelay\": 50,  # ms between frames\n            \"unitCell\": True,\n            \"bonds\": True,\n            \"spaceFilling\": True,\n        },\n    ),\n)"
      ]
    }
  ],
  "metadata": {
    "kernelspec": {
      "display_name": "Python 3",
      "language": "python",
      "name": "python3"
    },
    "language_info": {
      "codemirror_mode": {
        "name": "ipython",
        "version": 3
      },
      "file_extension": ".py",
      "mimetype": "text/x-python",
      "name": "python",
      "nbconvert_exporter": "python",
      "pygments_lexer": "ipython3",
      "version": "3.13.9"
    }
  },
  "nbformat": 4,
  "nbformat_minor": 0
}