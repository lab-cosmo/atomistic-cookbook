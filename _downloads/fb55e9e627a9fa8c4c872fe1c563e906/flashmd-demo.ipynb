{
  "cells": [
    {
      "cell_type": "markdown",
      "metadata": {},
      "source": [
        "\n# Long-stride trajectories with a universal FlashMD model\n\n:Authors: Michele Ceriotti [@ceriottm](https://github.com/ceriottm)\n\nFor a quickstart on how to use FlashMD with ASE,\nyou can go [here](https://github.com/lab-cosmo/flashmd).\n\nThis example demonstrates how to run long-stride molecular dynamics using the\nuniversal FlashMD model. FlashMD predicts directly positions and momenta of atoms\nat a later time based on the current positions and momenta.\nIt is trained to reproduce MD trajectories at the r2SCAN level of theory.\nYou can read more about the model and its limitations in\n[this preprint](http://arxiv.org/abs/2505.19350).\n"
      ]
    },
    {
      "cell_type": "code",
      "execution_count": null,
      "metadata": {
        "collapsed": false
      },
      "outputs": [],
      "source": [
        "# sphinx_gallery_thumbnail_path = '../../examples/flashmd/flashmd-scheme.png'"
      ]
    },
    {
      "cell_type": "markdown",
      "metadata": {},
      "source": [
        "Start by importing the required libraries. You will need\n[FlashMD](https://github.com/lab-cosmo/flashmd)\nand a recent version of [i-PI](http://ipi-code.org).\n\n```bash\npip install flashmd ipi\n```\n"
      ]
    },
    {
      "cell_type": "code",
      "execution_count": null,
      "metadata": {
        "collapsed": false
      },
      "outputs": [],
      "source": [
        "import chemiscope\nfrom flashmd import get_pretrained\nfrom flashmd.ipi import get_npt_stepper, get_nvt_stepper\nfrom ipi.utils.parsing import read_output, read_trajectory\nfrom ipi.utils.scripting import InteractiveSimulation"
      ]
    },
    {
      "cell_type": "markdown",
      "metadata": {},
      "source": [
        "A rough schematic of the architecture of FlashMD is shown below.\nEach model is trained for a specific stride length, aiming to\nreproduce the trajectories obtained with a traditional velocity\nVerlet integrator.\n\n<img src=\"file://flashmd-scheme.png\" align=\"center\">\n\n"
      ]
    },
    {
      "cell_type": "markdown",
      "metadata": {},
      "source": [
        "We start by getting the FlashMD models from the ``flashmd`` package.\nWe will also use a PET model trained on the MATPES dataset as the accompanying energy\nmodel\n\n"
      ]
    },
    {
      "cell_type": "code",
      "execution_count": null,
      "metadata": {
        "collapsed": false
      },
      "outputs": [],
      "source": [
        "device = \"cpu\"  # change to \"cuda\" if you have a GPU; don't forget to change it in the\n# i-PI xml input files as well!\n\nmlip_model, flashmd_model_16 = get_pretrained(\"pet-omatpes\", 16)\nmlip_model, flashmd_model_64 = get_pretrained(\"pet-omatpes\", 64)\n\n# We save the MLIP model to disk, since i-PI needs to read it from a file\nmlip_model.save(\"pet-omatpes.pt\")"
      ]
    },
    {
      "cell_type": "markdown",
      "metadata": {},
      "source": [
        "## Al(110) surface dynamics\n\nThe (110) surface of aluminum exhibits [an interesting dynamical behavior](https://doi.org/10.1103/PhysRevLett.82.3296) well below the bulk melting\ntemperature. This manifests itself in the spontaneous formation of surface\ndefects, with mobile adatoms emerging at the surface.\n\nWe run a FlashMD simulation with 64 fs strides (as opposed to 1 or 2 fs) at\n600 K, observing the motion of the adatom at the surface. We use the\n``i-PI`` scripting API to set up the simulation and run it interactively.\n\n"
      ]
    },
    {
      "cell_type": "markdown",
      "metadata": {},
      "source": [
        "The starting point is a \"base\" XML file that contains the setup for a traditional\nMD simulation in i-PI. It contains the MLIP as the potential energy calculator\n(needed for the optional energy rescaling filter), and the only difference is\nthe use of a much larger large time step than conventional MD.\n\n"
      ]
    },
    {
      "cell_type": "code",
      "execution_count": null,
      "metadata": {
        "collapsed": false
      },
      "outputs": [],
      "source": [
        "with open(\"data/input-al110-base.xml\", \"r\") as input_xml:\n    sim = InteractiveSimulation(input_xml)"
      ]
    },
    {
      "cell_type": "markdown",
      "metadata": {},
      "source": [
        "To run FlashMD, we set up a custom step, using the ``get_nvt_stepper``\nutility function from the `flashmd.ipi` module. Note the filters\n``rescale_energy=False`` and ``random_rotation=True``. You can turn the former on to\nensure that the total energy of the system is conserved, at the cost of one extra\nenergy evaluation per step, while the latter is inexpensive and allows for random\nrotations of the system, which is useful to correct for the fact that the model is not\nexactly equivariant with respect to rotations.\n\n"
      ]
    },
    {
      "cell_type": "code",
      "execution_count": null,
      "metadata": {
        "collapsed": false
      },
      "outputs": [],
      "source": [
        "sim.set_motion_step(\n    get_nvt_stepper(\n        sim, flashmd_model_64, device, rescale_energy=False, random_rotation=True\n    )\n)\n\n# We run for 16 steps -- this is a large box, and it's rather slow on CPU...\n# ...but it's equivalent to more than 1 ps with FlashMD's 64 fs time steps!\nsim.run(16)"
      ]
    },
    {
      "cell_type": "markdown",
      "metadata": {},
      "source": [
        "The trajectory is stable, and one can check that the mean fluctuations\nof the adatom are qualitatively correct, by comparing with a (much slower)\nMLIP simulation.\n\n"
      ]
    },
    {
      "cell_type": "code",
      "execution_count": null,
      "metadata": {
        "collapsed": false
      },
      "outputs": [],
      "source": [
        "data, info = read_output(\"al110-nvt-flashmd.out\")\ntrj = read_trajectory(\"al110-nvt-flashmd.pos_0.extxyz\")\n\nchemiscope.show(\n    frames=trj,\n    properties={\n        \"time\": data[\"time\"],\n        \"potential\": data[\"potential\"],\n        \"temperature\": data[\"temperature\"],\n    },\n    mode=\"default\",\n    settings=chemiscope.quick_settings(\n        map_settings={\n            \"x\": {\"property\": \"time\", \"scale\": \"linear\"},\n            \"y\": {\"property\": \"potential\", \"scale\": \"linear\"},\n        },\n        structure_settings={\n            \"unitCell\": True,\n        },\n        trajectory=True,\n    ),\n)"
      ]
    },
    {
      "cell_type": "markdown",
      "metadata": {},
      "source": [
        "## Solvated alanine dipeptide\n\nAs a second example, we run a constant-pressure simulation of explicitly\nsolvated alanine dipeptide, using the FlashMD universal model with 16 fs\ntime steps (as opposed to 0.5 fs). The setup is very similar to the previous\nexample, but we use an input template that contains a NpT setup, and use\nthe ``get_npt_stepper`` utility function to set up a stepper that\ncombine the FlashMD velocity-Verlet step with cell updates.\n\n"
      ]
    },
    {
      "cell_type": "code",
      "execution_count": null,
      "metadata": {
        "collapsed": false
      },
      "outputs": [],
      "source": [
        "with open(\"data/input-ala2-base.xml\", \"r\") as input_xml:\n    sim = InteractiveSimulation(input_xml)\n\nsim.set_motion_step(\n    get_npt_stepper(\n        sim, flashmd_model_16, device, rescale_energy=True, random_rotation=True\n    )\n)\n\n# only run 2 steps: as for all modern MLIPs, serious simulations require a GPU\nsim.run(2)"
      ]
    },
    {
      "cell_type": "markdown",
      "metadata": {},
      "source": [
        "The cell fluctuates around the equilibrium volume, in a way that\nis consistent with the correct NpT ensemble. The trajectory is stable\nand the alanine molecule explores the different conformations\n(obviously when running for a reasonably long time).\n\n"
      ]
    },
    {
      "cell_type": "code",
      "execution_count": null,
      "metadata": {
        "collapsed": false
      },
      "outputs": [],
      "source": [
        "data, info = read_output(\"ala2-npt-flashmd.out\")\ntrj = read_trajectory(\"ala2-npt-flashmd.pos_0.extxyz\")\n\nchemiscope.show(\n    frames=trj,\n    properties={\n        \"time\": data[\"time\"],\n        \"volume\": data[\"volume\"],\n        \"potential\": data[\"potential\"],\n        \"pressure\": data[\"pressure_md\"],\n        \"temperature\": data[\"temperature\"],\n    },\n    mode=\"default\",\n    settings=chemiscope.quick_settings(\n        map_settings={\n            \"x\": {\"property\": \"time\", \"scale\": \"linear\"},\n            \"y\": {\"property\": \"volume\", \"scale\": \"linear\"},\n        },\n        structure_settings={\n            \"unitCell\": True,\n        },\n        trajectory=True,\n    ),\n)"
      ]
    }
  ],
  "metadata": {
    "kernelspec": {
      "display_name": "Python 3",
      "language": "python",
      "name": "python3"
    },
    "language_info": {
      "codemirror_mode": {
        "name": "ipython",
        "version": 3
      },
      "file_extension": ".py",
      "mimetype": "text/x-python",
      "name": "python",
      "nbconvert_exporter": "python",
      "pygments_lexer": "ipython3",
      "version": "3.12.12"
    }
  },
  "nbformat": 4,
  "nbformat_minor": 0
}