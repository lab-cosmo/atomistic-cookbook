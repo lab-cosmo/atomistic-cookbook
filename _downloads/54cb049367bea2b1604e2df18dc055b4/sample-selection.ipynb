{
  "cells": [
    {
      "cell_type": "markdown",
      "metadata": {},
      "source": [
        "\n# Sample and Feature Selection with FPS and CUR\n\n:Authors: Davide Tisi [@DavideTisi](https://github.com/DavideTisi)\n         and Hanna Tuerk [@HannaTuerk](https://github.com/HannaTuerk)\n\nIn this tutorial we generate descriptors using featomic, then select a subset\nof structures using both the farthest-point sampling (FPS) and CUR algorithms\nimplemented in scikit-matter. Finally, we also generate a selection of\nthe most important features using the same techniques.\n\nFirst, import all the necessary packages\n"
      ]
    },
    {
      "cell_type": "code",
      "execution_count": null,
      "metadata": {
        "collapsed": false
      },
      "outputs": [],
      "source": [
        "import os\n\nimport ase.io\nimport chemiscope\nimport metatensor\nimport numpy as np\nimport requests\nfrom featomic import SoapPowerSpectrum\nfrom matplotlib import pyplot as plt\nfrom sklearn.decomposition import PCA\nfrom skmatter import feature_selection, sample_selection\n\n\n# Note that you will need a the specific new version of skmatter (state: Feb. 2025).\n# The link is provided in the environment.yml file that you can find on github."
      ]
    },
    {
      "cell_type": "markdown",
      "metadata": {},
      "source": [
        "## Load molecular data\n\nLoad 500 example BTO structures from file, reading them using\n[ASE](https://wiki.fysik.dtu.dk/ase/).\nThe data is available as a download in the data.zip file below or in the\natomistic-cookbook github.\n\n"
      ]
    },
    {
      "cell_type": "code",
      "execution_count": null,
      "metadata": {
        "collapsed": false
      },
      "outputs": [],
      "source": [
        "filename = \"gaas_training.xyz\"\nif not os.path.exists(filename):\n    url = f\"https://zenodo.org/records/10566825/files/{filename}\"\n    response = requests.get(url)\n    response.raise_for_status()\n    with open(filename, \"wb\") as f:\n        f.write(response.content)\n\n# Load a subset of `structures <data/input-fps.xyz>` of the example dataset\nn_frames = 500\nframes = ase.io.read(\"gaas_training.xyz\", f\":{3*n_frames}:3\", format=\"extxyz\")"
      ]
    },
    {
      "cell_type": "markdown",
      "metadata": {},
      "source": [
        "## Compute SOAP descriptors using featomic\n\nFirst, define the featomic hyperparameters used to compute SOAP.\n\n"
      ]
    },
    {
      "cell_type": "code",
      "execution_count": null,
      "metadata": {
        "collapsed": false
      },
      "outputs": [],
      "source": [
        "# featomic hyperparameters\nhypers = {\n    \"cutoff\": {\"radius\": 6.0, \"smoothing\": {\"type\": \"ShiftedCosine\", \"width\": 0.5}},\n    \"density\": {\n        \"type\": \"Gaussian\",\n        \"width\": 0.3,\n        \"scaling\": {\"type\": \"Willatt2018\", \"exponent\": 4, \"rate\": 1, \"scale\": 3.5},\n    },\n    \"basis\": {\n        \"type\": \"TensorProduct\",\n        \"max_angular\": 6,\n        \"radial\": {\"type\": \"Gto\", \"max_radial\": 7},\n    },\n}\n\n# Generate a SOAP power spectrum\ncalculator = SoapPowerSpectrum(**hypers)\nrho2i = calculator.compute(frames)\n\n\n# Makes a dense block\natom_soap = rho2i.keys_to_properties([\"neighbor_1_type\", \"neighbor_2_type\"])\n\natom_soap_single_block = atom_soap.keys_to_samples(keys_to_move=[\"center_type\"])\n\n# Sum over atomic centers to compute structure features\nstruct_soap = metatensor.sum_over_samples(\n    atom_soap_single_block, sample_names=[\"atom\", \"center_type\"]\n)\n\n\nprint(\"atom feature descriptor shape:\", atom_soap.block(0).values.shape)\nprint(\n    \"atom feature descriptor (all in one block) shape:\",\n    atom_soap_single_block.block(0).values.shape,\n)\nprint(\"structure feature descriptor shape:\", struct_soap.block(0).values.shape)"
      ]
    },
    {
      "cell_type": "markdown",
      "metadata": {},
      "source": [
        "## Perform atomic environment (i.e. sample) selection\n\nUsing FPS and CUR algorithms, we can perform selection of atomic environments.\nThese are implemented in skmatter which uses data stored in the metatensor\nformat.\n\nSuppose we want to select the 10 most diverse environments for each chemical\nspecies.\n\nFirst, we can use the `keys_to_properties` operation in metatensor to move the\nneighbor species indices to the properties of the TensorBlocks. The resulting\ndescriptor will be a TensorMap comprised of three blocks, one for each\nchemical species, where the chemical species indices are solely present in the\nkeys.\n\n"
      ]
    },
    {
      "cell_type": "code",
      "execution_count": null,
      "metadata": {
        "collapsed": false
      },
      "outputs": [],
      "source": [
        "print(\"----Atomic environment selection-----\")\n\nprint(atom_soap)\nprint(atom_soap.block(0))"
      ]
    },
    {
      "cell_type": "markdown",
      "metadata": {},
      "source": [
        "select 10 atomic environments for each chemical species.\n\n"
      ]
    },
    {
      "cell_type": "code",
      "execution_count": null,
      "metadata": {
        "collapsed": false
      },
      "outputs": [],
      "source": [
        "# Define the number of structures *per block* to select using FPS\nn_envs = 10\n\n# FPS sample selection\nfor key, block in atom_soap.items():\n    sample_fps = sample_selection.FPS(n_to_select=n_envs, initialize=\"random\").fit(\n        atom_soap.block(key).values\n    )\n    sample_fps_idxs = sample_fps.selected_idx_\n\n    # Print the selected envs for this block\n    print(\"atomic envs selected with FPS:\\n\")\n\n    selected_structures_idx = atom_soap.block(key).samples.values[sample_fps_idxs]\n    newblock = metatensor.slice_block(block, axis=\"samples\", selection=sample_fps_idxs)\n    print(\"center_type:\", key, \"\\n(struct_idx, atom_idx)\\n\", newblock.samples.values)\n\n# CUR sample selection\nfor key, block in atom_soap.items():\n    sample_cur = sample_selection.CUR(n_to_select=n_envs).fit(\n        atom_soap.block(key).values\n    )\n\n    print(\"atomic envs selected with CUR:\\n\")\n    newblock = metatensor.slice_block(\n        block, axis=\"samples\", selection=sample_cur.selected_idx_\n    )\n    print(\"center_type:\", key, \"\\n(struct_idx, atom_idx)\\n\", newblock.samples.values)"
      ]
    },
    {
      "cell_type": "markdown",
      "metadata": {},
      "source": [
        "## Selecting from a combined pool of atomic environments\n\nOne can also select from a combined pool of atomic environments and\nstructures, instead of selecting an equal number of atomic environments for\neach chemical species. In this case, we can move the 'center_type' key to samples\nsuch that our descriptor is a TensorMap consisting of a single block. Upon\nsample selection, the most diverse atomic environments will be selected,\nregardless of their chemical species.\n\n"
      ]
    },
    {
      "cell_type": "code",
      "execution_count": null,
      "metadata": {
        "collapsed": false
      },
      "outputs": [],
      "source": [
        "print(\"----All atomic environment selection-----\")\n\natom_soap_single_block = atom_soap.keys_to_samples(keys_to_move=[\"center_type\"])\nprint(\"keys\", atom_soap_single_block.keys)\nprint(\"blocks\", atom_soap_single_block[0])\nprint(\"samples in first and only block\", atom_soap_single_block[0].samples)\n\n# Using the original SOAP descriptor, move all keys to properties.\n\n# Define the number of structures to select using FPS\nn_envs = 10\n\n# FPS sample selection\nsample_fps = sample_selection.FPS(n_to_select=n_envs, initialize=\"random\").fit(\n    atom_soap_single_block.block(0).values\n)\n\nsample_fps_idxs = sample_fps.selected_idx_\nselected_structures_idxs = atom_soap_single_block.block(0).samples[\"system\"][\n    sample_fps_idxs\n]\nnewblock = metatensor.slice_block(\n    atom_soap_single_block.block(0), axis=\"samples\", selection=sample_fps.selected_idx_\n)\n\nprint(\n    \"atomic envs selected with FPS: \\n (struct_idx, atom_idx, center_type) \\n\",\n    newblock.samples.values,\n)"
      ]
    },
    {
      "cell_type": "markdown",
      "metadata": {},
      "source": [
        "## Perform structure (i.e. sample) selection with FPS/CUR\n\nInstead of atomic environments, one can also select diverse structures. We can\nuse the `sum_over_samples` operation in metatensor to define features in the\nstructural basis instead of the atomic basis. This is done by summing over the\natomic environments, labeled by the 'center' index in the samples of the\nTensorMap.\n\nAlternatively, one could use the `mean_over_samples` operation, depending on\nthe specific inhomogeneity of the size of the structures in the training set.\n\n"
      ]
    },
    {
      "cell_type": "code",
      "execution_count": null,
      "metadata": {
        "collapsed": false
      },
      "outputs": [],
      "source": [
        "print(\"----Structure selection-----\")\n\nstruct_soap = metatensor.sum_over_samples(\n    atom_soap_single_block, sample_names=[\"atom\", \"center_type\"]\n)\n\nprint(\"keys\", struct_soap.keys)\nprint(\"blocks\", struct_soap[0])\nprint(\"samples in first block\", struct_soap[0].samples)\n\n# Define the number of structures to select *per block* using FPS\nn_structures = 10\n\n# FPS structure selection\nsample_fps = sample_selection.FPS(n_to_select=n_structures, initialize=\"random\").fit(\n    struct_soap.block(0).values\n)\nstruct_fps_idxs = sample_fps.selected_idx_\nprint(\"structures selected with FPS:\\n\", sample_fps.selected_idx_)\n\n\n# CUR structure selection\nsample_cur = sample_selection.CUR(n_to_select=n_structures).fit(\n    struct_soap.block(0).values\n)\n\nstruct_cur_idxs = sample_cur.selected_idx_\nprint(\"structures selected with CUR:\\n\", struct_cur_idxs)\n\n# Slice structure descriptor along axis 0 to contain only the selected structures\nstruct_soap_fps = struct_soap.block(0).values[struct_fps_idxs, :]\nstruct_soap_cur = struct_soap.block(0).values[struct_cur_idxs, :]\nassert struct_soap_fps.shape == struct_soap_cur.shape\n\nprint(\"Structure descriptor shape before selection \", struct_soap.block(0).values.shape)\nprint(\"Structure descriptor shape after selection (FPS)\", struct_soap_fps.shape)\nprint(\"Structure descriptor shape after selection (CUR)\", struct_soap_cur.shape)"
      ]
    },
    {
      "cell_type": "markdown",
      "metadata": {},
      "source": [
        "## Visualize selected structures\n\nsklearn can be used to perform PCA dimensionality reduction on the SOAP\ndescriptors. The resulting PC coordinates can be used to visualize the the\ndata alongside their structures in a chemiscope widget.\n\n\n"
      ]
    },
    {
      "cell_type": "code",
      "execution_count": null,
      "metadata": {
        "collapsed": false
      },
      "outputs": [],
      "source": [
        "# Generate a structure PCA\nstruct_soap_pca = PCA(n_components=4).fit_transform(struct_soap.block(0).values)\nassert struct_soap_pca.shape == (n_frames, 4)"
      ]
    },
    {
      "cell_type": "markdown",
      "metadata": {},
      "source": [
        "### Plot the PCA map\n\nNotice how the selected points avoid the densely-sampled area, and cover\nthe periphery of the dataset\n\n"
      ]
    },
    {
      "cell_type": "code",
      "execution_count": null,
      "metadata": {
        "collapsed": false
      },
      "outputs": [],
      "source": [
        "# Matplotlib plot\nfig, ax = plt.subplots(1, 1, figsize=(6, 4))\nscatter = ax.scatter(struct_soap_pca[:, 0], struct_soap_pca[:, 1], c=\"red\")\nax.plot(\n    struct_soap_pca[struct_cur_idxs, 0],\n    struct_soap_pca[struct_cur_idxs, 1],\n    \"ko\",\n    fillstyle=\"none\",\n    label=\"FPS selection\",\n)\nax.set_xlabel(\"PCA[1]\")\nax.set_ylabel(\"PCA[2]\")\nax.legend()\nfig.show()"
      ]
    },
    {
      "cell_type": "markdown",
      "metadata": {},
      "source": [
        "### Creates a chemiscope viewer\n\n\n"
      ]
    },
    {
      "cell_type": "code",
      "execution_count": null,
      "metadata": {
        "collapsed": false
      },
      "outputs": [],
      "source": [
        "# Selected level\nselection_levels = []\nfor i in range(len(frames)):\n    level = 0\n    if i in struct_cur_idxs:\n        level += 1\n    if i in struct_fps_idxs:\n        level += 2\n    if level == 0:\n        level = \"Not selected\"\n    elif level == 1:\n        level = \"CUR\"\n    elif level == 2:\n        level = \"FPS\"\n    else:\n        level = \"FPS+CUR\"\n    selection_levels.append(level)\n\nproperties = chemiscope.extract_properties(frames)\n\nproperties.update(\n    {\n        \"PC1\": struct_soap_pca[:, 0],\n        \"PC2\": struct_soap_pca[:, 1],\n        \"PC3\": struct_soap_pca[:, 2],\n        \"PC4\": struct_soap_pca[:, 3],\n        \"selection\": np.array(selection_levels),\n    }\n)\n\nwidget = chemiscope.show(\n    frames,\n    properties=properties,\n    settings={\n        \"map\": {\n            \"x\": {\"property\": \"PC1\"},\n            \"y\": {\"property\": \"PC2\"},\n            \"color\": {\"property\": \"energy\"},\n            \"symbol\": \"selection\",\n            \"size\": {\"factor\": 50},\n        },\n        \"structure\": [{\"unitCell\": True}],\n    },\n)\nwidget.save(\"sample-selection.json.gz\")\n\n# display, if in notebook or sphinx\nwidget"
      ]
    },
    {
      "cell_type": "markdown",
      "metadata": {},
      "source": [
        "## Perform feature selection\n\nNow perform feature selection to reduce the size of the features.\nIn this example we will go back to using the\ndescriptor decomposed into atomic environments, as opposed to the one\ndecomposed into structure environments, but only use FPS for brevity.\n\n"
      ]
    },
    {
      "cell_type": "code",
      "execution_count": null,
      "metadata": {
        "collapsed": false
      },
      "outputs": [],
      "source": [
        "print(\"----Feature selection-----\")\nprint(\"keys\", atom_soap_single_block.keys)\nprint(\"blocks\", atom_soap_single_block[0])\nprint(\"samples in first block\", atom_soap_single_block[0].properties)\n\n# Define the number of features to select\nn_features = 200\n\n# FPS feature selection\nfeat_fps = feature_selection.FPS(n_to_select=n_features, initialize=\"random\").fit(\n    atom_soap_single_block.block(0).values\n)\nfeat_fps_idxs = feat_fps.selected_idx_\natom_soap_single_block_fps = metatensor.slice_block(\n    atom_soap_single_block.block(0), axis=\"properties\", selection=feat_fps_idxs\n)\n\n# Slice atomic descriptor along axis 1 to contain only the selected features\nprint(\n    \"atomic descriptor shape before selection \",\n    atom_soap_single_block.block(0).values.shape,\n)\nprint(\n    \"atomic descriptor shape after selection \",\n    atom_soap_single_block_fps.values.shape,\n)"
      ]
    }
  ],
  "metadata": {
    "kernelspec": {
      "display_name": "Python 3",
      "language": "python",
      "name": "python3"
    },
    "language_info": {
      "codemirror_mode": {
        "name": "ipython",
        "version": 3
      },
      "file_extension": ".py",
      "mimetype": "text/x-python",
      "name": "python",
      "nbconvert_exporter": "python",
      "pygments_lexer": "ipython3",
      "version": "3.12.12"
    }
  },
  "nbformat": 4,
  "nbformat_minor": 0
}