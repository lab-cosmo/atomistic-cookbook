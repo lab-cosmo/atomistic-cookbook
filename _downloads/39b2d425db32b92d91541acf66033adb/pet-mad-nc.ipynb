{
  "cells": [
    {
      "cell_type": "markdown",
      "metadata": {},
      "source": [
        "\n# MD using direct-force predictions with PET-MAD\n\n:Authors: Michele Ceriotti [@ceriottm](https://github.com/ceriottm),\n          Filippo Bigi [@frostedoyster](https://github.com/frostedoyster)\n\nEvaluating forces as a direct output of a ML model accelerates their evaluation,\nby up to a factor of 3 in comparison to the traditional approach that evaluates\nthem as derivatives of the interatomic potential.\nUnfortunately, as discussed e.g. in\n[this paper](https://openreview.net/pdf?id=OEl3L8osas), doing so means\nthat forces are not conservative, leading to instabilities and artefacts\nin many modeling tasks, such as constant-energy molecular dynamics.\nHere we demonstrate the issues associated with direct force predictions,\nand ways to mitigate them, using the generally-applicable\n[PET-MAD potential](https://arxiv.org/abs/2503.14118). See also\n[this recipe](https://atomistic-cookbook.org/examples/pet-mad/pet-mad.html)\nfor examples of using PET-MAD for basic tasks such as geometry optimization\nand conservative MD, and\n[this](https://atomistic-cookbook.org/examples/pet-finetuning/pet-ft-nc.html)\nfor an example of how to use direct forces to accelerate training.\n"
      ]
    },
    {
      "cell_type": "code",
      "execution_count": null,
      "metadata": {
        "collapsed": false
      },
      "outputs": [],
      "source": [
        "# sphinx_gallery_thumbnail_number = 2"
      ]
    },
    {
      "cell_type": "markdown",
      "metadata": {},
      "source": [
        "If you don't want to use the conda environment for this recipe,\nyou can get all dependencies installing\nthe [PET-MAD package](https://github.com/lab-cosmo/pet-mad):\n\n```bash\npip install pet-mad\n```\n"
      ]
    },
    {
      "cell_type": "code",
      "execution_count": null,
      "metadata": {
        "collapsed": false
      },
      "outputs": [],
      "source": [
        "import linecache\nimport subprocess\nimport time\n\nimport ase.io\n\n# visualization\nimport chemiscope\nimport matplotlib.pyplot as plt\n\n# i-PI scripting utilities\nfrom ipi.utils.parsing import read_output, read_trajectory\nfrom ipi.utils.scripting import InteractiveSimulation\n\n# metatomic ASE calculator\nfrom metatomic.torch.ase_calculator import MetatomicCalculator"
      ]
    },
    {
      "cell_type": "markdown",
      "metadata": {},
      "source": [
        "## Fetch PET-MAD and export the model\nWe first download a version of the PET-MAD model that includes non-conservative\nforces, and export the model as a torchscript file.\n\n"
      ]
    },
    {
      "cell_type": "code",
      "execution_count": null,
      "metadata": {
        "collapsed": false
      },
      "outputs": [],
      "source": [
        "# download the model checkpoint and export it, using metatrain from the command line:\n# mtt export https://huggingface.co/lab-cosmo/pet-mad/resolve/v1.1.0/models/pet-mad-v1.1.0.ckpt  # noqa: E501\n\nsubprocess.run(\n    [\n        \"mtt\",\n        \"export\",\n        \"https://huggingface.co/lab-cosmo/pet-mad/resolve/v1.1.0/models/pet-mad-v1.1.0.ckpt\",  # noqa: E501\n    ]\n)"
      ]
    },
    {
      "cell_type": "markdown",
      "metadata": {},
      "source": [
        "The model can also be loaded from this torchscript dump, which often\nspeeds up calculation as it involves compilation, and is functionally\nequivalent unless you plan on fine-tuning, or otherwise modifying\nthe model.\n\n"
      ]
    },
    {
      "cell_type": "code",
      "execution_count": null,
      "metadata": {
        "collapsed": false
      },
      "outputs": [],
      "source": [
        "calculator = MetatomicCalculator(\"pet-mad-v1.1.0.pt\", device=\"cpu\")"
      ]
    },
    {
      "cell_type": "markdown",
      "metadata": {},
      "source": [
        "## Non-conservative forces\n\nInteratomic potentials are typically used to compute the forces acting\non the atoms by differentiating with respect to atomic positions, i.e. if\n\n.. math ::\n\n   V(\\mathbf{r}_1, \\mathbf{r}_2, \\ldots \\mathbf{r}_n)\n\nis the potential for an atomic configuration then the force acting on\natom $i$ is\n\n.. math ::\n\n   \\mathbf{f}_i = -\\partial V/\\partial \\mathbf{r}_i\n\nEven though the early ML-based interatomic potentials followed this route,\ncomputing forces directly as a function of the atomic coordinates,\nas additional heads of the same model that computes $V$,\nis computationally more efficient (between 2x and 3x faster).\nThe `MetatomicCalculator` class allows one to choose between\nconservative (back-propagated) and non-conservative (direct)\nforce evaluation\n\n"
      ]
    },
    {
      "cell_type": "code",
      "execution_count": null,
      "metadata": {
        "collapsed": false
      },
      "outputs": [],
      "source": [
        "structure = ase.io.read(\"data/bmimcl.xyz\")\n\nstructure.calc = calculator\nenergy_c = structure.get_potential_energy()\nforces_c = structure.get_forces()\n\ncalculator_nc = MetatomicCalculator(\n    \"pet-mad-v1.1.0.pt\", device=\"cpu\", non_conservative=True\n)\n\nstructure.calc = calculator_nc\nenergy_nc = structure.get_potential_energy()\nforces_nc = structure.get_forces()"
      ]
    },
    {
      "cell_type": "code",
      "execution_count": null,
      "metadata": {
        "collapsed": false
      },
      "outputs": [],
      "source": [
        "print(f\"Energy:\\n  Conservative: {energy_c:.8}\\n  Non-conserv.: {energy_nc:.8}\")\nprint(\n    f\"Force sample (atom 0):\\n  Conservative: {forces_c[0]}\\n\"\n    + f\"  Non-conserv.: {forces_nc[0]}\"\n)"
      ]
    },
    {
      "cell_type": "markdown",
      "metadata": {},
      "source": [
        "## Energy conservation in NVE molecular dynamics\n\nMolecular dynamics simply integrates Hamilton's equations\n\n.. math ::\n\n      \\dot{\\mathbf{r}}_i = \\mathbf{p}_i/m_i \\quad \\dot{\\mathbf{p}}_i = \\mathbf{f}_i\n\nto evolve in time the atomic positions. When the forces are the\nderivatives of a potential energy $V$, these equations conserve\nthe total energy $H = V+\\sum_i\\mathbf{p}_i^2/2m_i$.\n\nFinite time step integrators only conserve energy approximately, but\nusually stable dynamics implies a high level of conservation, and no\nlong-time drift. Here we demonstrate the impact of direct force\nprediction on energy conservation, using a short MD trajectory of\n1-Butyl-3-methylimidazolium chloride (BMIM-Cl).\n\n"
      ]
    },
    {
      "cell_type": "markdown",
      "metadata": {},
      "source": [
        "### Conservative forces\n\nFirst, we run a few steps computing forces as derivatives of the potential.\nThe MD setup is described in the ``input-nve.xml`` file.\nThis is a rather standard setup, with the key parameters being those\ngiven in the ``<ffdirect>`` section.\n\n"
      ]
    },
    {
      "cell_type": "code",
      "execution_count": null,
      "metadata": {
        "collapsed": false
      },
      "outputs": [],
      "source": [
        "with open(\"data/input-nve.xml\", \"r\") as file:\n    input_nve = file.read()\nprint(input_nve)"
      ]
    },
    {
      "cell_type": "markdown",
      "metadata": {},
      "source": [
        "The simulation can also be run from the command line using\n\n```bash\ni-pi data/input-nve.xml\n```\nbut here we run interactively, timing the execution for comparison.\n\n"
      ]
    },
    {
      "cell_type": "code",
      "execution_count": null,
      "metadata": {
        "collapsed": false
      },
      "outputs": [],
      "source": [
        "sim = InteractiveSimulation(input_nve)\nsteps_nve_c = 32\ntime_nve_c = -time.time()\nsim.run(steps_nve_c)\ntime_nve_c += time.time()\ntime_nve_c /= steps_nve_c + 1  # there's one extra energy evaluation at the beginning"
      ]
    },
    {
      "cell_type": "markdown",
      "metadata": {},
      "source": [
        "### Non-conservative (direct) forces\n\nThe PET-MAD model provides direct force predictions, that can be\nactivated with a ``non_conservative:True`` flag. This makes it very\nsimple to modify the NVE setup:\n\n"
      ]
    },
    {
      "cell_type": "code",
      "execution_count": null,
      "metadata": {
        "collapsed": false
      },
      "outputs": [],
      "source": [
        "with open(\"data/input-nc-nve.xml\", \"r\") as file:\n    input_nve = file.read()\nprint(input_nve[574:764])"
      ]
    },
    {
      "cell_type": "markdown",
      "metadata": {},
      "source": [
        "We run this example for longer (it is faster!) and time it\nfor comparison\n\n"
      ]
    },
    {
      "cell_type": "code",
      "execution_count": null,
      "metadata": {
        "collapsed": false
      },
      "outputs": [],
      "source": [
        "sim = InteractiveSimulation(input_nve)\nsteps_nve_nc = 128\ntime_nve_nc = -time.time()\nsim.run(steps_nve_nc)\ntime_nve_nc += time.time()\ntime_nve_nc /= steps_nve_nc + 1"
      ]
    },
    {
      "cell_type": "markdown",
      "metadata": {},
      "source": [
        "The simulation generates output files that can be parsed and visualized from Python.\n\n"
      ]
    },
    {
      "cell_type": "code",
      "execution_count": null,
      "metadata": {
        "collapsed": false
      },
      "outputs": [],
      "source": [
        "data_c, info = read_output(\"nve-c.out\")\ndata_nc, info = read_output(\"nve-nc.out\")"
      ]
    },
    {
      "cell_type": "markdown",
      "metadata": {},
      "source": [
        "There is a large drift of the onserved quantity, that is also associated\nin a rapid increase of the potential energy, which indicates that the lack\nof conservative behavior distorts the sampled ensemble (and in fact, would\nlead to loss of structural integrity in a longer run).\n\n"
      ]
    },
    {
      "cell_type": "code",
      "execution_count": null,
      "metadata": {
        "collapsed": false
      },
      "outputs": [],
      "source": [
        "fig, ax = plt.subplots(1, 1, figsize=(4, 3), constrained_layout=True)\n\nax.set_facecolor(\"white\")\nax.plot(data_c[\"time\"], data_c[\"potential\"], \"b*\", label=r\"$V$ (cons.)\")\nax.plot(data_c[\"time\"], data_c[\"conserved\"] - 20, \"k*\", label=r\"$H$ (cons.)\")\nax.plot(data_nc[\"time\"], data_nc[\"potential\"], \"b--\", label=r\"$V$ (direct)\")\nax.plot(data_nc[\"time\"], data_nc[\"conserved\"] - 20, \"k--\", label=r\"$H$ (direct)\")\nax.set_xlabel(\"t / ps\")\nax.set_ylabel(\"energy / ev\")\nax.legend()"
      ]
    },
    {
      "cell_type": "markdown",
      "metadata": {},
      "source": [
        "## Energy conservation at low-cost with multiple time stepping\n\nGiven that PET-MAD provides *both* direct and conservative forces, it\nis possible to implement a simulation strategy that achieves a high\ndegree of energy conservation at a cost that is close to that of direct-force\nMD. This relies on the multiple time stepping (MTS) idea, which is discussed\nand demonstrated in [this recipe](https://atomistic-cookbook.org/examples/pi-mts-rpc/mts-rpc.html).\n\nThe key idea is to perform several steps of MD using the short timestep\nneeded to follow atomic motion, and a \"cheap\" force evaluator\n$\\mathbf{f}_{\\mathrm{fast}}$, and then\napply a correction $\\mathbf{f}_{\\mathrm{slow}}$ every $M$\nof such steps. In this case, the fast forces are the direct predictions,\nand the slow ones the difference between conservative and direct forces.\n\n"
      ]
    },
    {
      "cell_type": "markdown",
      "metadata": {},
      "source": [
        "This simulation setup can be realized readily in i-PI.\n\n"
      ]
    },
    {
      "cell_type": "code",
      "execution_count": null,
      "metadata": {
        "collapsed": false
      },
      "outputs": [],
      "source": [
        "with open(\"data/input-nc-nve-mts.xml\", \"r\") as file:\n    input_nve_mts = file.read()"
      ]
    },
    {
      "cell_type": "markdown",
      "metadata": {},
      "source": [
        "First, one can define two forcefields that compute conservative and\ndirect forces\n\n"
      ]
    },
    {
      "cell_type": "code",
      "execution_count": null,
      "metadata": {
        "collapsed": false
      },
      "outputs": [],
      "source": [
        "print(input_nve_mts[704:1082])"
      ]
    },
    {
      "cell_type": "markdown",
      "metadata": {},
      "source": [
        "... then, use them in the definition of the systems, specifying how\nto weight them at each MTS level\n\n"
      ]
    },
    {
      "cell_type": "code",
      "execution_count": null,
      "metadata": {
        "collapsed": false
      },
      "outputs": [],
      "source": [
        "print(input_nve_mts[1258:1482])"
      ]
    },
    {
      "cell_type": "markdown",
      "metadata": {},
      "source": [
        "... and finally request the appropriate MTS discretization in the\nintegrator: this specifies that the inner loop should be executed 8\ntimes, and the outer loop (which has an overall time step of 4 fs)\nonce per step\n\n"
      ]
    },
    {
      "cell_type": "code",
      "execution_count": null,
      "metadata": {
        "collapsed": false
      },
      "outputs": [],
      "source": [
        "print(input_nve_mts[1480:1655])"
      ]
    },
    {
      "cell_type": "markdown",
      "metadata": {},
      "source": [
        "All of this happens behind the scenes, and the simulation is just run\nas for the simpler MD cases. Note also that it is possible to combine\nthis with thermostatted or NPT dynamics, in a completely seamless manner\n\n"
      ]
    },
    {
      "cell_type": "code",
      "execution_count": null,
      "metadata": {
        "collapsed": false
      },
      "outputs": [],
      "source": [
        "sim = InteractiveSimulation(input_nve_mts)\nnmts = 8\nsteps_nve_mts = steps_nve_nc // nmts\ntime_nve_mts = -time.time()\nsim.run(steps_nve_mts)\ntime_nve_mts += time.time()\ntime_nve_mts /= steps_nve_mts * nmts + 1"
      ]
    },
    {
      "cell_type": "markdown",
      "metadata": {},
      "source": [
        "The MTS calculation recovers most of the speedup of direct forces\n\n\n"
      ]
    },
    {
      "cell_type": "code",
      "execution_count": null,
      "metadata": {
        "collapsed": false
      },
      "outputs": [],
      "source": [
        "print(\n    f\"\"\"\nTime per 0.5fs step:\nConservative forces: {time_nve_c:.4f} s/step\nDirect forces:       {time_nve_nc:.4f} s/step\nMTS (M=8):           {time_nve_mts:.4f} s/step\n\"\"\"\n)"
      ]
    },
    {
      "cell_type": "markdown",
      "metadata": {},
      "source": [
        "... and the energy conservation is on par with the conservative\ntrajectory (although the actual trajectories would deviate from each other\ndue to accumulation of small errors, but the overall sampling is\nreliable on a long timescale).\n\n"
      ]
    },
    {
      "cell_type": "code",
      "execution_count": null,
      "metadata": {
        "collapsed": false
      },
      "outputs": [],
      "source": [
        "data_mts, info = read_output(\"nve-nc-mts.out\")\ntrj_mts = read_trajectory(\"nve-nc-mts.pos_0.extxyz\")\nforce_c_mts = read_trajectory(\"nve-nc-mts.forces_c.extxyz\")\nforce_nc_mts = read_trajectory(\"nve-nc-mts.forces_nc.extxyz\")\n#\n\nfig, ax = plt.subplots(1, 1, figsize=(4, 3), constrained_layout=True)\n\nax.set_facecolor(\"white\")\nax.plot(data_c[\"time\"], data_c[\"potential\"], \"b*\", label=r\"$V$ (cons.)\")\nax.plot(data_nc[\"time\"], data_nc[\"potential\"], \"b--\", label=r\"$V$ (direct)\")\nax.plot(data_mts[\"time\"], data_mts[\"potential\"], \"b-\", label=r\"$V$ (MTS)\")\nax.plot(data_c[\"time\"], data_c[\"conserved\"] - 20, \"k*\", label=r\"$H$ (cons.)\")\nax.plot(data_nc[\"time\"], data_nc[\"conserved\"] - 20, \"k--\", label=r\"$H$ (direct)\")\nax.plot(data_mts[\"time\"], data_mts[\"conserved\"] - 20, \"k-\", label=r\"$H$ (MTS)\")\nax.set_xlabel(\"t / ps\")\nax.set_ylabel(\"energy / ev\")\nax.legend(ncols=2)"
      ]
    },
    {
      "cell_type": "markdown",
      "metadata": {},
      "source": [
        "i-PI prints out both force components for diagnostics, which\nwe can visualize along the (short) trajectory. The conservative\nforces are shown in atom colors, and the direct predictions in red.\nOne sees clearly that the two predictions are quite close, so the\ncorrection is small and can be successfully applied with a large\nMTS stride.\n\n"
      ]
    },
    {
      "cell_type": "code",
      "execution_count": null,
      "metadata": {
        "collapsed": false
      },
      "outputs": [],
      "source": [
        "cs_forces_c = chemiscope.ase_vectors_to_arrows(\n    force_c_mts, \"forces_component\", scale=1.0\n)\ncs_forces_nc = chemiscope.ase_vectors_to_arrows(\n    force_nc_mts, \"forces_component\", scale=1.0\n)\ncs_forces_nc[\"parameters\"][\"global\"][\"color\"] = \"#aa0000\"\n\nchemiscope.show(\n    trj_mts,\n    mode=\"default\",\n    properties={\n        \"time\": data_mts[\"time\"][::2],\n        \"conserved\": data_mts[\"conserved\"][::2],\n        \"potential\": data_mts[\"potential\"][::2],\n    },\n    shapes={\n        \"forces_c\": cs_forces_c,\n        \"forces_nc\": cs_forces_nc,\n    },\n    settings=chemiscope.quick_settings(\n        x=\"time\",\n        y=\"potential\",\n        structure_settings={\"unitCell\": True, \"shape\": [\"forces_c\", \"forces_nc\"]},\n        trajectory=True,\n    ),\n    meta={\n        \"name\": \"MTS direct-forces MD for BMIM-Cl\",\n        \"description\": \"Initial configuration kindly provided \"\n        + \" by Moritz Schaefer and Fabian Zills\",\n    },\n)"
      ]
    },
    {
      "cell_type": "markdown",
      "metadata": {},
      "source": [
        "### LAMMPS implementation\nThe speedup of the MTS approach with direct forces can also be\nexploited in LAMMPS. We only show minimal examples running for a\nfew steps to keep the execution time short, but the same approach\ncan be used for realistic simulations. Keep in mind that in order\nto accelerate the simulation, you should change the `cpu` device\nto `cuda` in the LAMMPS input file when running on a GPU system.\n\n"
      ]
    },
    {
      "cell_type": "markdown",
      "metadata": {},
      "source": [
        "We first launch conservative and non-conservative trajectories for\nreference. These use the `metatomic` interface to LAMMPS (which\nrequires a custom LAMMPS build, available through the `metatensor`\nconda forge). See also [the metatomic documentation](https://docs.metatensor.org/metatomic/latest/engines/lammps.html)\nfor installation instructions.\n\n"
      ]
    },
    {
      "cell_type": "code",
      "execution_count": null,
      "metadata": {
        "collapsed": false
      },
      "outputs": [],
      "source": [
        "print(linecache.getline(\"data/lammps-c.in\", 12), end=\"\")\n\ntime_lammps_c = -time.time()\nsubprocess.run([\"lmp\", \"-in\", \"data/lammps-c.in\"])\ntime_lammps_c += time.time()"
      ]
    },
    {
      "cell_type": "markdown",
      "metadata": {},
      "source": [
        "In order to get the non-conservative forces, we just need to\nspecify the ``non_conservative on`` flag in the LAMMPS input file.\n\n"
      ]
    },
    {
      "cell_type": "code",
      "execution_count": null,
      "metadata": {
        "collapsed": false
      },
      "outputs": [],
      "source": [
        "print(linecache.getline(\"data/lammps-nc.in\", 12), end=\"\")\n\ntime_lammps_nc = -time.time()\nsubprocess.run([\"lmp\", \"-in\", \"data/lammps-nc.in\"])\ntime_lammps_nc += time.time()"
      ]
    },
    {
      "cell_type": "markdown",
      "metadata": {},
      "source": [
        "The multiple time stepping integrator can be implemented in lammps\nusing a ``pair_style hybrid/overlay``, providing multiple\n``metatomic_X`` pair styles - one for the fast (non-conservative) forces, and two\nfor the slow correction (conservative minus non-conservative).\nNote that you can also use ``pair_style hybrid/scaled``, which however\nis affected by a [bug](https://github.com/lammps/lammps/issues/3492) at the\ntime of writing, which prevents it from working correctly with the GPU build\nof LAMMPS.\n\n"
      ]
    },
    {
      "cell_type": "code",
      "execution_count": null,
      "metadata": {
        "collapsed": false
      },
      "outputs": [],
      "source": [
        "for lineno in [12, 13, 14, 15, 17, 18, 19, 24, 27]:\n    print(linecache.getline(\"data/lammps-respa.in\", lineno), end=\"\")\n\ntime_lammps_mts = -time.time()\nsubprocess.run([\"lmp\", \"-in\", \"data/lammps-respa.in\"])\ntime_lammps_mts += time.time()"
      ]
    },
    {
      "cell_type": "markdown",
      "metadata": {},
      "source": [
        "The timings for the three LAMMPS simulations are as follows.\nNote that while i-PI reuses the fast force for the correction in the\nouter loop, with the current implementation LAMMPS requires a separate\npair style, which reduces the MTS speedup slightly.\n\n"
      ]
    },
    {
      "cell_type": "code",
      "execution_count": null,
      "metadata": {
        "collapsed": false
      },
      "outputs": [],
      "source": [
        "print(\n    f\"\"\"\nTime per 0.5fs step in LAMMPS:\nConservative forces: {time_lammps_c / 16:.4f} s/step\nDirect forces:       {time_lammps_nc / 16:.4f} s/step\nMTS (M=8):           {time_lammps_mts / 16:.4f} s/step\n\"\"\"\n)"
      ]
    },
    {
      "cell_type": "markdown",
      "metadata": {},
      "source": [
        "### Running LAMMPS on GPUs with KOKKOS\nIf you have a GPU available, you can achieve a dramatic speedup\nby running the `metatomic` model on the GPU, which you can achieve\nby setting ``device cuda`` for the `metatomic` pair style in the LAMMPS input files.\nThe MD integration will however still be run on the CPU, which can become the\nbottleneck - especially because atomic positions need to be transfered to the GPU\nat each call. LAMMPS can also be run directly on the GPU using the KOKKOS package,\nsee [the installation instructions](https://docs.metatensor.org/metatomic/latest/engines/lammps.html) for\nthe kokkos-enabled version.\n\n"
      ]
    },
    {
      "cell_type": "markdown",
      "metadata": {},
      "source": [
        "In order to enable the KOKKOS execution, you then have to use additional command-line\narguments when running LAMMPS, e.g.\n``lmp -k on g <NGPUS> -pk kokkos newton on neigh half -sf kk``.\nThe commands to execute the LAMMPS simulation examples with Kokkos enabled, using\nconservative, non-conservative, and MTS force evaluations, are\n\n```bash\nlmp -k on g 1 -pk kokkos newton on neigh half -sf kk -in data/lammps-c.in\nlmp -k on g 1 -pk kokkos newton on neigh half -sf kk -in data/lammps-nc.in\nlmp -k on g 1 -pk kokkos newton on neigh half -sf kk -in data/lammps-respa.in\n```\n"
      ]
    }
  ],
  "metadata": {
    "kernelspec": {
      "display_name": "Python 3",
      "language": "python",
      "name": "python3"
    },
    "language_info": {
      "codemirror_mode": {
        "name": "ipython",
        "version": 3
      },
      "file_extension": ".py",
      "mimetype": "text/x-python",
      "name": "python",
      "nbconvert_exporter": "python",
      "pygments_lexer": "ipython3",
      "version": "3.12.12"
    }
  },
  "nbformat": 4,
  "nbformat_minor": 0
}