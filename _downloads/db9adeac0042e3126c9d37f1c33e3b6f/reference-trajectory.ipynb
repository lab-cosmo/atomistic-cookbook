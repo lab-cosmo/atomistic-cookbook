{
  "cells": [
    {
      "cell_type": "markdown",
      "metadata": {},
      "source": [
        "\n# Batch run of CP2K calculations\n\n:Authors: Matthias Kellner [@bananenpampe](https://github.com/bananenpampe/),\n          Philip Loche [@PicoCentauri](https://github.com/PicoCentauri/)\n\nThis is an example how to perform single point calculations based on list of structures\nusing [CP2K](https://www.cp2k.org) using its [reftraj functionality](https://manual.cp2k.org/trunk/CP2K_INPUT/MOTION/MD/REFTRAJ.html). The inputs are a\nset of structures in :download:`example.xyz` using the DFT parameters defined in\n:download:`reftraj_template.cp2k`. The reference DFT parameters are taken from [Cheng et\nal. Ab initio thermodynamics of liquid and solid water 2019](https://www.pnas.org/doi/10.1073/pnas.1815117116). Due to the small size of the test\nstructure and convergence issues, we have decreased the size of the ``CUTOFF_RADIUS``\nfrom $6.0\\,\\mathrm{\u00c5}$ to $3.0\\,\\mathrm{\u00c5}$. For actual production\ncalculations adapt the template!\n"
      ]
    },
    {
      "cell_type": "markdown",
      "metadata": {},
      "source": [
        "We start the example by importing the required packages.\n\n"
      ]
    },
    {
      "cell_type": "code",
      "execution_count": null,
      "metadata": {
        "collapsed": false
      },
      "outputs": [],
      "source": [
        "import os\nimport platform\nimport subprocess\nfrom typing import List, Union\n\nimport ase.io\nimport ase.visualize.plot\nimport matplotlib.pyplot as plt\nimport numpy as np\nimport requests"
      ]
    },
    {
      "cell_type": "markdown",
      "metadata": {},
      "source": [
        "## Install CP2K\n\nWe'll need a working installation of cp2k. The best way to do so depends on your\nplatform, here are some possible solutions, but feel free to replace them with another\ninstallation method.\n\n"
      ]
    },
    {
      "cell_type": "code",
      "execution_count": null,
      "metadata": {
        "collapsed": false
      },
      "outputs": [],
      "source": [
        "if platform.system() == \"Linux\":\n    # use conda on Linux\n    subprocess.run(\n        [\n            \"conda\",\n            \"install\",\n            \"cp2k=2024.2=openblas_nompi_hbd0aaf2_1000\",\n            \"-c\",\n            \"conda-forge\",\n            \"-y\",\n        ],\n        check=True,\n    )\nelif platform.system() == \"Darwin\":\n    # use homebrew on macOS\n    subprocess.run([\"brew\", \"install\", \"cp2k\"], check=True)\nelse:\n    print(\"no known way to install cp2k, skipping installation\")"
      ]
    },
    {
      "cell_type": "markdown",
      "metadata": {},
      "source": [
        "## Define necessary functions\nNext we below define necessary helper functions to run the example.\n\n"
      ]
    },
    {
      "cell_type": "code",
      "execution_count": null,
      "metadata": {
        "collapsed": false
      },
      "outputs": [],
      "source": [
        "def write_reftraj(fname: str, frames: Union[ase.Atoms, List[ase.Atoms]]) -> None:\n    \"\"\"Writes a list of ase atoms objects to a reference trajectory.\n\n    A reference trajectory is the CP2K compatible format for the compuation of batches.\n    All frames must have the stoichiometry/composition.\n    \"\"\"\n\n    if isinstance(frames, ase.Atoms):\n        frames = [frames]\n\n    out = \"\"\n    for i, atoms in enumerate(frames):\n        if (\n            len(atoms) != len(frames[0])\n            or atoms.get_chemical_formula() != frames[0].get_chemical_formula()\n        ):\n            raise ValueError(\n                f\"Atom symbols in frame {i},{atoms.get_chemical_formula()} are \"\n                f\"different compared to inital frame \"\n                f\"{frames[0].get_chemical_formula()}. \"\n                \"CP2K does not support changing atom types within a reftraj run!\"\n            )\n\n        out += f\"{len(atoms):>8}\\n i = {i + 1:>8}, time = {0:>12.3f}\\n\"\n        for atom in atoms:\n            pos = atom.position\n            out += f\"{atom.symbol}{pos[0]:24.15f}{pos[1]:24.15f}{pos[2]:24.15f}\\n\"\n    out += \"\\n\"\n    with open(fname, \"w\") as f:\n        f.write(out)"
      ]
    },
    {
      "cell_type": "code",
      "execution_count": null,
      "metadata": {
        "collapsed": false
      },
      "outputs": [],
      "source": [
        "def write_cellfile(fname: str, frames: Union[ase.Atoms, List[ase.Atoms]]) -> None:\n    \"\"\"Writes a cellfile for a list of ``ase.Atoms``.\n\n    A Cellfile accompanies a reftraj containing the cell parameters.\n    \"\"\"\n    if isinstance(frames, ase.Atoms):\n        frames = [frames]\n\n    out = (\n        \"#   \"\n        \"Step   \"\n        \"Time [fs]       \"\n        \"Ax [Angstrom]       \"\n        \"Ay [Angstrom]       \"\n        \"Az [Angstrom]       \"\n        \"Bx [Angstrom]       \"\n        \"By [Angstrom]       \"\n        \"Bz [Angstrom]       \"\n        \"Cx [Angstrom]       \"\n        \"Cy [Angstrom]       \"\n        \"Cz [Angstrom]       \"\n        \"Volume [Angstrom^3]\\n\"\n    )\n\n    for i, atoms in enumerate(frames):\n        out += f\"{i + 1:>8}{0:>12.3f}\"\n        out += \"\".join([f\"{c:>20.10f}\" for c in atoms.cell.flatten()])\n        out += f\"{atoms.cell.volume:>25.10f}\"\n        out += \"\\n\"\n\n    with open(fname, \"w\") as f:\n        f.write(out)"
      ]
    },
    {
      "cell_type": "code",
      "execution_count": null,
      "metadata": {
        "collapsed": false
      },
      "outputs": [],
      "source": [
        "def write_cp2k_in(\n    fname: str, project_name: str, last_snapshot: int, cell: List[float]\n) -> None:\n    \"\"\"Writes a cp2k input file from a template.\n\n    Importantly, it writes the location of the basis set definitions,\n    determined from the path of the system CP2K install to the input file.\n    \"\"\"\n\n    cp2k_in = open(\"reftraj_template.cp2k\", \"r\").read()\n\n    cp2k_in = cp2k_in.replace(\"//PROJECT//\", project_name)\n    cp2k_in = cp2k_in.replace(\"//LAST_SNAPSHOT//\", str(last_snapshot))\n    cp2k_in = cp2k_in.replace(\"//CELL//\", \" \".join([f\"{c:.6f}\" for c in cell]))\n\n    with open(fname, \"w\") as f:\n        f.write(cp2k_in)"
      ]
    },
    {
      "cell_type": "markdown",
      "metadata": {},
      "source": [
        "We will now download basis set files from CP2K website. Depending on your CP2K\ninstallation, this might not be necessary!\n\n"
      ]
    },
    {
      "cell_type": "code",
      "execution_count": null,
      "metadata": {
        "collapsed": false
      },
      "outputs": [],
      "source": [
        "def download_parameter(file):\n    path = os.path.join(\"parameters\", file)\n\n    if not os.path.exists(path):\n        url = f\"https://raw.githubusercontent.com/cp2k/cp2k/support/v2024.1/data/{file}\"\n        response = requests.get(url)\n        response.raise_for_status()\n        with open(path, \"wb\") as f:\n            f.write(response.content)\n\n\nos.makedirs(\"parameters\", exist_ok=True)\nfor file in [\"GTH_BASIS_SETS\", \"BASIS_ADMM\", \"POTENTIAL\", \"dftd3.dat\", \"t_c_g.dat\"]:\n    download_parameter(file)"
      ]
    },
    {
      "cell_type": "markdown",
      "metadata": {},
      "source": [
        "## Prepare calculation inputs\nDuring this example we will create a directory named ``project_directory`` containing\nthe subdirectories for each stoichiometry. This is necessary, because CP2K can only\nrun calculations using a fixed stoichiometry at a time, using its ``reftraj``\nfunctionality.\n\nBelow we define the general information for the CP2K run. This includes the reference\nfiles for the structures, the ``project_name`` used to build the name of the\ntrajectory during the CP2K run, the ``project_directory`` where we store all\nsimulation output as well as the path ``write_to_file`` which is the name of the file\ncontaining the computed energies and forces of the simulation.\n\n"
      ]
    },
    {
      "cell_type": "code",
      "execution_count": null,
      "metadata": {
        "collapsed": false
      },
      "outputs": [],
      "source": [
        "frames_full = ase.io.read(\"example.xyz\", \":\")\nproject_name = \"test_calcs\"  # name of the global PROJECT\nproject_directory = \"production\"\nwrite_to_file = \"out.xyz\""
      ]
    },
    {
      "cell_type": "markdown",
      "metadata": {},
      "source": [
        "Below we show the initial configuration of two water molecules in a cubic box with a\nside length of $\\approx 4\\,\\mathrm{\u00c5}$.\n\n"
      ]
    },
    {
      "cell_type": "code",
      "execution_count": null,
      "metadata": {
        "collapsed": false
      },
      "outputs": [],
      "source": [
        "ase.visualize.plot.plot_atoms(frames_full[0])\n\nplt.xlabel(\"\u00c5\")\nplt.ylabel(\"\u00c5\")\n\nplt.show()"
      ]
    },
    {
      "cell_type": "markdown",
      "metadata": {},
      "source": [
        "We now extract the stoichiometry from the input dataset using ASE's\n:py:meth:`ase.symbols.Symbols.get_chemical_formula` method.\n\n"
      ]
    },
    {
      "cell_type": "code",
      "execution_count": null,
      "metadata": {
        "collapsed": false
      },
      "outputs": [],
      "source": [
        "frames_dict = {}\n\nfor atoms in frames_full:\n    chemical_formula = atoms.get_chemical_formula()\n    try:\n        frames_dict[chemical_formula]\n    except KeyError:\n        frames_dict[chemical_formula] = []\n\n    frames_dict[chemical_formula].append(atoms)"
      ]
    },
    {
      "cell_type": "markdown",
      "metadata": {},
      "source": [
        "Based on the stoichiometries we create one calculation subdirectories for the\ncalculations. (reftraj, input and cellfile). For our example this is only is one\ndirectory named ``H4O2`` because our dataset consists only of a single structure with\ntwo water molecules.\n\n"
      ]
    },
    {
      "cell_type": "code",
      "execution_count": null,
      "metadata": {
        "collapsed": false
      },
      "outputs": [],
      "source": [
        "for stoichiometry, frames in frames_dict.items():\n    current_directory = f\"{project_directory}/{stoichiometry}\"\n    os.makedirs(current_directory, exist_ok=True)\n\n    write_cp2k_in(\n        f\"{current_directory}/in.cp2k\",\n        project_name=project_name,\n        last_snapshot=len(frames),\n        cell=frames[0].cell.diagonal(),\n    )\n\n    ase.io.write(f\"{current_directory}/init.xyz\", frames[0])\n    write_reftraj(f\"{current_directory}/reftraj.xyz\", frames)\n    write_cellfile(f\"{current_directory}/reftraj.cell\", frames)"
      ]
    },
    {
      "cell_type": "markdown",
      "metadata": {},
      "source": [
        "## Run simulations\nNow we have all ingredients to run the simulations. Below we call the bash script\n:download:`run_calcs.sh`.\n\n.. literalinclude:: run_calcs.sh\n  :language: bash\n\nThis script will loop through all stoichiometry subdirectories and call the CP2K\nengine.\n\n"
      ]
    },
    {
      "cell_type": "code",
      "execution_count": null,
      "metadata": {
        "collapsed": false
      },
      "outputs": [],
      "source": [
        "# run the bash script directly from this script\nsubprocess.run(\"bash run_calcs.sh\", shell=True)"
      ]
    },
    {
      "cell_type": "markdown",
      "metadata": {},
      "source": [
        "<div class=\"alert alert-info\"><h4>Note</h4><p>For a usage on an HPC environment you can parallelize the loop over the\n   sub-directories and submit and single job per stoichiometry.</p></div>\n\n## Load results\nAfter the simulation we load the results and perform a unit version from the default\nCP2K output units (Bohr and Hartree) to \u00c5 and eV.\n\n"
      ]
    },
    {
      "cell_type": "code",
      "execution_count": null,
      "metadata": {
        "collapsed": false
      },
      "outputs": [],
      "source": [
        "cflength = 0.529177210903  # Bohr -> \u00c5\ncfenergy = 27.211386245988  # Hartree -> eV\ncfforce = cfenergy / cflength  # Hartree/Bohr -> eV/\u00c5"
      ]
    },
    {
      "cell_type": "markdown",
      "metadata": {},
      "source": [
        "Finally, we store the results as :class:`ase.Atoms` in the ``new_frames`` list and\nwrite them to the ``project_directory`` using the ``new_fname``. Here it will be\nwritten to ``production/out_dft.xyz``.\n\n"
      ]
    },
    {
      "cell_type": "code",
      "execution_count": null,
      "metadata": {
        "collapsed": false
      },
      "outputs": [],
      "source": [
        "new_frames = []\n\nfor stoichiometry, frames in frames_dict.items():\n    current_directory = f\"{project_directory}/{stoichiometry}\"\n\n    frames_dft = ase.io.read(f\"{current_directory}/{project_name}-pos-1.xyz\", \":\")\n    forces_dft = ase.io.read(f\"{current_directory}/{project_name}-frc-1.xyz\", \":\")\n    cell_dft = np.atleast_2d(np.loadtxt(f\"{current_directory}/{project_name}-1.cell\"))[\n        :, 2:-1\n    ]\n\n    for i_atoms, atoms in enumerate(frames_dft):\n        frames_ref = frames[i_atoms]\n\n        # Check consistent positions\n        if not np.allclose(atoms.positions, frames_ref.positions):\n            raise ValueError(f\"Positions in frame {i_atoms} are not the same.\")\n\n        # Check consistent cell\n        if not np.allclose(frames_ref.cell.flatten(), cell_dft[i_atoms]):\n            raise ValueError(f\"Cell dimensions in frame {i_atoms} are not the same.\")\n\n        atoms.info[\"E\"] *= cfenergy\n        atoms.pbc = True\n        atoms.cell = frames_ref.cell\n        atoms.set_array(\"forces\", cfforce * forces_dft[i_atoms].positions)\n\n    new_frames += frames_dft\n\nnew_fname = f\"{os.path.splitext(os.path.basename(write_to_file))[0]}_dft.xyz\"\nase.io.write(f\"{project_directory}/{new_fname}\", new_frames)"
      ]
    }
  ],
  "metadata": {
    "kernelspec": {
      "display_name": "Python 3",
      "language": "python",
      "name": "python3"
    },
    "language_info": {
      "codemirror_mode": {
        "name": "ipython",
        "version": 3
      },
      "file_extension": ".py",
      "mimetype": "text/x-python",
      "name": "python",
      "nbconvert_exporter": "python",
      "pygments_lexer": "ipython3",
      "version": "3.11.14"
    }
  },
  "nbformat": 4,
  "nbformat_minor": 0
}