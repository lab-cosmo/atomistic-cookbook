{
  "cells": [
    {
      "cell_type": "markdown",
      "metadata": {},
      "source": [
        "\n# Constant-temperature MD and thermostats\n\n:Authors: Michele Ceriotti [@ceriottm](https://github.com/ceriottm/)\n\nThis recipe gives a practical introduction to finite-temperature\nmolecular dynamics simulations, and provides a guide to choose the\nmost appropriate thermostat for the simulation at hand.\n\nAs for other examples in the cookbook, a small simulation of liquid\nwater is used as an archetypal example. Molecular dynamics, sampling,\nand constant-temperature simulations are discussed in much detail in\nthe book \"Understanding Molecular Simulations\" by Daan Frenkel and Berend Smit.\nThis\n[seminal paper by H.C.Andersen](https://doi.org/10.1063/1.439486)\nprovides a good historical introduction to the problem of\nthermostatting, and this\n[PhD thesis](https://www.research-collection.ethz.ch/handle/20.500.11850/152344)\nprovides a more detailed background to several of the techniques\ndiscussed in this recipe.\n"
      ]
    },
    {
      "cell_type": "code",
      "execution_count": null,
      "metadata": {
        "collapsed": false
      },
      "outputs": [],
      "source": [
        "import os"
      ]
    },
    {
      "cell_type": "code",
      "execution_count": null,
      "metadata": {
        "collapsed": false
      },
      "outputs": [],
      "source": [
        "import subprocess\nimport time\nimport xml.etree.ElementTree as ET\n\nimport chemiscope\nimport ipi\nimport matplotlib as mpl\nimport matplotlib.pyplot as plt\nimport numpy as np\nfrom ipi.utils.tools.acf_xyz import compute_acf_xyz\nfrom ipi.utils.tools.gle import get_gle_matrices, gle_frequency_kernel, isra_deconvolute"
      ]
    },
    {
      "cell_type": "markdown",
      "metadata": {},
      "source": [
        "## Constant-temperature sampling of (thermo)dynamics\n\nEven though Hamilton's equations in classical mechanics conserve the total\nenergy of the group of atoms in a simulation, experimental boundary conditions\nusually involve exchange of heat with the surroundings, especially when considering\nthe relatively small supercells that are often used in simulations.\n\nThe goal of a constant-temperature MD simulation is to compute efficiently thermal\naverages of the form $\\langle A(q,p)\\rangle_\\beta$, where the average\nof the observable $A(q,p)$ is\nevaluated over the Boltzmann distribution at inverse temperature\n$\\beta=1/k_\\mathrm{B}T$,\n$P(q,p)=Q^{-1} \\exp(-\\beta(p^2/2m + V(q)))$\nIn all these scenarios, optimizing the simulation involves reducing as much as\npossible the *autocorrelation time* of the observable.\n\nConstant-temperature sampling is also important when one wants to compute\n*dynamical* properties. In principle these would require\nconstant-energy trajectories, as any thermostatting procedure modifies\nthe dynamics of the system. However, the initial conditions\nshould usually be determined from constant-temperature conditions,\naveraging over multiple constant-energy trajectories.\nAs we shall see, this protocol can often be simplified greatly, by choosing\nthermostats that don't interfere with the natural microscopic dynamics.\n\n"
      ]
    },
    {
      "cell_type": "markdown",
      "metadata": {},
      "source": [
        "### Running simulations\n\nWe use [i-PI](http://ipi-code.org) together with a ``LAMMPS`` driver to run\nall the simulations in this recipe. The two codes need to be run separately,\nand communicate atomic positions, energy and forces through a socket interface.\n\nThe LAMMPS input defines the parameters of the\n[q-TIP4P/f water model](http://doi.org/10.1063/1.3167790),\nwhile the XML-formatted input of i-PI describes the setup of the\nMD simulation.\n\nWe begin running a constant-energy calculation, that\nwe will use to illustrate the metrics that can be applied to\nassess the performance of a thermostatting scheme. If it is the\nfirst time you see an ``i-PI`` input, you may want to look at\nthe input file side-by-sidewith the\n[input reference](https://docs.ipi-code.org/input-tags.html).\n\n"
      ]
    },
    {
      "cell_type": "code",
      "execution_count": null,
      "metadata": {
        "collapsed": false
      },
      "outputs": [],
      "source": [
        "# Open and read the XML file\nwith open(\"data/input_nve.xml\", \"r\") as file:\n    xml_content = file.read()\nprint(xml_content)"
      ]
    },
    {
      "cell_type": "markdown",
      "metadata": {},
      "source": [
        "The part of the input that describes the molecular dynamics integrator\nis the ``motion`` class. For this run, it specifies an *NVE* ensemble, and\na ``timestep`` of 1 fs for the integrator.\n\n"
      ]
    },
    {
      "cell_type": "code",
      "execution_count": null,
      "metadata": {
        "collapsed": false
      },
      "outputs": [],
      "source": [
        "xmlroot = ET.parse(\"data/input_nve.xml\").getroot()\nprint(\"    \" + ET.tostring(xmlroot.find(\".//motion\"), encoding=\"unicode\"))"
      ]
    },
    {
      "cell_type": "markdown",
      "metadata": {},
      "source": [
        "Note that this -- and other runs in this example -- are too short to\nprovide quantitative results, and you may want to increase the\n``<total_steps>`` parameter so that the simulation runs for at least\na few tens of ps. The time step of 1 fs is also at the limit of what\nis acceptable for running simulations of water. 0.5 fs would be a\nsafer, stabler value.\n\n"
      ]
    },
    {
      "cell_type": "markdown",
      "metadata": {},
      "source": [
        "To launch i-PI and LAMMPS from the command line you can just\nexecute the following commands\n\n```bash\ni-pi data/input_nve.xml > log &\nsleep 2\nlmp -in data/in.lmp &\n```\nTo launch the external processes from a Python script\nproceed as follows:\n\n"
      ]
    },
    {
      "cell_type": "code",
      "execution_count": null,
      "metadata": {
        "collapsed": false
      },
      "outputs": [],
      "source": [
        "ipi_process = None\nif not os.path.exists(\"simulation_nve.out\"):\n    ipi_process = subprocess.Popen([\"i-pi\", \"data/input_nve.xml\"])\n    time.sleep(4)  # wait for i-PI to start\n    lmp_process = [subprocess.Popen([\"lmp\", \"-in\", \"data/in.lmp\"]) for i in range(1)]"
      ]
    },
    {
      "cell_type": "markdown",
      "metadata": {},
      "source": [
        "If you run this in a notebook, you can go ahead and start loading\noutput files *before* i-PI and LAMMPS have finished running, by\nskipping this cell\n\n"
      ]
    },
    {
      "cell_type": "code",
      "execution_count": null,
      "metadata": {
        "collapsed": false
      },
      "outputs": [],
      "source": [
        "if ipi_process is not None:\n    ipi_process.wait()\n    lmp_process[0].wait()"
      ]
    },
    {
      "cell_type": "markdown",
      "metadata": {},
      "source": [
        "### Analyzing the simulation\n\nAfter the simulation is finished, we can look at the outputs.\nThe outputs include the trajectory of positions, the velocities\nand a number of energetic observables\n\n"
      ]
    },
    {
      "cell_type": "code",
      "execution_count": null,
      "metadata": {
        "collapsed": false
      },
      "outputs": [],
      "source": [
        "output_data, output_desc = ipi.read_output(\"simulation_nve.out\")\ntraj_data = ipi.read_trajectory(\"simulation_nve.pos_0.xyz\")"
      ]
    },
    {
      "cell_type": "markdown",
      "metadata": {},
      "source": [
        "The trajectory shows mostly local vibrations on this short time scale,\nbut if you re-run with a longer ``<total_steps>`` settings you should be\nable to observe diffusing molecules in the liquid.\n\n"
      ]
    },
    {
      "cell_type": "code",
      "execution_count": null,
      "metadata": {
        "collapsed": false
      },
      "outputs": [],
      "source": [
        "chemiscope.show(\n    traj_data,\n    mode=\"structure\",\n    settings=chemiscope.quick_settings(\n        trajectory=True, structure_settings={\"unitCell\": True}\n    ),\n)"
      ]
    },
    {
      "cell_type": "markdown",
      "metadata": {},
      "source": [
        "Potential and kinetic energy fluctuate, but the total energy is\n(almost) constant, the small fluctuations being due to integration\nerrors, that are quite large with the long time step used for this\nexample. If you run with smaller ``<timestep>`` values, you should\nsee that the energy conservation condition is fulfilled with higher\naccuracy.\n\n"
      ]
    },
    {
      "cell_type": "code",
      "execution_count": null,
      "metadata": {
        "collapsed": false
      },
      "outputs": [],
      "source": [
        "fig, ax = plt.subplots(1, 1, figsize=(4, 3), constrained_layout=True)\nax.plot(\n    output_data[\"time\"],\n    output_data[\"potential\"] - output_data[\"potential\"][0],\n    \"b-\",\n    label=\"Potential, $V$\",\n)\nax.plot(\n    output_data[\"time\"],\n    output_data[\"kinetic_md\"],\n    \"r-\",\n    label=\"Kinetic, $K$\",\n)\nax.plot(\n    output_data[\"time\"],\n    output_data[\"conserved\"] - output_data[\"conserved\"][0],\n    \"k-\",\n    label=\"Conserved, $H$\",\n)\nax.set_xlabel(r\"$t$ / ps\")\nax.set_ylabel(r\"energy / eV\")\nax.legend()\nplt.show()"
      ]
    },
    {
      "cell_type": "markdown",
      "metadata": {},
      "source": [
        "In a classical MD simulation, based on the momentum $\\mathbf{p}$\nof each atom, it is possible to evaluate its *kinetic temperature\nestimator* $T=\\langle \\mathbf{p}^2/m \\rangle /3k_B$ the average is to\nbe intended over a converged trajectory. Keep in mind that\n\n1. The *instantaneous* value of this estimator is meaningless\n2. It is only well-defined in a constant-temperature simulation, so here\n   it only gives a sense of whether atomic momenta are close to what one\n   would expect at 300 K.\n\nWith these caveats in mind, we can observe that the simulation has higher\nvelocities than expected at 300 K, and that there is no equipartition, the\nO atoms having on average a higher energy than the H atoms.\n\n"
      ]
    },
    {
      "cell_type": "code",
      "execution_count": null,
      "metadata": {
        "collapsed": false
      },
      "outputs": [],
      "source": [
        "fig, ax = plt.subplots(1, 1, figsize=(4, 3), constrained_layout=True)\nax.plot(\n    output_data[\"time\"],\n    output_data[\"temperature(O)\"],\n    \"r-\",\n    label=\"O atoms\",\n)\nax.plot(\n    output_data[\"time\"],\n    output_data[\"temperature(H)\"],\n    \"c-\",\n    label=\"H atoms\",\n)\nax.plot(output_data[\"time\"], output_data[\"temperature\"], \"k-\", label=\"All atoms\")\nax.set_xlabel(r\"$t$ / ps\")\nax.set_ylabel(r\"$\\tilde{T}$ / K\")\nax.legend()\nplt.show()"
      ]
    },
    {
      "cell_type": "markdown",
      "metadata": {},
      "source": [
        "In order to investigate the dynamics more carefully, we\ncompute the velocity-velocity autocorrelation function\n$c_{vv}(t)=\\sum_i \\langle \\mathbf{v}_i(t) \\cdot \\mathbf{v}_i(0) \\rangle$.\nWe use a utility function that reads the outputs of ``i-PI``\nand computes both the autocorrelation function and its Fourier\ntransform.\n$c_{vv}(t)$ contains information on the time scale and amplitude\nof molecular motion, and is closely related to the vibrational density\nof states and to spectroscopic observables such as IR and Raman spectra.\n\n"
      ]
    },
    {
      "cell_type": "code",
      "execution_count": null,
      "metadata": {
        "collapsed": false
      },
      "outputs": [],
      "source": [
        "acf_nve = compute_acf_xyz(\n    \"simulation_nve.vel_0.xyz\",\n    maximum_lag=600,\n    length_zeropadding=2000,\n    spectral_windowing=\"cosine-blackman\",\n    timestep=1,\n    time_units=\"femtosecond\",\n    skip=100,\n)\n\nfig, ax = plt.subplots(1, 1, figsize=(4, 3), constrained_layout=True)\nax.plot(\n    acf_nve[0][:1200] * 2.4188843e-05,  # atomic time to ps\n    acf_nve[1][:1200] * 1e5,\n    \"r-\",\n)\nax.set_xlabel(r\"$t$ / ps$\")\nax.set_ylabel(r\"$c_{vv}$ / arb. units\")\nplt.show()"
      ]
    },
    {
      "cell_type": "markdown",
      "metadata": {},
      "source": [
        "The power spectrum (that can be computed as the Fourier transform of\n$c_{vv}$) reveals the frequencies of stretching, bending and libration\nmodes of water; the $\\omega\\rightarrow 0$ limit is proportional\nto the diffusion coefficient.\nWe also load the results from a reference calculation (average of 8\ntrajectories initiated from NVT-equilibrated samples, shown as the\nconfidence interval). You can see how to run these reference calculations\nfrom the script ``data/run_traj.sh``.\nThe differences are due to the short trajectory, and to the fact that the\nNVE trajectory is not equilibrated at 300 K.\n\n"
      ]
    },
    {
      "cell_type": "code",
      "execution_count": null,
      "metadata": {
        "collapsed": false
      },
      "outputs": [],
      "source": [
        "ha2cm1 = 219474.63\n\n# Loads reference trajectory\nacf_ref = np.loadtxt(\"data/traj-all_facf.data\")\n\nfig, ax = plt.subplots(1, 1, figsize=(4, 3), constrained_layout=True)\n\nax.fill_between(\n    acf_ref[:1200, 0] * ha2cm1,\n    (acf_ref[:1200, 1] - acf_ref[:1200, 2]) * 1e5,\n    (acf_ref[:1200, 1] + acf_ref[:1200, 2]) * 1e5,\n    color=\"gray\",\n    label=\"reference\",\n)\n\nax.loglog(acf_nve[3][:1200] * ha2cm1, acf_nve[4][:1200] * 1e5, \"r-\", label=\"NVE\")\nax.set_xlabel(r\"$\\omega$ / cm$^{-1}$\")\nax.set_ylabel(r\"$\\hat{c}_{vv}$ / arb. units\")\nax.legend()\nplt.show()"
      ]
    },
    {
      "cell_type": "markdown",
      "metadata": {},
      "source": [
        "## Langevin thermostatting\n\nIn order to perform a simulations that samples configurations\nconsistent with a Boltzmann distribution $e^{-V(x)/k_B T}$\none needs to modify the equations of motion. There are many\ndifferent approaches to do this, some of which lead to deterministic\ndynamics; the two more widely used deterministic thermostats\nare the\n[Berendsen thermostat](https://doi.org/10.1063/1.448118)\nwhich does not sample the Boltzmann distribution exactly and\nshould never be used given the many more rigorous alternatives,\nand the Nos\u00e9-Hoover thermostat, that requires a\n[\"chain\" implementation](https://doi.org/10.1063/1.463940)\nto be ergodic, which amounts essentially to a complicated way\nto generate poor-quality pseudo-random numbers.\n\nGiven the limitations of deterministic thermostats, in this\nrecipe we focus on stochastic thermostats, that model the\ncoupling to the chaotic dynamics of an external bath through\nexplicit random numbers. Langevin dynamics amounts to adding\nto Hamilton's equations of motion, for each degree of freedom,\na term of the form\n\n\\begin{align}\\dot{p} =  -\\gamma p + \\sqrt{2\\gamma m k_B T} \\, \\xi(t)\\end{align}\n\nwhere $\n\\gamma$ is a friction coefficient, and $\\xi$\nuncorrelated random numbers that mimic collisions with the bath\nparticles. The friction can be seen as the inverse of a\ncharacteristic *coupling time scale*\n$\\tau=1/\\gamma$ that describes how strongly the bath\ninteracts with the system.\n\n"
      ]
    },
    {
      "cell_type": "markdown",
      "metadata": {},
      "source": [
        "### Setting up a thermostat in ``i-PI``\n\nIn order to set up a thermostat in ``i-PI``, one simply needs\nto adjust the ``<dynamics>`` block, to perform ``nvt`` dynamics\nand include an appropriate ``<thermostat>`` section.\nHere we use a very-strongly coupled Langevin thermostat,\nwith $\\tau=10~fs$.\n\n"
      ]
    },
    {
      "cell_type": "code",
      "execution_count": null,
      "metadata": {
        "collapsed": false
      },
      "outputs": [],
      "source": [
        "xmlroot = ET.parse(\"data/input_higamma.xml\").getroot()\nprint(\"      \" + ET.tostring(xmlroot.find(\".//dynamics\"), encoding=\"unicode\"))"
      ]
    },
    {
      "cell_type": "markdown",
      "metadata": {},
      "source": [
        "``i-PI`` and ``LAMMPS`` are launched as above ...\n\n"
      ]
    },
    {
      "cell_type": "code",
      "execution_count": null,
      "metadata": {
        "collapsed": false
      },
      "outputs": [],
      "source": [
        "ipi_process = None\nif not os.path.exists(\"simulation_higamma.out\"):\n    ipi_process = subprocess.Popen([\"i-pi\", \"data/input_higamma.xml\"])\n    time.sleep(4)  # wait for i-PI to start\n    lmp_process = [subprocess.Popen([\"lmp\", \"-in\", \"data/in.lmp\"]) for i in range(1)]"
      ]
    },
    {
      "cell_type": "markdown",
      "metadata": {},
      "source": [
        "... and you should probably wait until they're done,\nit'll take less than a minute.\n\n"
      ]
    },
    {
      "cell_type": "code",
      "execution_count": null,
      "metadata": {
        "collapsed": false
      },
      "outputs": [],
      "source": [
        "if ipi_process is not None:\n    ipi_process.wait()\n    lmp_process[0].wait()"
      ]
    },
    {
      "cell_type": "markdown",
      "metadata": {},
      "source": [
        "### Analysis of the trajectory\n\nThe temperature converges very quickly to the target value\n(fluctuations are to be expected, given that as discussed above\nthe temperature estimator is just the instantaneous kinetic energy,\nthat is not constant). There is also equipartition between O and H.\n\n"
      ]
    },
    {
      "cell_type": "code",
      "execution_count": null,
      "metadata": {
        "collapsed": false
      },
      "outputs": [],
      "source": [
        "output_data, output_desc = ipi.read_output(\"simulation_higamma.out\")\ntraj_data = ipi.read_trajectory(\"simulation_higamma.pos_0.xyz\")\n\nfig, ax = plt.subplots(1, 1, figsize=(4, 3), constrained_layout=True)\nax.plot(\n    output_data[\"time\"],\n    output_data[\"temperature(O)\"],\n    \"r-\",\n    label=\"O atoms\",\n)\nax.plot(\n    output_data[\"time\"],\n    output_data[\"temperature(H)\"],\n    \"c-\",\n    label=\"H atoms\",\n)\nax.plot(output_data[\"time\"], output_data[\"temperature\"], \"k-\", label=\"All atoms\")\nax.set_xlabel(r\"$t$ / ps\")\nax.set_ylabel(r\"$\\tilde{T}$ / K\")\nax.legend()\nplt.show()"
      ]
    },
    {
      "cell_type": "markdown",
      "metadata": {},
      "source": [
        "The velocity-velocity correlation function shows how much\nthis thermostat affects the system dynamics. The high-frequency peaks,\ncorresponding to stretches and bending, are\ngreatly broadened, and the $\\omega\\rightarrow 0$\nlimit of $\\hat{c}_{vv}$, corresponding to the\ndiffusion coefficient, is reduced by almost a factor of 5.\nThis last observation highlights that a too-aggressive\nthermostat is not only disrupting the dynamics:\nit also slows down diffusion through phase space,\nmaking the dynamics less efficient at sampling slow,\ncollective motions. We shall see further down various\nmethods to counteract this effect, but in general one should\nuse a weaker coupling, that improves the sampling of configuration\nspace even though it slows down the convergence of the\nkinetic energy. If you want a thermostat that equilibrates\naggressively the temperature while disturbing less the diffusive\nmodes, you may try the *fast-forward Langevin* thermostat\n[(Hijazi et al., JCP (2018))](https://doi.org/10.1063/1.5029833)\nthat can be activated with the option ``mode=\"ffl\"``.\n\n"
      ]
    },
    {
      "cell_type": "code",
      "execution_count": null,
      "metadata": {
        "collapsed": false
      },
      "outputs": [],
      "source": [
        "# compute the v-v acf\nacf_higamma = compute_acf_xyz(\n    \"simulation_higamma.vel_0.xyz\",\n    maximum_lag=600,\n    length_zeropadding=2000,\n    spectral_windowing=\"cosine-blackman\",\n    timestep=1,\n    time_units=\"femtosecond\",\n    skip=100,\n)\n\n# and plot\nfig, ax = plt.subplots(1, 1, figsize=(4, 3), constrained_layout=True)\nax.fill_between(\n    acf_ref[:1200, 0] * ha2cm1,\n    (acf_ref[:1200, 1] - acf_ref[:1200, 2]) * 1e5,\n    (acf_ref[:1200, 1] + acf_ref[:1200, 2]) * 1e5,\n    color=\"gray\",\n    label=\"reference\",\n)\nax.loglog(\n    acf_higamma[3][:1200] * ha2cm1,\n    acf_higamma[4][:1200] * 1e5,\n    \"b-\",\n    label=r\"Langevin, $\\tau=10$fs\",\n)\nax.set_xlabel(r\"$\\omega$ / cm$^{-1}$\")\nax.set_ylabel(r\"$\\hat{c}_{vv}$ / arb. units\")\nax.legend()\nplt.show()"
      ]
    },
    {
      "cell_type": "markdown",
      "metadata": {},
      "source": [
        "## Global thermostats: stochastic velocity rescaling\n\nAn alternative approach to sample the canonical Boltzmann\ndistribution while introducing fewer disturbances to the system\ndynamics is to use a *global* thermostat, i.e. a scheme that\ntargets the *total* kinetic energy of the system, rather than that\nof individual degrees of freedom.\nWe recommend the \"stochastic velocity rescaling\" thermostat\n[(Bussi, Donadio, Parrinello, JCP (2007))](https://doi.org/10.1063/1.2408420)\nthat acts by rescaling the total momentum vector, adding a\nsuitably distributed random noise term.\n\n"
      ]
    },
    {
      "cell_type": "markdown",
      "metadata": {},
      "source": [
        "### Setting up a thermostat in ``i-PI``\n\nStochastic velocity rescaling is implemented in ``i-PI``\ncan be selected by setting ``mode=\"svr\"``,  and has a\n``tau`` parameter that corresponds to the time scale of the\ncoupling.\n\n"
      ]
    },
    {
      "cell_type": "code",
      "execution_count": null,
      "metadata": {
        "collapsed": false
      },
      "outputs": [],
      "source": [
        "xmlroot = ET.parse(\"data/input_svr.xml\").getroot()\nprint(\"        \" + ET.tostring(xmlroot.find(\".//thermostat\"), encoding=\"unicode\"))"
      ]
    },
    {
      "cell_type": "markdown",
      "metadata": {},
      "source": [
        "We run a simulation with the usual set up ...\n\n"
      ]
    },
    {
      "cell_type": "code",
      "execution_count": null,
      "metadata": {
        "collapsed": false
      },
      "outputs": [],
      "source": [
        "ipi_process = None\nif not os.path.exists(\"simulation_svr.out\"):\n    ipi_process = subprocess.Popen([\"i-pi\", \"data/input_svr.xml\"])\n    time.sleep(4)  # wait for i-PI to start\n    lmp_process = [subprocess.Popen([\"lmp\", \"-in\", \"data/in.lmp\"]) for i in range(1)]"
      ]
    },
    {
      "cell_type": "markdown",
      "metadata": {},
      "source": [
        "... and wait for it to finish.\n\n"
      ]
    },
    {
      "cell_type": "code",
      "execution_count": null,
      "metadata": {
        "collapsed": false
      },
      "outputs": [],
      "source": [
        "if ipi_process is not None:\n    ipi_process.wait()\n    lmp_process[0].wait()"
      ]
    },
    {
      "cell_type": "markdown",
      "metadata": {},
      "source": [
        "### Analysis of the trajectory\n\nThe kinetic temperature of the  trajectory equilibrates very\nrapidly to the target value. However, it takes a bit longer\n(approximately 0.5 ps) to reach equipartition between O and H\natoms. This is an important shortcoming of global thermostats:\nsince they only target the total kinetic energy, they must rely\non internal energy redistribution to reach equilibrium between\ndifferent degrees of freedom.\nLiquid water is a very ergodic system, in which all degrees of\nfreedom are strongly coupled, so this is not a major issue. However\ncare must be taken when modeling a quasi-harmonic crystal (e.g.\ndiamond, a metal, or an inorganic crystal), or a molecular system\nin which the coupling between molecules is weaker (e.g. methane,\nor another apolar compound).\n\n"
      ]
    },
    {
      "cell_type": "code",
      "execution_count": null,
      "metadata": {
        "collapsed": false
      },
      "outputs": [],
      "source": [
        "output_data, output_desc = ipi.read_output(\"simulation_svr.out\")\ntraj_data = ipi.read_trajectory(\"simulation_svr.pos_0.xyz\")\n\nfig, ax = plt.subplots(1, 1, figsize=(4, 3), constrained_layout=True)\nax.plot(\n    output_data[\"time\"],\n    output_data[\"temperature(O)\"],\n    \"r-\",\n    label=\"O atoms\",\n)\nax.plot(\n    output_data[\"time\"],\n    output_data[\"temperature(H)\"],\n    \"c-\",\n    label=\"H atoms\",\n)\nax.plot(output_data[\"time\"], output_data[\"temperature\"], \"k-\", label=\"All atoms\")\nax.set_xlabel(r\"$t$ / ps\")\nax.set_ylabel(r\"$\\tilde{T}$ / K\")\nax.legend()\nplt.show()"
      ]
    },
    {
      "cell_type": "markdown",
      "metadata": {},
      "source": [
        "The velocity-velocity autocorrelation function is\nessentially indistinguishable from the reference, computed\nwith an ensemble of NVE trajectories starting from canonical\nsamples. In fact, the small discrepancies are mostly due to\nincomplete convergence of the averages in the short trajectory.\n\nThis highlights the advantages of a global thermostat, that\ndoes not disrupt the natural diffusion in configuration space,\nand can often be used to compute dynamical, time-dependent\nobservables out of a single trajectory -- which is far more\npractical than performing a collection of NVE trajectories.\n\n"
      ]
    },
    {
      "cell_type": "code",
      "execution_count": null,
      "metadata": {
        "collapsed": false
      },
      "outputs": [],
      "source": [
        "acf_svr = compute_acf_xyz(\n    \"simulation_svr.vel_0.xyz\",\n    maximum_lag=600,\n    length_zeropadding=2000,\n    spectral_windowing=\"cosine-blackman\",\n    timestep=1,\n    time_units=\"femtosecond\",\n    skip=100,\n)\n\nfig, ax = plt.subplots(1, 1, figsize=(4, 3), constrained_layout=True)\nax.fill_between(\n    acf_ref[:1200, 0] * ha2cm1,\n    (acf_ref[:1200, 1] - acf_ref[:1200, 2]) * 1e5,\n    (acf_ref[:1200, 1] + acf_ref[:1200, 2]) * 1e5,\n    color=\"gray\",\n    label=\"reference\",\n)\nax.loglog(\n    acf_svr[3][:1200] * ha2cm1,\n    acf_svr[4][:1200] * 1e5,\n    \"b-\",\n    label=r\"SVR, $\\tau=10$fs\",\n)\nax.set_xlabel(r\"$\\omega$ / cm$^{-1}$\")\nax.set_ylabel(r\"$\\hat{c}_{vv}$ / arb. units\")\nax.legend()\nplt.show()"
      ]
    },
    {
      "cell_type": "markdown",
      "metadata": {},
      "source": [
        "## Generalized Langevin Equation thermostat\n\nThe issue with a Langevin thermostat is that, for a given coupling\ntime $\\tau$, only molecular motions with a comparable time scale\nare sampled efficiently: faster modes are *underdamped*, and slower modes\nare *overdamped*, cf. the slowing down of diffusive behavior.\n\nA possible solution to this problem is using a\n*Generalized Langevin Equation (GLE)* thermostat. A GLE\nthermostat uses a matrix generalization of the Langevin term,\nin which the physical momentum is supplemented by a few fictitious\nmomenta $\\mathbf{s}$, i.e.\n\n\\begin{align}(\\dot{p},\\dot{\\mathbf{s}}) = -\\mathbf{A}_p (p,\\mathbf{s})\\\n   +\\mathbf{B}_p (\\xi,\\boldsymbol{\\xi})\\end{align}\n\n\nHere $\\mathbf{A}_p$ is the *drift matrix* and  $\\mathbf{B}_p$\nis a diffusion matrix which, for canonical sampling, is determined by the target\ntemperature and the drift matrix through a fluctuation-dissipation relation.\nThe key idea is that $\\mathbf{A}_p$ provides a lot of flexibility in defining\nthe behavior of the GLE, that can be tuned to achieve near-optimal sampling\nfor every degree of freedom (effectively acting as if the coupling constant was\ntuned separately for slow and fast molecular motions).\nThe general idea and the practical implementation are discussed in\n[(Ceriotti et al. JCTC (2010))](http://doi.org/10.1021/ct900563s)\nwhich also discusses other applications of the same principle, including\nperforming simulations with a non-equilibrium *quantum thermostat* that\nmimics the quantum the quantum mechanical behavior of light nuclei.\n\n"
      ]
    },
    {
      "cell_type": "markdown",
      "metadata": {},
      "source": [
        "### Setting up a thermostat in ``i-PI``\n\nA GLE thermostat can be activated using ``mode=\"gle\"``.\nThe drift matrix used here has been generated from the\n[GLE4MD website](http://gle4md.org), using parameters that\naim for the most efficient sampling possible with the short\nsimulation time (2 ps). The [online generator](https://gle4md.org/index.html?page=matrix&kind=smart&tslow=1&utslow=ps&smrange=6-2&outmode=ipi&aunits=ps)\ncan be tuned to provide the best possible sampling for the system\nof interest, the most important parameter being the slowest time scale\nthat one is interested in sampling (typically a fraction of the total\nsimulation time). The range of frequencies that is optimized can then\nbe tuned so as to reach, roughly, the maximum frequency present in the\nsystem.\n\n"
      ]
    },
    {
      "cell_type": "code",
      "execution_count": null,
      "metadata": {
        "collapsed": false
      },
      "outputs": [],
      "source": [
        "xmlroot = ET.parse(\"data/input_gle.xml\").getroot()\nprint(\"  \" + ET.tostring(xmlroot.find(\".//thermostat\"), encoding=\"unicode\"))"
      ]
    },
    {
      "cell_type": "markdown",
      "metadata": {},
      "source": [
        "We launch ``i-PI`` as usual ...\n\n"
      ]
    },
    {
      "cell_type": "code",
      "execution_count": null,
      "metadata": {
        "collapsed": false
      },
      "outputs": [],
      "source": [
        "ipi_process = None\nif not os.path.exists(\"simulation_gle.out\"):\n    ipi_process = subprocess.Popen([\"i-pi\", \"data/input_gle.xml\"])\n    time.sleep(4)  # wait for i-PI to start\n    lmp_process = [subprocess.Popen([\"lmp\", \"-in\", \"data/in.lmp\"]) for i in range(1)]"
      ]
    },
    {
      "cell_type": "markdown",
      "metadata": {},
      "source": [
        "... and wait for simulations to finish.\n\n"
      ]
    },
    {
      "cell_type": "code",
      "execution_count": null,
      "metadata": {
        "collapsed": false
      },
      "outputs": [],
      "source": [
        "if ipi_process is not None:\n    ipi_process.wait()\n    lmp_process[0].wait()"
      ]
    },
    {
      "cell_type": "markdown",
      "metadata": {},
      "source": [
        "### Analysis of the trajectory\n\nThe kinetic temperature equilibrates quickly to the target value.\nSince the GLE is a local thermostat, targeting each degree of freedom\nseparately, equipartition is also reached quickly. Sampling is less\nfast than with an aggressive Langevin thermostat, because the GLE targets\neach vibrational frequency separately, to minimize the impact on diffusion.\n\n"
      ]
    },
    {
      "cell_type": "code",
      "execution_count": null,
      "metadata": {
        "collapsed": false
      },
      "outputs": [],
      "source": [
        "output_data, output_desc = ipi.read_output(\"simulation_gle.out\")\ntraj_data = ipi.read_trajectory(\"simulation_gle.pos_0.xyz\")\n\nfig, ax = plt.subplots(1, 1, figsize=(4, 3), constrained_layout=True)\nax.plot(\n    output_data[\"time\"],\n    output_data[\"temperature(O)\"],\n    \"r-\",\n    label=\"O atoms\",\n)\nax.plot(\n    output_data[\"time\"],\n    output_data[\"temperature(H)\"],\n    \"c-\",\n    label=\"H atoms\",\n)\nax.plot(output_data[\"time\"], output_data[\"temperature\"], \"k-\", label=\"All atoms\")\nax.set_xlabel(r\"$t$ / ps\")\nax.set_ylabel(r\"$\\tilde{T}$ / K\")\nax.legend()\nplt.show()"
      ]
    },
    {
      "cell_type": "markdown",
      "metadata": {},
      "source": [
        "$\\hat{c}_{vv}$ reflects the adaptive behavior of the GLE.\nThe fast modes are damped aggressively, leading to a large\nbroadening of the high frequency peaks, but librations and diffusive\nmodes are much less dampened than in the high-coupling Langevin case.\nAn optimal-coupling GLE is a safe choice to sample any system, from\nmolecular liquids to harmonic crystals, although a stochastic velocity\nrescaling is preferable if one is interested in preserving the natural\ndynamics.\n\n"
      ]
    },
    {
      "cell_type": "code",
      "execution_count": null,
      "metadata": {
        "collapsed": false
      },
      "outputs": [],
      "source": [
        "acf_gle = compute_acf_xyz(\n    \"simulation_gle.vel_0.xyz\",\n    maximum_lag=600,\n    length_zeropadding=2000,\n    spectral_windowing=\"cosine-blackman\",\n    timestep=1,\n    time_units=\"femtosecond\",\n    skip=100,\n)\n\nfig, ax = plt.subplots(1, 1, figsize=(4, 3), constrained_layout=True)\nax.fill_between(\n    acf_ref[:1200, 0] * ha2cm1,\n    (acf_ref[:1200, 1] - acf_ref[:1200, 2]) * 1e5,\n    (acf_ref[:1200, 1] + acf_ref[:1200, 2]) * 1e5,\n    color=\"gray\",\n    label=\"reference\",\n)\nax.loglog(\n    acf_gle[3][:1200] * ha2cm1,\n    acf_gle[4][:1200] * 1e5,\n    \"b-\",\n    label=r\"GLE\",\n)\nax.set_xlabel(r\"$\\omega$ / cm$^{-1}$\")\nax.set_ylabel(r\"$\\hat{c}_{vv}$ / arb. units\")\nax.legend()\nplt.show()"
      ]
    },
    {
      "cell_type": "markdown",
      "metadata": {},
      "source": [
        "### R-L purification\n\nWhat if you also want to extract dynamical information from a GLE\n(or Langevin) trajectory? It is actually possible to post-process the\npower spectrum, performing a deconvolution based on the amount of\ndisturbance introduced by the GLE, that can be predicted analytically\nin the harmonic limit.\nThe idea, discussed in [(Rossi et al., JCP (2018))](http://doi.org/10.1063/1.499053610.1063/1.4990536)\nis that if $\\hat{y}(\\omega)$ is the \"natural\" NVE power\nspectrum, and $k_{\\mathrm{GLE}}(\\omega_0, \\omega)$ is the power\nspectrum predicted for a harmonic oscillator of frequency $\\omega_0$,\nthen the spectrum from the GLE dynamics will be approximately\n\n\\begin{align}\\hat{y}_{\\mathrm{GLE}}(\\omega) = \\int \\mathrm{d}\\omega'\n   k_{\\mathrm{GLE}}(\\omega', \\omega) \\hat{y}(\\omega')\\end{align}\n\nThe kernel can be computed analytically for all frequencies that\nare relevant for the power spectrum, based on the GLE parameters\nextracted from the input of ``i-PI``.\n\n"
      ]
    },
    {
      "cell_type": "code",
      "execution_count": null,
      "metadata": {
        "collapsed": false
      },
      "outputs": [],
      "source": [
        "n_omega = 1200\nAp, Cp, Dp = get_gle_matrices(\"data/input_gle.xml\")\ngle_kernel = gle_frequency_kernel(acf_gle[3][:n_omega], Ap, Dp)\n\n\nlomega = acf_gle[3][:n_omega] * ha2cm1\nfig, ax = plt.subplots(1, 1, figsize=(4, 3), constrained_layout=True)\nlevels = np.logspace(np.log10(gle_kernel.min()), np.log10(gle_kernel.max()), num=50)\ncontour = ax.contourf(lomega, lomega, gle_kernel, norm=mpl.colors.LogNorm())\nax.set_xscale(\"log\")\nax.set_yscale(\"log\")\nax.set_xlabel(r\"$\\omega_0$ / cm$^{-1}$\")\nax.set_ylabel(r\"$\\omega$ / cm$^{-1}$\")\nax.set_xlim(10, 5000)\nax.set_ylim(10, 5000)\ncbar = fig.colorbar(contour, ticks=[1e1, 1e3, 1e5, 1e7])"
      ]
    },
    {
      "cell_type": "markdown",
      "metadata": {},
      "source": [
        "The deconvolution is based on the Iterative Image Space\nReconstruction Algorithm, which preserves the positive-definiteness\nof the spectrum\n\n"
      ]
    },
    {
      "cell_type": "code",
      "execution_count": null,
      "metadata": {
        "collapsed": false
      },
      "outputs": [],
      "source": [
        "isra_acf, history, errors, laplace = isra_deconvolute(\n    acf_gle[3][:n_omega], acf_gle[4][:n_omega], gle_kernel, 64, 4\n)"
      ]
    },
    {
      "cell_type": "markdown",
      "metadata": {},
      "source": [
        "Even though the ISRA algorithm is less prone to enhancing noise than\nother deconvolution algorithms, successive iterations sharpen the spectrum\nbut introduce higher and higher levles of noise, particularly on the\nlow-frequency end of the spectrum so one has to choose when to stop.\n\n"
      ]
    },
    {
      "cell_type": "code",
      "execution_count": null,
      "metadata": {
        "collapsed": false
      },
      "outputs": [],
      "source": [
        "fig, ax = plt.subplots(1, 1, figsize=(4, 3), constrained_layout=True)\nax.loglog(\n    acf_gle[3][:1200] * ha2cm1,\n    acf_gle[4][:1200] * 1e5,\n    \"b-\",\n    label=r\"GLE\",\n)\nax.loglog(\n    acf_gle[3][:1200] * ha2cm1,\n    history[0] * 1e5,\n    \":\",\n    color=\"#4000D0\",\n    label=r\"iter[1]\",\n)\nax.loglog(\n    acf_gle[3][:1200] * ha2cm1,\n    history[2] * 1e5,\n    \":\",\n    color=\"#A000A0\",\n    label=r\"iter[9]\",\n)\nax.loglog(\n    acf_gle[3][:1200] * ha2cm1,\n    history[4] * 1e5,\n    \":\",\n    color=\"#D00040\",\n    label=r\"iter[17]\",\n)\nax.loglog(\n    acf_gle[3][:1200] * ha2cm1,\n    history[12] * 1e5,\n    \":\",\n    color=\"#FF0000\",\n    label=r\"iter[49]\",\n)\n\nax.set_xlabel(r\"$\\omega$ / cm$^{-1}$\")\nax.set_ylabel(r\"$\\hat{c}_{vv}$ / arb. units\")\nax.legend()\nplt.show()"
      ]
    },
    {
      "cell_type": "markdown",
      "metadata": {},
      "source": [
        "Especially in the high-frequency region, the deconvolution\nalgorithm succees in recovering the underlying NVE dynamics,\nwhich can be useful whenever one wants to optimize statistical\nefficiency while still being able to estimate dynamical\nproperties.\n\n"
      ]
    },
    {
      "cell_type": "code",
      "execution_count": null,
      "metadata": {
        "collapsed": false
      },
      "outputs": [],
      "source": [
        "fig, ax = plt.subplots(1, 1, figsize=(4, 3), constrained_layout=True)\nax.fill_between(\n    acf_ref[:1200, 0] * ha2cm1,\n    (acf_ref[:1200, 1] - acf_ref[:1200, 2]) * 1e5,\n    (acf_ref[:1200, 1] + acf_ref[:1200, 2]) * 1e5,\n    color=\"gray\",\n    label=\"reference\",\n)\nax.loglog(\n    acf_gle[3][:1200] * ha2cm1,\n    acf_gle[4][:1200] * 1e5,\n    \"b-\",\n    label=r\"GLE\",\n)\nax.loglog(\n    acf_gle[3][:1200] * ha2cm1,\n    history[2] * 1e5,\n    \"r-\",\n    label=r\"GLE$\\rightarrow$ NVE (iter[5])\",\n)\nax.set_xlabel(r\"$\\omega$ / cm$^{-1}$\")\nax.set_ylabel(r\"$\\hat{c}_{vv}$ / arb. units\")\nax.legend()\nplt.show()"
      ]
    },
    {
      "cell_type": "markdown",
      "metadata": {},
      "source": [
        "### Running with LAMMPS\n\nGLE thermostats (as well as conventional Langevin, and\nstochastic velocity rescaling) are also implemented natively\nin ``LAMMPS``.\n\nAn example of ``LAMMPS`` input containing a GLE thermostat can\nbe found in ``data/gle.lmp``. See also the\n[documentation of the fix gle command](https://docs.lammps.org/fix_gle.html)\n\n```text\nfix 1 all gle 6 300 300 31415 data/smart.A\n```\nThe drift matrix can be obtained from the same website, simply\nasking to output the matrix in raw format, choosing units consistent\nwith the ``LAMMPS`` settings,  e.g. for this [optimal sampling setup](https://gle4md.org/index.html?page=matrix&kind=smart&tslow=1&utslow=ps&smrange=6-2&outmode=raw&aunits=fs)\n\n\n"
      ]
    },
    {
      "cell_type": "markdown",
      "metadata": {},
      "source": [
        "We can run ``LAMMPS`` from the command line\n\n```bash\nlmp -in data/gle.lmp &\n```\nor from Python\n\n"
      ]
    },
    {
      "cell_type": "code",
      "execution_count": null,
      "metadata": {
        "collapsed": false
      },
      "outputs": [],
      "source": [
        "lmp_process = None\nif not os.path.exists(\"lammps_out.dat\"):\n    lmp_process = subprocess.Popen([\"lmp\", \"-in\", \"data/gle.lmp\"])"
      ]
    },
    {
      "cell_type": "markdown",
      "metadata": {},
      "source": [
        "... and wait\n\n\n"
      ]
    },
    {
      "cell_type": "code",
      "execution_count": null,
      "metadata": {
        "collapsed": false
      },
      "outputs": [],
      "source": [
        "if lmp_process is not None:\n    lmp_process.wait()"
      ]
    },
    {
      "cell_type": "markdown",
      "metadata": {},
      "source": [
        "The simulation is much faster (for such a small system and\ncheap potential the overhead of ``i-PI``'s client-server mechanism\nis substantial) and leads to similar results for the kinetic temperature\n\n\n"
      ]
    },
    {
      "cell_type": "code",
      "execution_count": null,
      "metadata": {
        "collapsed": false
      },
      "outputs": [],
      "source": [
        "traj_data = np.loadtxt(\"lammps_out.dat\")\n\nfig, ax = plt.subplots(1, 1, figsize=(4, 3), constrained_layout=True)\nax.plot(\n    traj_data[:, 0] * 1e-3,\n    traj_data[:, 1],\n    \"k-\",\n    label=\"All atoms\",\n)\nax.set_xlabel(r\"$t$ / ps\")\nax.set_ylabel(r\"$\\tilde{T}$ / K\")\nax.legend()\nplt.show()"
      ]
    }
  ],
  "metadata": {
    "kernelspec": {
      "display_name": "Python 3",
      "language": "python",
      "name": "python3"
    },
    "language_info": {
      "codemirror_mode": {
        "name": "ipython",
        "version": 3
      },
      "file_extension": ".py",
      "mimetype": "text/x-python",
      "name": "python",
      "nbconvert_exporter": "python",
      "pygments_lexer": "ipython3",
      "version": "3.11.14"
    }
  },
  "nbformat": 4,
  "nbformat_minor": 0
}