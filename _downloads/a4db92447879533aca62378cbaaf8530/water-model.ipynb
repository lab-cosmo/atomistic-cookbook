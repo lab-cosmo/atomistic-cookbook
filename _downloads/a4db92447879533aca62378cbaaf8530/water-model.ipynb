{
  "cells": [
    {
      "cell_type": "markdown",
      "metadata": {},
      "source": [
        "\n# Atomistic Water Model for Molecular Dynamics\n\n:Authors: Philip Loche [@PicoCentauri](https://github.com/picocentauri),\n          Marcel Langer [@sirmarcel](https://github.com/sirmarcel) and\n          Michele Ceriotti [@ceriottm](https://github.com/ceriottm)\n\nIn this example, we demonstrate how to construct a [metatomic model](https://docs.metatensor.org/metatomic) for flexible three and four-point water\nmodel, with parameters optimized for use together with quantum-nuclear-effects-aware\npath integral simulations (cf. [Habershon et al., JCP (2009)](http://dx.doi.org/10.1063/1.3167790)). The model also demonstrates the use of\n``torch-pme``, a Torch library for long-range interactions, and uses the resulting model\nto perform demonstrative molecular dynamics simulations.\n"
      ]
    },
    {
      "cell_type": "code",
      "execution_count": null,
      "metadata": {
        "collapsed": false
      },
      "outputs": [],
      "source": [
        "# sphinx_gallery_thumbnail_number = 3"
      ]
    },
    {
      "cell_type": "code",
      "execution_count": null,
      "metadata": {
        "collapsed": false
      },
      "outputs": [],
      "source": [
        "import subprocess\nfrom typing import Dict, List, Optional, Tuple\n\nimport ase.io\n\n# Simulation and visualization tools\nimport chemiscope\nimport matplotlib.pyplot as plt\n\n# Model wrapping and execution tools\nimport numpy as np\nimport torch\n\n# Core atomistic libraries\nimport torchpme\nfrom ase.optimize import LBFGS\nfrom ipi.utils.parsing import read_output, read_trajectory\nfrom ipi.utils.scripting import (\n    InteractiveSimulation,\n    forcefield_xml,\n    motion_nvt_xml,\n    simulation_xml,\n)\nfrom metatensor.torch import Labels, TensorBlock, TensorMap\nfrom metatomic.torch import (\n    AtomisticModel,\n    ModelCapabilities,\n    ModelEvaluationOptions,\n    ModelMetadata,\n    ModelOutput,\n    NeighborListOptions,\n    System,\n    load_atomistic_model,\n)\n\n# Integration with ASE calculator for metatomic models\nfrom metatomic.torch.ase_calculator import MetatomicCalculator\nfrom vesin.torch.metatensor import NeighborList"
      ]
    },
    {
      "cell_type": "markdown",
      "metadata": {},
      "source": [
        "## The q-TIP4P/F Model\n\nThe q-TIP4P/F model uses simple (quasi)-harmonic terms to describe intra-molecular\nflexibility - with the use of a quartic term being a specific feature used to describe\nthe covalent bond softening for a H-bonded molecule - a Lennard-Jones term describing\ndispersion and repulsion between O atoms, and an electrostatic potential between\npartial charges on the H atoms and the oxygen electron density. For a four-point\nmodel, the oxygen charge is slightly displaced from the oxygen's position, improving\nproperties like the [dielectric constant](http://dx.doi.org/10.1021/jp410865y). The\nfourth point, referred to as ``M``, is implicitly derived from the other atoms of each\nwater molecule.\n\n### Intra-molecular interactions\n\nThe molecular bond potential is usually defined as a harmonic potential\nof the form\n\n\\begin{align}V_\\mathrm{bond}(r) = \\frac{k_\\mathrm{bond}}{2} (r - r_0)^2\\end{align}\n\nHere, $k_\\mathrm{bond}$ is the force constant and $r_0$ is the equilibrium\ndistance. Bonded terms like this require defining a *topology*, i.e. a list of\npairs of atoms that are actually bonded to each other.\n\nq-TIP4P/F doesn't use a harmonic potential but a quartic approximation of a Morse\npotential, that allows describing the anharmonicity of the O-H covalent bond, and how\nthe mean distance changes due to zero-point fluctuations and/or hydrogen bonding.\n\n\\begin{align}V_\\mathrm{bond}(r) = \\frac{k_r}{2} [(r-r_0)^2-\\alpha_r (r-r_0)^3 +\n      \\frac{7}{12}\\alpha_r^2(r-r_0)^4]\\end{align}\n\n<div class=\"alert alert-info\"><h4>Note</h4><p>The harmonic coefficient is related to the coefficients in the original paper\n  by $k_r=2 D_r \\alpha_r^2$.</p></div>\n\n"
      ]
    },
    {
      "cell_type": "code",
      "execution_count": null,
      "metadata": {
        "collapsed": false
      },
      "outputs": [],
      "source": [
        "def bond_energy(\n    distances: torch.Tensor,\n    coefficient_k: torch.Tensor,\n    coefficient_alpha: torch.Tensor,\n    coefficient_r0: torch.Tensor,\n) -> torch.Tensor:\n    \"\"\"Harmonic potential for bond terms.\"\"\"\n    dr = distances - coefficient_r0\n    alpha_dr = dr * coefficient_alpha\n\n    return 0.5 * coefficient_k * dr**2 * (1 - alpha_dr + alpha_dr**2 * 7 / 12)"
      ]
    },
    {
      "cell_type": "markdown",
      "metadata": {},
      "source": [
        "The parameters reproduce the form of a Morse potential close to the minimum, but\navoids the dissociation of the bond, due to the truncation to the quartic term. These\nare the parameters used for q-TIP4P/F\n\n"
      ]
    },
    {
      "cell_type": "code",
      "execution_count": null,
      "metadata": {
        "collapsed": false
      },
      "outputs": [],
      "source": [
        "OH_kr = 116.09 * 2 * 2.287**2  # kcal/mol/\u00c5**2\nOH_r0 = 0.9419  # \u00c5\nOH_alpha = 2.287  # 1/\u00c5\n\nbond_distances = np.linspace(0.5, 1.65, 200)\nbond_potential = bond_energy(\n    distances=bond_distances,\n    coefficient_k=OH_kr,\n    coefficient_alpha=OH_alpha,\n    coefficient_r0=OH_r0,\n)\n\nfig, ax = plt.subplots(1, 1, figsize=(4, 3), constrained_layout=True)\nax.set_title(\"Bond Potential Between Oxygen and Hydrogen\")\n\nax.plot(bond_distances, bond_potential)\nax.axvline(OH_r0, label=\"equilibrium distance\", color=\"black\", linestyle=\"--\")\n\nax.set_xlabel(\"Distance / \u00c5 \")\nax.set_ylabel(\"Bond Potential / (kcal/mol)\")\n\nax.legend()\nfig.show()"
      ]
    },
    {
      "cell_type": "markdown",
      "metadata": {},
      "source": [
        "The harmonic angle potential describe the bending of the HOH angle, and is usually\nmodeled as a (curvilinear) harmonic term, defined based on the angle\n\n\\begin{align}V_\\mathrm{angle}(\\theta) = \\frac{k_\\mathrm{angle}}{2} (\\theta - \\theta_0)^2\\end{align}\n\nwhere $k_\\mathrm{angle}$ is the force constant and $\\theta_0$ is the\nequilibrium angle between the three atoms.\n\n"
      ]
    },
    {
      "cell_type": "code",
      "execution_count": null,
      "metadata": {
        "collapsed": false
      },
      "outputs": [],
      "source": [
        "def bend_energy(\n    angles: torch.Tensor, coefficient: torch.Tensor, equilibrium_angle: torch.Tensor\n):\n    \"\"\"Harmonic potential for angular terms.\"\"\"\n    return 0.5 * coefficient * (angles - equilibrium_angle) ** 2"
      ]
    },
    {
      "cell_type": "markdown",
      "metadata": {},
      "source": [
        "We use the following parameters:\n\n"
      ]
    },
    {
      "cell_type": "code",
      "execution_count": null,
      "metadata": {
        "collapsed": false
      },
      "outputs": [],
      "source": [
        "HOH_angle_coefficient = 87.85  # kcal/mol/rad^2\nHOH_equilibrium_angle = 107.4 * torch.pi / 180  # radians"
      ]
    },
    {
      "cell_type": "markdown",
      "metadata": {},
      "source": [
        "We can plot the bend energy as a function of the angle that is, unsurprisingly,\nparabolic around the equilibrium angle\n\n"
      ]
    },
    {
      "cell_type": "code",
      "execution_count": null,
      "metadata": {
        "collapsed": false
      },
      "outputs": [],
      "source": [
        "angle_distances = np.linspace(100, 115, 200)\nangle_potential = bend_energy(\n    angles=angle_distances * torch.pi / 180,\n    coefficient=HOH_angle_coefficient,\n    equilibrium_angle=HOH_equilibrium_angle,\n)\n\nfig, ax = plt.subplots(1, 1, figsize=(4, 3), constrained_layout=True)\nax.set_title(\"Harmonic Angular Potential for a Water Molecule\")\n\nax.plot(angle_distances, angle_potential)\nax.axvline(\n    HOH_equilibrium_angle * 180 / torch.pi,\n    label=\"equilibrium angle\",\n    color=\"black\",\n    linestyle=\":\",\n)\n\nax.set_xlabel(\"Angle / degrees\")\nax.set_ylabel(\"Harmonic Angular Potential / (kcal/mol)\")\n\nax.legend()\nfig.show()"
      ]
    },
    {
      "cell_type": "markdown",
      "metadata": {},
      "source": [
        "### Lennard-Jones Potential\n\nThe Lennard-Jones (LJ) potential describes the interaction between a pair of neutral\natoms or molecules, balancing dispersion forces at longer ranges and repulsive forces\nat shorter ranges. The LJ potential is defined as:\n\n\\begin{align}\\end{align}\n\n V_\\mathrm{LJ}(r) = 4 \\epsilon \\left[ \\left( \\frac{\\sigma}{r} \\right)^{12} - \\left(\n \\frac{\\sigma}{r} \\right)^6 \\right]\n\nwhere $\\epsilon$ is the depth of the potential well and $\\sigma$ the\ndistance at which the potential is zero. For water there is usually only an\noxygen-oxygen Lennard-Jones potential.\n\nWe implement the Lennard-Jones potential as a function that takes distances, along\nwith the parameters ``sigma``, ``epsilon``, and ``cutoff`` that indicates the distance\nat which the interaction is assumed to be zero. To ensure that there is no\ndiscontinuity an offset is included to shift the curve so it is zero at the cutoff\ndistance.\n\n"
      ]
    },
    {
      "cell_type": "code",
      "execution_count": null,
      "metadata": {
        "collapsed": false
      },
      "outputs": [],
      "source": [
        "def lennard_jones_pair(\n    distances: torch.Tensor,\n    sigma: torch.Tensor,\n    epsilon: torch.Tensor,\n    cutoff: torch.Tensor,\n):\n    \"\"\"Shifted Lennard-Jones potential for pair terms.\"\"\"\n    c6 = (sigma / distances) ** 6\n    c12 = c6**2\n    lj = 4 * epsilon * (c12 - c6)\n\n    sigma_cutoff_6 = (sigma / cutoff) ** 6\n    offset = 4 * epsilon * sigma_cutoff_6 * (sigma_cutoff_6 - 1)\n\n    return lj - offset"
      ]
    },
    {
      "cell_type": "markdown",
      "metadata": {},
      "source": [
        "We plot this potential to visualize its behavior, using q-TIP4P/F parameters. To\nhighlight the offset, we use a cutoff of 5 \u00c5 instead of the usual 7 \u00c5.\n\n"
      ]
    },
    {
      "cell_type": "code",
      "execution_count": null,
      "metadata": {
        "collapsed": false
      },
      "outputs": [],
      "source": [
        "O_sigma = 3.1589  # \u00c5\nO_epsilon = 0.1852  # kcal/mol\ncutoff = 5.0  # \u00c5 <- cut short, to highlight offset\n\nlj_distances = np.linspace(3, cutoff, 200)\n\nlj_potential = lennard_jones_pair(\n    distances=lj_distances, sigma=O_sigma, epsilon=O_epsilon, cutoff=cutoff\n)\n\nfig, ax = plt.subplots(1, 1, figsize=(4, 3), constrained_layout=True)\nax.set_title(\"Lennard-Jones Potential Between Two Oxygen Atoms\")\nax.axhline(0, color=\"black\", linestyle=\"--\")\nax.axhline(-O_epsilon, color=\"red\", linestyle=\":\", label=\"Oxygen \u03b5\")\nax.axvline(O_sigma, color=\"black\", linestyle=\":\", label=\"Oxygen \u03c3\")\nax.plot(lj_distances, lj_potential)\nax.set_xlabel(\"Distance / \u00c5\")\nax.set_ylabel(\"Lennard-Jones Potential / (kcal/mol)\")\nax.legend()\nfig.show()"
      ]
    },
    {
      "cell_type": "markdown",
      "metadata": {},
      "source": [
        "Due to our reduced cutoff the minimum of the blue line does not touch the red\nhorizontal line.\n\n### Electrostatic Potential\n\nThe long-ranged nature of electrostatic interactions makes computing them\nin simulations non-trivial. For periodic systems the Coulomb energy is given by:\n\n\\begin{align}\\end{align}\n\n V_\\mathrm{Coulomb} = \\frac{1}{2} \\sum_{i,j} \\sideset{}{'}\\sum_{\\boldsymbol n \\in\n  \\mathcal{Z}} \\frac{1}{4\\pi\\epsilon_0}\n  \\frac{q_i q_j}{\\left|\\boldsymbol r_{ij} + \\boldsymbol{n L}\\right|}\n\nThe sum over $\\boldsymbol n$ takes into account the periodic images of the\ncharges and the prime indicates that in the case $i=j$ the term $n=0$ must\nbe omitted. Further $\\boldsymbol r_{ij} = \\boldsymbol r_i - \\boldsymbol r_j$ and\n$\\boldsymbol L$ is the length of the (cubic)simulation box.\n\nSince this sum is conditionally convergent it isn't computable using a direct sum.\nInstead the Ewald summation, published in 1921, remains a foundational method that\neffectively defines how to compute the energy and forces of such systems. To further\nspeed the methods, mesh based algorithm suing fast Fourier transformation have been\ndeveloped, such as the Particle-Particle Particle-Mesh (P3M) algorithm. For further\ndetails we refer to a paper by [Deserno and Holm](https://aip.scitation.org/doi/10.1063/1.477414).\n\nWe use a *Torch* implementation of the P3M method within the ``torch-pme`` package.\nThe core class we use is the :class:`torchpme.P3MCalculator` class - you can read more\nand see specific examples in the [torchpme documentation](https://lab-cosmo.github.io/torch-pme) As a demonstration we use two\ncharges in a cubic cell, computing the electrostatic energy as a function of distance\n\n"
      ]
    },
    {
      "cell_type": "code",
      "execution_count": null,
      "metadata": {
        "collapsed": false
      },
      "outputs": [],
      "source": [
        "O_charge = -0.84\ncoulomb_distances = torch.linspace(0.5, 9.0, 50)\ncell = torch.eye(3) * 10.0"
      ]
    },
    {
      "cell_type": "markdown",
      "metadata": {},
      "source": [
        "We also use the parameter-tuning functionality of ``torchpme``, to provide efficient\nevaluation at the desired level of accuracy. This is achieved calling\n:func:`torchpme.tuning.tune_p3m` on a template of the target structure\n\n"
      ]
    },
    {
      "cell_type": "code",
      "execution_count": null,
      "metadata": {
        "collapsed": false
      },
      "outputs": [],
      "source": [
        "charges = torch.tensor([O_charge, -O_charge]).unsqueeze(-1)\npositions_coul = torch.tensor([[0.0, 0.0, 0.0], [4.0, 0.0, 0.0]])\nneighbor_indices = torch.tensor([[0, 1]])\nneighbor_distances = torch.tensor([4.0])\n\np3m_smearing, p3m_parameters, _ = torchpme.tuning.tune_p3m(\n    charges,\n    cell,\n    positions_coul,\n    cutoff,\n    neighbor_indices,\n    neighbor_distances,\n    accuracy=1e-4,\n)\np3m_prefactor = torchpme.prefactors.kcalmol_A"
      ]
    },
    {
      "cell_type": "markdown",
      "metadata": {},
      "source": [
        "The hydrogen charge is derived from the oxygen charge as $q_H = -q_O/2$. The\n``smearing`` and ``mesh_spacing`` parameters are the central parameters for P3M and\nare crucial to ensure the correct energy calculation. We now compute the electrostatic\nenergy between two point charges using the P3M algorithm.\n\n"
      ]
    },
    {
      "cell_type": "code",
      "execution_count": null,
      "metadata": {
        "collapsed": false
      },
      "outputs": [],
      "source": [
        "p3m_calculator = torchpme.P3MCalculator(\n    potential=torchpme.CoulombPotential(p3m_smearing),\n    **p3m_parameters,\n    prefactor=p3m_prefactor,\n)"
      ]
    },
    {
      "cell_type": "markdown",
      "metadata": {},
      "source": [
        "For the inference, we need a neighbor list and distances which we compute\n\"manually\". Typically, the neighbors are provided by the simulation engine.\n\n"
      ]
    },
    {
      "cell_type": "code",
      "execution_count": null,
      "metadata": {
        "collapsed": false
      },
      "outputs": [],
      "source": [
        "neighbor_indices = torch.tensor([[0, 1]])\n\npotential = torch.zeros_like(coulomb_distances)\n\nfor i_dist, dist in enumerate(coulomb_distances):\n    positions_coul = torch.tensor([[0.0, 0.0, 0.0], [dist, 0.0, 0.0]])\n    charges = torch.tensor([O_charge, -O_charge]).unsqueeze(-1)\n\n    neighbor_distances = torch.tensor([dist])\n\n    potential[i_dist] = p3m_calculator.forward(\n        positions=positions_coul,\n        cell=cell,\n        charges=charges,\n        neighbor_indices=neighbor_indices,\n        neighbor_distances=neighbor_distances,\n    )[0]"
      ]
    },
    {
      "cell_type": "markdown",
      "metadata": {},
      "source": [
        "We plot the electrostatic potential between two point charges.\n\n"
      ]
    },
    {
      "cell_type": "code",
      "execution_count": null,
      "metadata": {
        "collapsed": false
      },
      "outputs": [],
      "source": [
        "fig, ax = plt.subplots(1, 1, figsize=(4, 3), constrained_layout=True)\n\nax.set_title(\"Electrostatic Potential Between Two Point Charges\")\nax.plot(coulomb_distances, potential)\n\nax.set_xlabel(\"Distance / \u00c5\")\nax.set_ylabel(\"Electrostatic Potential / (kcal/mol)\")\n\nfig.show()"
      ]
    },
    {
      "cell_type": "markdown",
      "metadata": {},
      "source": [
        "The potential shape may appear unusual due to computations within a periodic box. For\nsmall distances, the potential behaves like $1/r$, but it increases again as\ncharges approach across periodic boundaries.\n\n<div class=\"alert alert-info\"><h4>Note</h4><p>In most water models, Coulomb interactions within each molecule are excluded, as\n  intramolecular energies are already parametrized by the bond and angle interactions.\n  Therefore, in our model defined below we first compute the electrostatic energy of\n  all atoms and then subtract interactions between bonded atoms.</p></div>\n\n## Implementation as a TIP4P/f ``torch`` module\n\nIn order to implement a Q-TIP4P/f potential in practice, we first build a class that\nfollows the interface of a *metatomic* model. This requires defining the atomic\nstructure in terms of a :class:`metatomic.torch.System` object - a simple\ncontainer for positions, cell, and atomic types, that can also be enriched with one or\nmore :class:`metatomic.torchist` objects holding neighbor\ndistance information. This is usually provided by the code used to perform a\nsimulation, but can be also computed explicitly using ``ase`` or [vesin](https://luthaf.fr/vesin/latest/index.html), as we do here.\n\nFor running our simulation we use a small waterbox containing 32 water molecules.\n\n"
      ]
    },
    {
      "cell_type": "code",
      "execution_count": null,
      "metadata": {
        "collapsed": false
      },
      "outputs": [],
      "source": [
        "atoms = ase.io.read(\"data/water_32.xyz\")\n\nchemiscope.show(\n    [atoms],\n    mode=\"structure\",\n    settings=chemiscope.quick_settings(structure_settings={\"unitCell\": True}),\n)"
      ]
    },
    {
      "cell_type": "markdown",
      "metadata": {},
      "source": [
        "We transform the ase Atoms object into a metatomic system and define the\noptions for the neighbor list.\n\n"
      ]
    },
    {
      "cell_type": "code",
      "execution_count": null,
      "metadata": {
        "collapsed": false
      },
      "outputs": [],
      "source": [
        "system = System(\n    types=torch.from_numpy(atoms.get_atomic_numbers()),\n    positions=torch.from_numpy(atoms.positions),\n    cell=torch.from_numpy(atoms.cell.array),\n    pbc=torch.from_numpy(atoms.pbc),\n)\n\nnlo = NeighborListOptions(cutoff=7.0, full_list=False, strict=False)\ncalculator = NeighborList(nlo, length_unit=\"Angstrom\")\nneighbors = calculator.compute(system)\nsystem.add_neighbor_list(nlo, neighbors)"
      ]
    },
    {
      "cell_type": "markdown",
      "metadata": {},
      "source": [
        "Neighbor lists are stored within ``metatensor`` as :class:`metatensor.TensorBlock`\nobjects, if you're curious\n\n"
      ]
    },
    {
      "cell_type": "code",
      "execution_count": null,
      "metadata": {
        "collapsed": false
      },
      "outputs": [],
      "source": [
        "neighbors"
      ]
    },
    {
      "cell_type": "markdown",
      "metadata": {},
      "source": [
        "### Helper functions for molecular geometry\n\nIn order to compute the different terms in the Q-TIP4P/f potential, we need to extract\nsome information on the geometry of the water molecule. To keep the model class clean,\nwe define a helper functions that do two things.\n\nFirst, it computes O-H covalent bond lengths and angle. We use heuristics to identify\nthe covalent bonds as the shortest O-H distances in a simulation. This is necessary\nwhen using the model with an external code, that might re-order atoms internally (as\nis e.g. the case for LAMMPS). The heuristics here may fail in case molecules get too\nclose together, or at very high temperature.\n\nSecond, it computes the position of the virtual \"M sites\", the position of the O\ncharge in a TIP4P-like model. We also need distances to compute range-separated\nelectrostatics, which we obtain manipulating the neighbor list that is pre-attached to\nthe system. Thanks to the fact we rely on ``torch`` autodifferentiation mechanism, the\nforces acting on the virtual sites will be automatically split between O and H atoms,\nin a way that is consistent with the definition.\n\nForces acting on the M sites will be automatically split between O and H atoms, in a\nway that is consistent with the definition.\n\n"
      ]
    },
    {
      "cell_type": "code",
      "execution_count": null,
      "metadata": {
        "collapsed": false
      },
      "outputs": [],
      "source": [
        "def get_molecular_geometry(\n    system: System,\n    nlo: NeighborListOptions,\n    m_gamma: torch.Tensor,\n    m_charge: torch.Tensor,\n) -> Tuple[torch.Tensor, torch.Tensor, System, torch.Tensor, torch.Tensor]:\n    \"\"\"Compute bond distances, angles and charge site positions for each molecules.\"\"\"\n    neighbors = system.get_neighbor_list(nlo)\n    species = system.types\n\n    # get neighbor idx and vectors as torch tensors\n    neigh_ij = neighbors.samples.view([\"first_atom\", \"second_atom\"]).values\n    neigh_dij = neighbors.values.squeeze()\n\n    # get all OH distances and their sorting order\n    oh_mask = species[neigh_ij[:, 0]] != species[neigh_ij[:, 1]]\n    oh_ij = neigh_ij[oh_mask]\n    oh_dij = neigh_dij[oh_mask]\n    oh_dist = torch.linalg.vector_norm(oh_dij, dim=1).squeeze()\n    oh_sort = torch.argsort(oh_dist)\n\n    # gets the oxygen indices in the bonds, sorted by distance\n    oh_oidx = torch.where(species[oh_ij[:, 0]] == 8, oh_ij[:, 0], oh_ij[:, 1])[oh_sort]\n    # makes sure we always consider bonds in the O->H direction\n    oh_dij = oh_dij * torch.where(species[oh_ij[:, 0]] == 8, 1.0, -1.0).reshape(-1, 1)\n\n    # we assume that the first n_oxygen*2 bonds cover all water molecules.\n    # if not we throw an error\n    o_idx = torch.nonzero(species == 8).squeeze()\n    n_oh = len(o_idx) * 2\n    oh_oidx_sort = torch.argsort(oh_oidx[:n_oh])\n\n    oh_dij_oidx = oh_oidx[oh_oidx_sort]  # indices of the O atoms for each dOH\n    # if each O index appears twice, this should be a vector of zeros\n    twoo_chk = oh_dij_oidx[::2] - oh_dij_oidx[1::2]\n    if (twoo_chk != 0).any():\n        raise RuntimeError(\"Cannot assign OH bonds to water molecules univocally.\")\n\n    # finally, we compute O->H1 and O->H2 for each water molecule\n    oh_dij_sort = oh_dij[oh_sort[:n_oh]][oh_oidx_sort]\n    doh_1 = oh_dij_sort[::2]\n    doh_2 = oh_dij_sort[1::2]\n\n    oh_dist = torch.concatenate(\n        [\n            torch.linalg.vector_norm(doh_1, dim=1),\n            torch.linalg.vector_norm(doh_2, dim=1),\n        ]\n    )\n\n    if oh_dist.max() > 2.0:\n        raise ValueError(\n            \"Unphysical O-H bond length. Check that the molecules are entire, and \"\n            \"atoms are listed in the expected OHH order.\"\n        )\n\n    hoh_angles = torch.arccos(\n        torch.sum(doh_1 * doh_2, dim=1)\n        / (oh_dist[: len(doh_1)] * oh_dist[len(doh_2) :])\n    )\n\n    # now we use this information to build the M sites\n    # we first put the O->H vectors in the same order as the\n    # positions. This allows us to manipulate all atoms at once later\n    oh1_vecs = torch.zeros_like(system.positions)\n    oh1_vecs[oh_dij_oidx[::2]] = doh_1\n    oh2_vecs = torch.zeros_like(system.positions)\n    oh2_vecs[oh_dij_oidx[1::2]] = doh_2\n\n    # we compute the vectors O->M displacing the O to the M sites\n    om_displacements = (1 - m_gamma) * 0.5 * (oh1_vecs + oh2_vecs)\n\n    # creates a new System with the m-sites\n    m_system = System(\n        types=system.types,\n        positions=system.positions + om_displacements,\n        cell=system.cell,\n        pbc=system.pbc,\n    )\n\n    # adjust neighbor lists to point at the m sites rather than O atoms. this assumes\n    # this won't have atoms cross the cutoff, which is of course only approximately\n    # true, so one should use a slighlty larger-than-usual cutoff nb - this is reshaped\n    # to match the values in a NL tensorblock\n    nl = system.get_neighbor_list(nlo)\n    i_idx = nl.samples.view([\"first_atom\"]).values.flatten()\n    j_idx = nl.samples.view([\"second_atom\"]).values.flatten()\n    m_nl = TensorBlock(\n        nl.values\n        + (om_displacements[j_idx] - om_displacements[i_idx]).reshape(-1, 3, 1),\n        nl.samples,\n        nl.components,\n        nl.properties,\n    )\n    m_system.add_neighbor_list(nlo, m_nl)\n\n    # set charges of all atoms\n    charges = (\n        torch.where(species == 8, -m_charge, 0.5 * m_charge)\n        .reshape(-1, 1)\n        .to(dtype=system.positions.dtype, device=system.positions.device)\n    )\n\n    # Create metadata for the charges TensorBlock\n    samples = Labels(\n        \"atom\", torch.arange(len(system), device=charges.device).reshape(-1, 1)\n    )\n    properties = Labels(\n        \"charge\", torch.zeros(1, 1, device=charges.device, dtype=torch.int32)\n    )\n    data = TensorBlock(\n        values=charges, samples=samples, components=[], properties=properties\n    )\n\n    tensor = TensorMap(\n        keys=Labels(\"_\", torch.zeros(1, 1, device=charges.device, dtype=torch.int32)),\n        blocks=[data],\n    )\n\n    m_system.add_data(name=\"charges\", tensor=tensor)\n\n    # intra-molecular distances with M sites (for self-energy removal)\n    hh_dist = torch.sqrt(((doh_1 - doh_2) ** 2).sum(dim=1))\n    dmh_1 = doh_1 - om_displacements[oh_dij_oidx[::2]]\n    dmh_2 = doh_2 - om_displacements[oh_dij_oidx[1::2]]\n    mh_dist = torch.concatenate(\n        [\n            torch.linalg.vector_norm(dmh_1, dim=1),\n            torch.linalg.vector_norm(dmh_2, dim=1),\n        ]\n    )\n\n    return oh_dist, hoh_angles, m_system, mh_dist, hh_dist"
      ]
    },
    {
      "cell_type": "markdown",
      "metadata": {},
      "source": [
        "### Defining the model\n\nArmed with these functions, the definitions of bonded and LJ potentials, and the\n:class:`torchpme.P3MCalculator` class, we can define with relatively small effort the\nactual model. We do not hard-code the specific parameters of the Q-TIP4P/f potential\n(so that in principle this class can be used for classical TIP4P, and - by setting\n``m_gamma`` to one - a three-point water model).\n\nA few points worth noting: (1) As discussed above we define a bare Coulomb potential\n(that pretty much computes $1/r$) which we need to subtract the molecular \"self\nelectrostatic interaction\"; (2) units are expected to be \u00c5 for distances, kcal/mol for\nenergies, and radians for angles; (3) model parameters are registered as ``buffers``;\n(4) P3M parameters can also be given, in the format returned by\n:func:`torchpme.tuning.tune_p3m`.\n\nThe ``forward`` call is a relatively straightforward combination of all the helper\nfunctions defined further up in this file, and should be relatively easy to follow.\n\n"
      ]
    },
    {
      "cell_type": "code",
      "execution_count": null,
      "metadata": {
        "collapsed": false
      },
      "outputs": [],
      "source": [
        "class WaterModel(torch.nn.Module):\n    def __init__(\n        self,\n        cutoff: float,\n        lj_sigma: float,\n        lj_epsilon: float,\n        m_gamma: float,\n        m_charge: float,\n        oh_bond_eq: float,\n        oh_bond_k: float,\n        oh_bond_alpha: float,\n        hoh_angle_eq: float,\n        hoh_angle_k: float,\n        p3m_options: Optional[dict] = None,\n    ):\n        super().__init__()\n\n        if p3m_options is None:\n            # should give a ~1e-4 relative accuracy on forces\n            p3m_options = (1.4, {\"interpolation_nodes\": 5, \"mesh_spacing\": 1.33}, 0)\n\n        p3m_smearing, p3m_parameters, _ = p3m_options\n\n        self.p3m_calculator = torchpme.metatensor.P3MCalculator(\n            potential=torchpme.CoulombPotential(p3m_smearing),\n            **p3m_parameters,\n            prefactor=torchpme.prefactors.kcalmol_A,  # consistent units\n        )\n\n        self.coulomb = torchpme.CoulombPotential()\n\n        # We use a half neighborlist and allow to have pairs farther than cutoff\n        # (`strict=False`) since this is not problematic for PME and may speed up the\n        # computation of the neigbors.\n        self.nlo = NeighborListOptions(cutoff=cutoff, full_list=False, strict=False)\n\n        self.register_buffer(\"cutoff\", torch.tensor(cutoff))\n        self.register_buffer(\"lj_sigma\", torch.tensor(lj_sigma))\n        self.register_buffer(\"lj_epsilon\", torch.tensor(lj_epsilon))\n        self.register_buffer(\"m_gamma\", torch.tensor(m_gamma))\n        self.register_buffer(\"m_charge\", torch.tensor(m_charge))\n        self.register_buffer(\"oh_bond_eq\", torch.tensor(oh_bond_eq))\n        self.register_buffer(\"oh_bond_k\", torch.tensor(oh_bond_k))\n        self.register_buffer(\"oh_bond_alpha\", torch.tensor(oh_bond_alpha))\n        self.register_buffer(\"hoh_angle_eq\", torch.tensor(hoh_angle_eq))\n        self.register_buffer(\"hoh_angle_k\", torch.tensor(hoh_angle_k))\n\n    def requested_neighbor_lists(self):\n        \"\"\"Returns the list of neighbor list options that are needed.\"\"\"\n        return [self.nlo]\n\n    def _setup_systems(\n        self,\n        systems: list[System],\n        selected_atoms: Optional[Labels] = None,\n    ) -> tuple[System, TensorBlock]:\n        if len(systems) > 1:\n            raise ValueError(f\"only one system supported, got {len(systems)}\")\n\n        system_i = 0\n        system = systems[system_i]\n\n        # select only real atoms and discard ghosts\n        # (this is to work in codes like LAMMPS that provide a neighbor\n        # list that also includes \"domain decomposition\" neigbhbors)\n        if selected_atoms is not None:\n            current_system_mask = selected_atoms.column(\"system\") == system_i\n            current_atoms = selected_atoms.column(\"atom\")\n            current_atoms = current_atoms[current_system_mask].to(torch.long)\n\n            types = system.types[current_atoms]\n            positions = system.positions[current_atoms]\n            system_clean = System(types, positions, system.cell, system.pbc)\n            for nlo in system.known_neighbor_lists():\n                system_clean.add_neighbor_list(nlo, system.get_neighbor_list(nlo))\n        else:\n            system_clean = system\n        return system_clean, system.get_neighbor_list(self.nlo)\n\n    def forward(\n        self,\n        systems: List[System],  # noqa\n        outputs: Dict[str, ModelOutput],  # noqa\n        selected_atoms: Optional[Labels] = None,\n    ) -> Dict[str, TensorMap]:  # noqa\n\n        if list(outputs.keys()) != [\"energy\"]:\n            raise ValueError(\n                f\"`outputs` keys ({', '.join(outputs.keys())}) contain unsupported \"\n                \"keys. Only 'energy' is supported.\"\n            )\n\n        if outputs[\"energy\"].per_atom:\n            raise NotImplementedError(\"per-atom energies are not supported.\")\n\n        system, neighbors = self._setup_systems(systems, selected_atoms)\n\n        # compute non-bonded LJ energy\n        neighbor_indices = neighbors.samples.view([\"first_atom\", \"second_atom\"]).values\n        species = system.types\n        oo_mask = (species[neighbor_indices[:, 0]] == 8) & (\n            species[neighbor_indices[:, 1]] == 8\n        )\n        oo_distances = torch.linalg.vector_norm(neighbors.values[oo_mask], dim=1)\n        energy_lj = lennard_jones_pair(\n            oo_distances, self.lj_sigma, self.lj_epsilon, self.cutoff\n        ).sum()\n\n        d_oh, a_hoh, m_system, mh_dist, hh_dist = get_molecular_geometry(\n            system, self.nlo, self.m_gamma, self.m_charge\n        )\n\n        # intra-molecular energetics\n        e_bond = bond_energy(\n            d_oh, self.oh_bond_k, self.oh_bond_alpha, self.oh_bond_eq\n        ).sum()\n        e_bend = bend_energy(a_hoh, self.hoh_angle_k, self.hoh_angle_eq).sum()\n\n        # now this is the long-range part - computed over the M-site system\n        # m_system, mh_dist, hh_dist = get_msites(system, self.m_gamma, self.m_charge)\n        m_neighbors = m_system.get_neighbor_list(self.nlo)\n\n        potentials = self.p3m_calculator(m_system, m_neighbors).block(0).values\n        charges = m_system.get_data(\"charges\").block().values\n        energy_coulomb = (potentials * charges).sum()\n\n        # this is the intra-molecular Coulomb interactions, that must be removed\n        # to avoid double-counting\n        energy_self = (\n            (\n                self.coulomb.from_dist(mh_dist).sum() * (-self.m_charge)\n                + self.coulomb.from_dist(hh_dist).sum() * 0.5 * self.m_charge\n            )\n            * 0.5\n            * self.m_charge\n            * torchpme.prefactors.kcalmol_A\n        )\n\n        # combines all energy terms\n        energy_tot = e_bond + e_bend + energy_lj + energy_coulomb - energy_self\n\n        # Rename property label to follow metatensor's convention for an atomistic model\n        samples = Labels(\n            [\"system\"],\n            torch.arange(len(systems), device=energy_tot.device).reshape(-1, 1),\n        )\n        properties = Labels([\"energy\"], torch.tensor([[0]], device=energy_tot.device))\n\n        block = TensorBlock(\n            values=torch.sum(energy_tot).reshape(-1, 1),\n            samples=samples,\n            components=torch.jit.annotate(List[Labels], []),\n            properties=properties,\n        )\n        return {\n            \"energy\": TensorMap(\n                Labels(\"_\", torch.tensor([[0]], device=energy_tot.device)), [block]\n            ),\n        }"
      ]
    },
    {
      "cell_type": "markdown",
      "metadata": {},
      "source": [
        "All this class does is take a ``System`` and return its energy (as a\n:class:`metatensor.TensorMap``).\n\n"
      ]
    },
    {
      "cell_type": "code",
      "execution_count": null,
      "metadata": {
        "collapsed": false
      },
      "outputs": [],
      "source": [
        "qtip4pf_parameters = dict(\n    cutoff=7.0,\n    lj_sigma=3.1589,\n    lj_epsilon=0.1852,\n    m_gamma=0.73612,\n    m_charge=1.1128,\n    oh_bond_eq=0.9419,\n    oh_bond_k=2 * 116.09 * 2.287**2,\n    oh_bond_alpha=2.287,\n    hoh_angle_eq=107.4 * torch.pi / 180,\n    hoh_angle_k=87.85,\n)\nqtip4pf_model = WaterModel(\n    **qtip4pf_parameters\n    #   uncomment to override default options\n    #    p3m_options = (1.4, {\"interpolation_nodes\": 5, \"mesh_spacing\": 1.33}, 0)\n)"
      ]
    },
    {
      "cell_type": "markdown",
      "metadata": {},
      "source": [
        "We re-initilize the ``system`` to ask for gradients\n\n"
      ]
    },
    {
      "cell_type": "code",
      "execution_count": null,
      "metadata": {
        "collapsed": false
      },
      "outputs": [],
      "source": [
        "system = System(\n    types=torch.from_numpy(atoms.get_atomic_numbers()),\n    positions=torch.from_numpy(atoms.positions).requires_grad_(),\n    cell=torch.from_numpy(atoms.cell.array).requires_grad_(),\n    pbc=torch.from_numpy(atoms.pbc),\n)\nsystem.add_neighbor_list(nlo, calculator.compute(system))\n\nenergy_unit = \"kcal/mol\"\nlength_unit = \"angstrom\"\n\noutputs = {\"energy\": ModelOutput(quantity=\"energy\", unit=energy_unit, per_atom=False)}\n\nnrg = qtip4pf_model.forward([system], outputs)\nnrg[\"energy\"].block(0).values.backward()\n\nprint(\n    f\"\"\"\nEnergy is {nrg[\"energy\"].block(0).values[0].item()} kcal/mol\n\nThe forces on the first molecule (in kcal/mol/\u00c5) are\n{system.positions.grad[:3]}\n\nThe stress is\n{system.cell.grad}\n\"\"\"\n)"
      ]
    },
    {
      "cell_type": "markdown",
      "metadata": {},
      "source": [
        "### Build and save an ``AtomisticModel``\n\nThis model can be wrapped into a\n:class:`metatomic.torch.AtomisticModel` class, that provides\nuseful helpers to specify the capabilities of the model, and to save it as a\n``torchscript`` module.\n\nModel options include a definition of its units, and a description of the quantities\nit can compute.\n\n<div class=\"alert alert-info\"><h4>Note</h4><p>We neeed to specify that the model has infinite interaction range because of the\n  presence of a long-range term that means one cannot assume that forces decay to zero\n  beyond the cutoff.</p></div>\n\n"
      ]
    },
    {
      "cell_type": "code",
      "execution_count": null,
      "metadata": {
        "collapsed": false
      },
      "outputs": [],
      "source": [
        "options = ModelEvaluationOptions(\n    length_unit=length_unit, outputs=outputs, selected_atoms=None\n)\n\nmodel_capabilities = ModelCapabilities(\n    outputs=outputs,\n    atomic_types=[1, 8],\n    interaction_range=torch.inf,\n    length_unit=length_unit,\n    supported_devices=[\"cuda\", \"cpu\"],\n    dtype=\"float32\",\n)\n\natomistic_model = AtomisticModel(\n    qtip4pf_model.eval(), ModelMetadata(), model_capabilities\n)\n\natomistic_model.save(\"qtip4pf-mta.pt\")"
      ]
    },
    {
      "cell_type": "markdown",
      "metadata": {},
      "source": [
        "### Other water models\n\nThe `WaterModel` class is flexible enough that one can also implement (and export)\nother 4-point models, or even 3-point models if one sets the `m_gamma` parameter to\none. For instance, we can implement the (classical) SPC/Fw model ([Wu et al., JCP\n(2006)](http://doi.org/10.1063/1.2136877))\n\n"
      ]
    },
    {
      "cell_type": "code",
      "execution_count": null,
      "metadata": {
        "collapsed": false
      },
      "outputs": [],
      "source": [
        "spcf_parameters = dict(\n    cutoff=7.0,\n    lj_sigma=3.16549,\n    lj_epsilon=0.155425,\n    m_gamma=1.0,\n    m_charge=0.82,\n    oh_bond_eq=1.012,\n    oh_bond_k=1059.162,\n    oh_bond_alpha=0.0,\n    hoh_angle_eq=113.24 * torch.pi / 180,\n    hoh_angle_k=75.90,\n)\nspcf_model = WaterModel(**spcf_parameters)\n\natomistic_model = AtomisticModel(spcf_model.eval(), ModelMetadata(), model_capabilities)\n\natomistic_model.save(\"spcfw-mta.pt\")"
      ]
    },
    {
      "cell_type": "markdown",
      "metadata": {},
      "source": [
        "## Using the Q-TIP4P/f model\n\nThe ``torchscript`` model can be reused with any simulation software compatible with\nthe ``metatomic`` API. Here we give a couple of examples, designed to demonstrate the\nusage more than to provide realistic use cases.\n\n### Geometry optimization with ``ase``\n\nWe begin with an example based on an ``ase``-compatible calculator. To this end,\n``metatomic`` provides a compatible\n:class:`metatomic.torch.MetatomicCalculator` wrapper to a model. Note how\nthe metadata associated with the model are used to convert energy into the units\nexpected by ``ase`` (eV and \u00c5).\n\n"
      ]
    },
    {
      "cell_type": "code",
      "execution_count": null,
      "metadata": {
        "collapsed": false
      },
      "outputs": [],
      "source": [
        "atomistic_model = load_atomistic_model(\"qtip4pf-mta.pt\")\nmta_calculator = MetatomicCalculator(atomistic_model)\n\natoms.calc = mta_calculator\nnrg = atoms.get_potential_energy()\n\nprint(\n    f\"\"\"\nEnergy is {nrg} eV, corresponding to {nrg*23.060548} kcal/mol\n\"\"\"\n)"
      ]
    },
    {
      "cell_type": "markdown",
      "metadata": {},
      "source": [
        "We then use one of the built-in ``ase`` functions to run the structural relaxation.\nThe relaxation is split into short segments just to be able to visualize the\ntrajectory.\n\n``fmax`` is the threshold on the maximum force component and the optimization will\nstop when the threshold is reached\n\n"
      ]
    },
    {
      "cell_type": "code",
      "execution_count": null,
      "metadata": {
        "collapsed": false
      },
      "outputs": [],
      "source": [
        "opt_trj = []\nopt_nrg = []\n\nfor _ in range(10):\n    opt_trj.append(atoms.copy())\n    opt_nrg.append(atoms.get_potential_energy())\n    opt = LBFGS(atoms, restart=\"lbfgs_restart.json\")\n    opt.run(fmax=0.001, steps=5)\n\nopt.run(fmax=0.001, steps=10)\nnrg_final = atoms.get_potential_energy()"
      ]
    },
    {
      "cell_type": "markdown",
      "metadata": {},
      "source": [
        "Use [chemiscope](http://chemiscope.org) to visualize the geometry optimization\ntogether with the convergence of the energy to a local minimum.\n\n"
      ]
    },
    {
      "cell_type": "code",
      "execution_count": null,
      "metadata": {
        "collapsed": false
      },
      "outputs": [],
      "source": [
        "chemiscope.show(\n    frames=opt_trj,\n    properties={\n        \"step\": 1 + np.arange(0, len(opt_trj)),\n        \"energy\": opt_nrg - nrg_final,\n    },\n    mode=\"default\",\n    settings=chemiscope.quick_settings(\n        map_settings={\n            \"x\": {\"property\": \"step\", \"scale\": \"log\"},\n            \"y\": {\"property\": \"energy\", \"scale\": \"log\"},\n        },\n        structure_settings={\n            \"unitCell\": True,\n        },\n        trajectory=True,\n    ),\n)"
      ]
    },
    {
      "cell_type": "markdown",
      "metadata": {},
      "source": [
        "### Path integral molecular dynamics with ``i-PI``\n\nWe use [i-PI](http://ipi-code.org) to perform path integral molecular-dynamics\nsimulations of bulk water to include nuclear quntum effects. See [this recipe](https://atomistic-cookbook.org/examples/thermostats/thermostats.html) for an\nintroduction to constant-temperature MD using i-PI.\n\nFirst, the ``XML`` input of the i-PI simulation is created using a few utility\nfunctions. This input could also be written to file and used with the command-line\nversion of i-PI. We use the structure twice to generate a path integral with two\nreplicas: this is far from converged, see also [this recipe](https://atomistic-cookbook.org/examples/path-integrals/path-integrals.html) if you\nhave never run path integral simulations before.\n\n"
      ]
    },
    {
      "cell_type": "code",
      "execution_count": null,
      "metadata": {
        "collapsed": false
      },
      "outputs": [],
      "source": [
        "data = ase.io.read(\"data/water_32.xyz\")\ninput_xml = simulation_xml(\n    structures=[data, data],\n    forcefield=forcefield_xml(\n        name=\"qtip4pf\",\n        mode=\"direct\",\n        pes=\"metatomic\",\n        parameters={\"model\": \"qtip4pf-mta.pt\", \"template\": \"data/water_32.xyz\"},\n    ),\n    motion=motion_nvt_xml(timestep=0.5 * ase.units.fs),\n    temperature=300,\n    prefix=\"qtip4pf-md\",\n)\n\nprint(input_xml)"
      ]
    },
    {
      "cell_type": "markdown",
      "metadata": {},
      "source": [
        "Then, we create an ``InteractiveSimulation`` object and run a short simulation (purely\nfor demonstrative purposes)\n\n"
      ]
    },
    {
      "cell_type": "code",
      "execution_count": null,
      "metadata": {
        "collapsed": false
      },
      "outputs": [],
      "source": [
        "sim = InteractiveSimulation(input_xml)\nsim.run(400)"
      ]
    },
    {
      "cell_type": "markdown",
      "metadata": {},
      "source": [
        "The simulation generates output files that can be parsed and visualized from Python\n\n"
      ]
    },
    {
      "cell_type": "code",
      "execution_count": null,
      "metadata": {
        "collapsed": false
      },
      "outputs": [],
      "source": [
        "data, info = read_output(\"qtip4pf-md.out\")\ntrj = read_trajectory(\"qtip4pf-md.pos_0.xyz\")"
      ]
    },
    {
      "cell_type": "code",
      "execution_count": null,
      "metadata": {
        "collapsed": false
      },
      "outputs": [],
      "source": [
        "fig, ax = plt.subplots(1, 1, figsize=(4, 3), constrained_layout=True)\n\nax.plot(data[\"time\"], data[\"potential\"], \"b-\", label=\"potential\")\nax.plot(data[\"time\"], data[\"conserved\"] - 4, \"k-\", label=\"conserved\")\nax.set_xlabel(\"t / ps\")\nax.set_ylabel(\"energy / ev\")\nax.legend()"
      ]
    },
    {
      "cell_type": "code",
      "execution_count": null,
      "metadata": {
        "collapsed": false
      },
      "outputs": [],
      "source": [
        "chemiscope.show(\n    frames=trj,\n    properties={\n        \"time\": data[\"time\"][::10],\n        \"potential\": data[\"potential\"][::10],\n    },\n    mode=\"default\",\n    settings=chemiscope.quick_settings(\n        map_settings={\n            \"x\": {\"property\": \"time\", \"scale\": \"linear\"},\n            \"y\": {\"property\": \"potential\", \"scale\": \"linear\"},\n        },\n        structure_settings={\n            \"unitCell\": True,\n        },\n        trajectory=True,\n    ),\n)"
      ]
    },
    {
      "cell_type": "markdown",
      "metadata": {},
      "source": [
        "### Molecular dynamics with ``LAMMPS``\n\nThe ``metatomic`` model can also be run with [LAMMPS](https://lammps.org)\nand used to perform all kinds of atomistic simulations with it.\nThis only requires defining a ``pair_metatomic`` potential, and specifying\nthe mapping between LAMMPS atom types and those used in the model.\n\nNote also that the ``metatomic`` interface takes care of converting the\nmodel units to those used in the LAMMPS file, so it is possible to use\nenergies in eV even if the model outputs kcal/mol.\n\n"
      ]
    },
    {
      "cell_type": "code",
      "execution_count": null,
      "metadata": {
        "collapsed": false
      },
      "outputs": [],
      "source": [
        "with open(\"data/spcfw.in\", \"r\") as file:\n    lines = file.readlines()\n\nfor line in lines[:7] + lines[16:]:\n    print(line, end=\"\")"
      ]
    },
    {
      "cell_type": "markdown",
      "metadata": {},
      "source": [
        "This specific example runs a short MD trajectory, using a Langevin thermostat. Given\nthat this is a classical MD trajectory, we use the SPC/Fw model that is fitted to\nreproduce (some) water properties even with a classical description of the nuclei.\n\nWe save to geometry to a LAMMPS data file and run the simulation\n\n"
      ]
    },
    {
      "cell_type": "code",
      "execution_count": null,
      "metadata": {
        "collapsed": false
      },
      "outputs": [],
      "source": [
        "ase.io.write(\"water_32.data\", atoms, format=\"lammps-data\", masses=True)\n\nsubprocess.check_call([\"lmp\", \"-in\", \"data/spcfw.in\"])"
      ]
    }
  ],
  "metadata": {
    "kernelspec": {
      "display_name": "Python 3",
      "language": "python",
      "name": "python3"
    },
    "language_info": {
      "codemirror_mode": {
        "name": "ipython",
        "version": 3
      },
      "file_extension": ".py",
      "mimetype": "text/x-python",
      "name": "python",
      "nbconvert_exporter": "python",
      "pygments_lexer": "ipython3",
      "version": "3.12.12"
    }
  },
  "nbformat": 4,
  "nbformat_minor": 0
}