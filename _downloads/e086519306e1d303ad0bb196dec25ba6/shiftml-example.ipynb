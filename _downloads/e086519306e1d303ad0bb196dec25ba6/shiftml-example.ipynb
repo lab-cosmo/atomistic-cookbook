{
  "cells": [
    {
      "cell_type": "markdown",
      "metadata": {},
      "source": [
        "\nComputing NMR shielding tensors using ShiftML\n%%%%%%%%%%%%%%%%%%%%%%%%%%%%%%%%%%%%%%%%%%%%%\n\n:Authors: Michele Ceriotti [@ceriottm](https://github.com/ceriottm/)\n\nThis example shows how to compute NMR shielding tensors\nusing a point-edge transformer model trained on the ShiftML\ndataset.\n"
      ]
    },
    {
      "cell_type": "code",
      "execution_count": null,
      "metadata": {
        "collapsed": false
      },
      "outputs": [],
      "source": [
        "import os\nimport zipfile\n\nimport chemiscope\nimport matplotlib.pyplot as plt\nimport numpy as np\nimport requests"
      ]
    },
    {
      "cell_type": "code",
      "execution_count": null,
      "metadata": {
        "collapsed": false
      },
      "outputs": [],
      "source": [
        "from ase.io import read\nfrom shiftml.ase import ShiftML"
      ]
    },
    {
      "cell_type": "markdown",
      "metadata": {},
      "source": [
        "# Create a ShiftML calculator and fetch a dataset\n\n"
      ]
    },
    {
      "cell_type": "code",
      "execution_count": null,
      "metadata": {
        "collapsed": false
      },
      "outputs": [],
      "source": [
        "calculator = ShiftML(\"ShiftML3\")\n\nfilename = \"ShiftML_poly.zip\"\nif not os.path.exists(filename):\n    url = (\n        \"https://archive.materialscloud.org/records/j2fka-sda13/files/ShiftML_poly.zip\"\n    )\n    response = requests.get(url)\n    response.raise_for_status()\n    with open(filename, \"wb\") as f:\n        f.write(response.content)\n\n\nwith zipfile.ZipFile(filename, \"r\") as zip_ref:\n    for file in [\"ShiftML_poly/Cocaine/cocaine_QuantumEspresso.xyz\"]:\n        target = os.path.basename(file)\n        with zip_ref.open(file) as source, open(target, \"wb\") as dest:\n            dest.write(source.read())\n\nframes_cocaine = read(\"cocaine_QuantumEspresso.xyz\", index=\":16\")\nreference = [frame.arrays[\"CS\"] for frame in frames_cocaine]"
      ]
    },
    {
      "cell_type": "markdown",
      "metadata": {},
      "source": [
        "# Predicts isotropic chemical shielding tensors, including uncertainty\n\n"
      ]
    },
    {
      "cell_type": "code",
      "execution_count": null,
      "metadata": {
        "collapsed": false
      },
      "outputs": [],
      "source": [
        "predicted = [calculator.get_cs_iso_ensemble(frame) for frame in frames_cocaine]"
      ]
    },
    {
      "cell_type": "markdown",
      "metadata": {},
      "source": [
        "Make a plot for all the H shielding values\n\n"
      ]
    },
    {
      "cell_type": "code",
      "execution_count": null,
      "metadata": {
        "collapsed": false
      },
      "outputs": [],
      "source": [
        "h_shieldings = np.hstack(\n    [\n        [\n            r[f.symbols == \"H\"],\n            p[f.symbols == \"H\"].mean(axis=1),\n            p[f.symbols == \"H\"].std(axis=1),\n        ]\n        for r, p, f in zip(reference, predicted, frames_cocaine)\n    ]\n)"
      ]
    },
    {
      "cell_type": "markdown",
      "metadata": {},
      "source": [
        "and of the uncertainty\n\n"
      ]
    },
    {
      "cell_type": "code",
      "execution_count": null,
      "metadata": {
        "collapsed": false
      },
      "outputs": [],
      "source": [
        "fig, ax = plt.subplots(figsize=(4, 3))\n\nax.plot(h_shieldings[0], h_shieldings[1], \"o\", markersize=2, alpha=0.5)"
      ]
    },
    {
      "cell_type": "code",
      "execution_count": null,
      "metadata": {
        "collapsed": false
      },
      "outputs": [],
      "source": [
        "fig, ax = plt.subplots(figsize=(4, 3))\nax.loglog(\n    h_shieldings[2],\n    np.abs(h_shieldings[0] - h_shieldings[1]),\n    \"o\",\n    markersize=2,\n    alpha=0.5,\n)\nax.plot([0.2, 0.8], [0.2, 0.8], \"k--\", lw=0.5)"
      ]
    },
    {
      "cell_type": "markdown",
      "metadata": {},
      "source": [
        "# Anisotropic shielding tensors\n\n"
      ]
    },
    {
      "cell_type": "code",
      "execution_count": null,
      "metadata": {
        "collapsed": false
      },
      "outputs": [],
      "source": [
        "tensors = [calculator.get_cs_tensor(frame) for frame in frames_cocaine]"
      ]
    },
    {
      "cell_type": "code",
      "execution_count": null,
      "metadata": {
        "collapsed": false
      },
      "outputs": [],
      "source": [
        "h_tensors = np.array(\n    [\n        (t[iat] if f.symbols[iat] == \"H\" else np.zeros((3, 3)))\n        for t, f in zip(tensors, frames_cocaine)\n        for iat in range(len(f))\n    ]\n)"
      ]
    },
    {
      "cell_type": "code",
      "execution_count": null,
      "metadata": {
        "collapsed": false
      },
      "outputs": [],
      "source": [
        "chemiscope.show(\n    frames_cocaine,\n    shapes={\n        \"cs_ellipsoid\": {\n            \"kind\": \"ellipsoid\",\n            \"parameters\": {\n                \"global\": {},\n                \"atom\": [\n                    chemiscope.ellipsoid_from_tensor(cs_h * 0.05) for cs_h in h_tensors\n                ],\n            },\n        }\n    },\n    mode=\"structure\",\n    settings=chemiscope.quick_settings(\n        periodic=True,\n        structure_settings={\n            \"shape\": [\"cs_ellipsoid\"],\n        },\n    ),\n)"
      ]
    }
  ],
  "metadata": {
    "kernelspec": {
      "display_name": "Python 3",
      "language": "python",
      "name": "python3"
    },
    "language_info": {
      "codemirror_mode": {
        "name": "ipython",
        "version": 3
      },
      "file_extension": ".py",
      "mimetype": "text/x-python",
      "name": "python",
      "nbconvert_exporter": "python",
      "pygments_lexer": "ipython3",
      "version": "3.11.14"
    }
  },
  "nbformat": 4,
  "nbformat_minor": 0
}