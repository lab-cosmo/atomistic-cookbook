{
  "cells": [
    {
      "cell_type": "markdown",
      "metadata": {},
      "source": [
        "\n# Multiple time stepping and ring-polymer contraction\n\n:Authors: Davide Tisi [@DavideTisi](https://github.com/DavideTisi) and\n    Michele Ceriotti [@ceriottm](https://github.com/ceriottm)\n\n\nThis notebook provides an introduction to multiple time stepping and\nring polymer contraction, two closely-related techniques,\nthat are geared towards reducing the cost of calculations by separating\nslowly-varying (and computationally-expensive) components of the potential\nenergy from the fast-varying (and hopefully cheaper) ones.\n\nThe first, `multiple time stepping` or MTS, is a well-established technique\nto avoid evaluating the slowly-varying components at every time step of a MD simulation.\nIt was first introduced in\n[M. Tuckerman, B. J. Berne, and G. J. Martyna,\nJCP 97(3), 1990 (1992)](https://doi.org/10.1063/1.463137)\nand can be applied to classical simulations,\ntypically to avoid the evaluation of long-range electrostatics in classical\nempirical potentials.\n\nThe second, named `ring polymer contraction`, was first introduced in\n[T. E. Markland and D. E. Manolopoulos, JCP 129(2),\n024105 (2008)](https://doi.org/10.1063/1.2953308) and\ncan be seen as performing a similar simplification `in imaginary time`,\nevaluating the expensive part of the potential on a smaller number\nof PI replicas.\n\nThe techniques can be combined, which reduces even further the\ncomputational effort, which is the case we demonstrate in this\nnotebook. This dual approach was introduced in\n[V. Kapil, J. VandeVondele, and M. Ceriotti, JCP 144(5),\n054111 (2016)]((https://doi.org/10.1063/1.4941091)\nand [O. Marsalek and T. E. Markland, JCP 144(5),\n(2016)](https://doi.org/10.1063/1.4941093).\nIt is worth stressing that MTS and/or RPC can also be used very conveniently\ntogether with machine-learning potentials\n(see e.g. [V. Kapil, J. Behler, and M. Ceriotti, JCP 145(23),\n234103 (2016](https://doi.org/10.1063/1.4971438) or\n[K. Rossi et al., JCTC 16(8), 5139 (2020)](http://doi.org/10.1021/acs.jctc.0c00362)\nfor early applications).\n\nIf you need an introduction to path integral simulations,\nor to the use of [i-PI](http://ipi-code.org), which is the\nsoftware which will be used to perform simulations, you can see\n[this introductory recipe](https://atomistic-cookbook.org/examples/path-integrals/path-integrals.html).\n"
      ]
    },
    {
      "cell_type": "code",
      "execution_count": null,
      "metadata": {
        "collapsed": false
      },
      "outputs": [],
      "source": [
        "import os\nimport subprocess\nimport time\nimport warnings\n\nimport chemiscope\nimport ipi\nimport matplotlib.pyplot as plt\nimport numpy as np\n\n\n# sphinx_gallery_thumbnail_number = 2"
      ]
    },
    {
      "cell_type": "markdown",
      "metadata": {},
      "source": [
        "## Multiple time stepping in real and imaginary time\n\nThe core underlying assumption in these techniques is that the potential\ncan be decomposed into a short-range/fast-varying/computationally-cheap\npart $V_\\mathrm{sr}$ and a long-range/slow-varying/computationally-expensive\npart $V_\\mathrm{lr}$.  This is usually written as\n$V=V_\\mathrm{sr} +V_\\mathrm{lr}$, although in many cases $V_\\mathrm{sr}$\nis a cheap approximation of the potential, and $V_\\mathrm{lr}$\nis taken to be the difference between this potential and the full one.\n\n.. figure:: pimd-mts-pots.png\n   :align: center\n   :width: 500px\n\n   A smooth and rough potential components combine to form the total potential\n   energy function used in a simulation.\n\n"
      ]
    },
    {
      "cell_type": "markdown",
      "metadata": {},
      "source": [
        "The way this is realized in practice is by splitting the propagation of\nHamilton's equations into an inner loop that uses the fast/cheap force,\nand an outer loop that applies the slow force, using a larger time step\n(and therefore giving a larger \"kick\").\n\n\\begin{align}\\begin{split}\n  &p \\leftarrow p + f_\\mathrm{lr} \\, dt/2 \\\\\n  &\\left.\n  \\begin{split}\n  &p \\leftarrow p + f_\\mathrm{sr} \\, dt/2M \\\\\n  &q \\leftarrow q + p \\, dt/M \\\\\n  &p \\leftarrow p + f_\\mathrm{sr} \\, dt/2M \\\\\n  \\end{split}\n  \\right\\} M\\ \\mathrm{times}\\\\\n  &p \\leftarrow p + f_\\mathrm{lr} \\, dt/2 \\\\\n  \\end{split}\\end{align}\n\n.. figure:: pimd-mts-integrator.png\n   :align: center\n   :width: 500px\n\n   Schematic representation of the application of slow and fast\n   forces in a multiple time step molecular dynamics algorithm\n\nThis approach can (and usually is) complemented by aggressive\nthermostatting, which helps stabilize the dynamics in the\nlimit of large $M$.\nFor a detailed discussion on how thermostatting aids\nin this context, see:\n[J. A. Morrone, T. E. Markland, M. Ceriotti, and B. J. Berne,\nJCP 134(1), 14103 (2011)](https://doi.org/10.1063/1.3518369)\n\n"
      ]
    },
    {
      "cell_type": "markdown",
      "metadata": {},
      "source": [
        "The idea behind ring-polymer contraction is very similar:\nit is unnecessary to evaluate on a very fine-grained discretization\nof the path integral components of the potential that are slowly-varying.\n\n<img src=\"file://pimd-mts-rpc.png\" align=\"center\" width=\"500px\">\n\nAs shown in the figure below, ring-polymer contraction\nis realized by computing a Fourier interpolation of the bead positions,\n$\\tilde{\\mathbf{q}}^{(k)}$, and then evaluating the total potential\nthat enters the ring-polymer Hamiltonian as\n\n\\begin{align}V(\\mathbf{q}) = \\sum_{k=1}^P V_\\mathrm{sr}(\\mathbf{q}^{(k)}) + \\frac{P}{P'}\n     \\sum_{k=1}^{P'} V_\\mathrm{lr}(\\tilde{\\mathbf{q}}^{(k)})\\end{align}\n\nwhere $P$ and $P'$ indicate the full\nand contracted discretizations of the path.\n\n.. figure:: rpc-4.png\n   :align: center\n   :width: 350px\n\n   An example of the successive degrees of contraction of a ring polymer\n   containing 16 beads (gray), interpolated down to 8 and 4.\n\n\n"
      ]
    },
    {
      "cell_type": "markdown",
      "metadata": {},
      "source": [
        "## A reference calculation using PIGLET\n\nFirst, let's run a reference calculation without RPC or MTS.\nThese calculations will be performed using the q-TIP4P/f water model\n([S. Habershon, T. E. Markland, and D. E. Manolopoulos, JCP 131(2),\n24501 (2009)](https://doi.org/10.1063/1.3167790))\nthat contains a Morse-potential anharmonic intra-molecular potential,\nand an inter-molecular potential based on a Lennard-Jones term and a 4-point\nelectrostatic model (the venerable TIP4P idea).\nIt is fitted to reproduce experimental properties of water\n`when performing PIMD calculations`\nand it captures nicely several subtle effects while being cheap and easy-to-implement.\nThe input for this run is `h2o_pimd.xml`, and we will use the\n`-m qtip4pf` option of `i-pi-driver` to compute the appropriate potential.\nTo make simulations run quickly, we use a small box containing only 32\nwater molecules, and use a `PIGLET` thermostat that yields converged\nquantum properties with only 8 beads (cf.\n[M. Ceriotti and D. E. Manolopoulos, Phys. Rev. Lett. 109(10), 100604\n(2012)](https://doi.org/10.1103/PhysRevLett.109.100604),\nand also this [introduction to the PIGLET method](https://atomistic-cookbook.org/examples/path-integrals/path-integrals.html#accelerating-pimd-with-a-piglet-thermostat)).\nFor simplicity, we use the constant-volume `NVT` ensemble, but you can easily\nmodify the input to perform constant-pressure simulations.\n\nThe important parts of the simulation\n- which we will modify to run a RPC/MTS simulation -\nare the definition of the forcefield socket\n\n\n"
      ]
    },
    {
      "cell_type": "code",
      "execution_count": null,
      "metadata": {
        "collapsed": false
      },
      "outputs": [],
      "source": [
        "# Open and read the XML file\nwith open(\"data/h2o_pimd.xml\", \"r\") as file:\n    lines = file.readlines()\n\nfor line in lines[7:10]:\n    print(line, end=\"\")"
      ]
    },
    {
      "cell_type": "markdown",
      "metadata": {},
      "source": [
        "The important parts of the simulation\n- which we will modify to run a RPC/MTS simulation -\nare the definition of the forcefield socket,\nwith the corresponding force definition\n\n"
      ]
    },
    {
      "cell_type": "code",
      "execution_count": null,
      "metadata": {
        "collapsed": false
      },
      "outputs": [],
      "source": [
        "for line in lines[7:10]:\n    print(line, end=\"\")\n\nprint(\"\\n[...]\\n\")\n\nfor line in lines[15:18]:\n    print(line, end=\"\")"
      ]
    },
    {
      "cell_type": "markdown",
      "metadata": {},
      "source": [
        "... the definition of the number of beads\n\n"
      ]
    },
    {
      "cell_type": "code",
      "execution_count": null,
      "metadata": {
        "collapsed": false
      },
      "outputs": [],
      "source": [
        "print(lines[11], end=\"\")"
      ]
    },
    {
      "cell_type": "markdown",
      "metadata": {},
      "source": [
        "... and the time step\n\n"
      ]
    },
    {
      "cell_type": "code",
      "execution_count": null,
      "metadata": {
        "collapsed": false
      },
      "outputs": [],
      "source": [
        "print(lines[23], end=\"\")"
      ]
    },
    {
      "cell_type": "markdown",
      "metadata": {},
      "source": [
        "The `<thermostat>` section contains PIGLET parameters generated using the\n[GLE4MD website](https://gle4md.org)\n.\n\n"
      ]
    },
    {
      "cell_type": "markdown",
      "metadata": {},
      "source": [
        "### Installing the Python driver\n\ni-PI comes with a FORTRAN driver, which however has to be installed\nfrom source. We use a utility function to compile it. Note that this requires\na functioning build system with `gfortran` and `make`.\n\n"
      ]
    },
    {
      "cell_type": "code",
      "execution_count": null,
      "metadata": {
        "collapsed": false
      },
      "outputs": [],
      "source": [
        "ipi.install_driver()"
      ]
    },
    {
      "cell_type": "markdown",
      "metadata": {},
      "source": [
        "### Launch the i-PI simulation\n\nWe are going to launch i-PI from here, and put it in background\nand detach the processes from the\njupyter instance, so we can continue with the notebook.\nOn the the command line, this amounts to launching\n\n```bash\nPYTHONUNBUFFERED=1 i-pi data/h2o_pimd.xml &> log.pimd &\nsleep 5\nfor i in `seq 1 4`; do\n    i-pi-driver -u -a qtip4pf -m qtip4pf -v &> log.driver.$i &\ndone\n```\nFrom a Python script, one can launch both i-PI and the driver\nusing the ``subprocess`` module:\n\n"
      ]
    },
    {
      "cell_type": "code",
      "execution_count": null,
      "metadata": {
        "collapsed": false
      },
      "outputs": [],
      "source": [
        "ipi_process = None\nif not os.path.exists(\"pimd.out\"):\n    ipi_process = subprocess.Popen([\"i-pi\", \"data/h2o_pimd.xml\"])\n    time.sleep(5)  # wait for i-PI to start\n    lmp_process = [\n        subprocess.Popen([\"i-pi-driver\", \"-u\", \"-a\", \"qtip4pf\", \"-m\", \"qtip4pf\"])\n        for i in range(4)\n    ]"
      ]
    },
    {
      "cell_type": "markdown",
      "metadata": {},
      "source": [
        "If you run this in a notebook, you can go ahead and start loading\noutput files *before* i-PI and the driver have finished running, by\nskipping this cell\n\n"
      ]
    },
    {
      "cell_type": "code",
      "execution_count": null,
      "metadata": {
        "collapsed": false
      },
      "outputs": [],
      "source": [
        "if ipi_process is not None:\n    ipi_process.wait()\n    for i in range(4):\n        lmp_process[i].wait()"
      ]
    },
    {
      "cell_type": "markdown",
      "metadata": {},
      "source": [
        "## Multiple time stepping\n\nLet's now run a classical MD simulation, with and without multiple time stepping.\nWe use very conservative parameters and a weak thermostat, to be able to see the\ndifference in time scales between the full and short-range parts of the potential.\nLet's first run a classical MD for reference. The input file is `data/h2o_md.xml`,\nnothing exciting to see there.\nThe bash command this time would be:\n\n```bash\nPYTHONUNBUFFERED=1 i-pi data/h2o_md.xml &> log.md &\nsleep 5\ni-pi-driver -u -a qtip4pf-md -m qtip4pf -v &> log.driver.$i &\n```\nFrom Python:\n\n"
      ]
    },
    {
      "cell_type": "code",
      "execution_count": null,
      "metadata": {
        "collapsed": false
      },
      "outputs": [],
      "source": [
        "ipi_process = None\nif not os.path.exists(\"md.out\"):\n    ipi_process = subprocess.Popen([\"i-pi\", \"data/h2o_md.xml\"])\n    time.sleep(5)  # wait for i-PI to start\n    lmp_process = subprocess.Popen(\n        [\"i-pi-driver\", \"-u\", \"-a\", \"qtip4pf-md\", \"-m\", \"qtip4pf\"]\n    )"
      ]
    },
    {
      "cell_type": "markdown",
      "metadata": {},
      "source": [
        "If you run this in a notebook, you can go ahead and start loading\noutput files *before* i-PI and the driver have finished running, by\nskipping this cell\n\n"
      ]
    },
    {
      "cell_type": "code",
      "execution_count": null,
      "metadata": {
        "collapsed": false
      },
      "outputs": [],
      "source": [
        "if ipi_process is not None:\n    ipi_process.wait()\n    lmp_process.wait()"
      ]
    },
    {
      "cell_type": "markdown",
      "metadata": {},
      "source": [
        "Let's have a look at `h2o_mts.xml`, that provides the parameters\nof the MTS calculation. We define two `ffsocket` sections:\none will be used with the `qtip4pf` driver and the other with `qtip4pf-sr`.\nNote the different names of the sockets (that have to match the `-a`\noption in the invocation of the driver) and the internal labels that\nwill be referred to in the `<forces>` section.\n\n"
      ]
    },
    {
      "cell_type": "code",
      "execution_count": null,
      "metadata": {
        "collapsed": false
      },
      "outputs": [],
      "source": [
        "with open(\"data/h2o_mts.xml\", \"r\") as file:\n    lines = file.readlines()\n\nfor line in lines[7:13]:\n    print(line, end=\"\")"
      ]
    },
    {
      "cell_type": "markdown",
      "metadata": {},
      "source": [
        "Each `<force>` block contains a `<mts_weights>` section.\nThis provides a list of weights that determine which force\ncomponents are active at each level of the MTS hierarchy.\nThese weights indicate that the smooth part (full minus short-range)\nis active in the outer loop, and the short-range part is active in the inner\nloop. Note that the implementation is smart enough to re-use the short-range\npotential computed in the inner loop, multiplying it with a weight of -1 to\ncompute $V_\\mathrm{lr}=V-V_\\mathrm{sr}$.\n\n"
      ]
    },
    {
      "cell_type": "code",
      "execution_count": null,
      "metadata": {
        "collapsed": false
      },
      "outputs": [],
      "source": [
        "for line in lines[18:26]:\n    print(line, end=\"\")"
      ]
    },
    {
      "cell_type": "markdown",
      "metadata": {},
      "source": [
        "It remains to specify the MTS setup. We use an outer time step of 2 fs\n(four times the typical time step for room temperature water)\nand a splitting with `M=4`, so the fast forces are computed every 0.5 fs.\n\n"
      ]
    },
    {
      "cell_type": "code",
      "execution_count": null,
      "metadata": {
        "collapsed": false
      },
      "outputs": [],
      "source": [
        "for line in lines[31:33]:\n    print(line, end=\"\")"
      ]
    },
    {
      "cell_type": "markdown",
      "metadata": {},
      "source": [
        "One final detail, is that we print out the two components of the potential.\nThis is achieved adding `pot_component{units}(idx)` to the `<properties>` field.\nThe index corresponds to the order by which the `<force>`\ncomponents are specified in the `<forces>` list.\nNB: the time step in i-PI is the outer time step,\nso it is not possible to access directly the value of\nthe potential for intermediate inner steps\n\n"
      ]
    },
    {
      "cell_type": "code",
      "execution_count": null,
      "metadata": {
        "collapsed": false
      },
      "outputs": [],
      "source": [
        "for line in lines[2]:\n    print(line, end=\"\")"
      ]
    },
    {
      "cell_type": "markdown",
      "metadata": {},
      "source": [
        "Let's get the simulation going. Notice that we need two drivers,\ncomputing the short and full potentials,\nconnected to the proper `<ffsocket>` on the i-PI side\nThe correct `bash` command are:\n\n```bash\nPYTHONUNBUFFERED=1 i-pi data/h2o_mts.xml &> log.mts &\nsleep 5\ni-pi-driver -u -a qtip4pf-mts-full -m qtip4pf  &> log.driver.full &\ni-pi-driver -u -a qtip4pf-mts-sr -m qtip4pf-sr &> log.driver.sr &\nwait\n```\nthat involve launching both short-range and full potential models.\nSimilarly, in Python:\n\n"
      ]
    },
    {
      "cell_type": "code",
      "execution_count": null,
      "metadata": {
        "collapsed": false
      },
      "outputs": [],
      "source": [
        "ipi_process = None\nif not os.path.exists(\"mts.out\"):\n    ipi_process = subprocess.Popen([\"i-pi\", \"data/h2o_mts.xml\"])\n    time.sleep(5)  # wait for i-PI to start\n    lmp_process0 = subprocess.Popen(\n        [\"i-pi-driver\", \"-u\", \"-a\", \"qtip4pf-mts-full\", \"-m\", \"qtip4pf\"]\n    )\n    lmp_process1 = subprocess.Popen(\n        [\"i-pi-driver\", \"-u\", \"-a\", \"qtip4pf-mts-sr\", \"-m\", \"qtip4pf-sr\"]\n    )"
      ]
    },
    {
      "cell_type": "markdown",
      "metadata": {},
      "source": [
        "If you run this in a notebook, you can go ahead and start loading\noutput files *before* i-PI and the drivers have finished running, by\nskipping this cell\n\n"
      ]
    },
    {
      "cell_type": "code",
      "execution_count": null,
      "metadata": {
        "collapsed": false
      },
      "outputs": [],
      "source": [
        "if ipi_process is not None:\n    ipi_process.wait()\n    lmp_process0.wait()\n    lmp_process1.wait()"
      ]
    },
    {
      "cell_type": "markdown",
      "metadata": {},
      "source": [
        "### Analysis of results\n\nAfter having finished to run all simulation (might take a few minutes)\nwe can load the outputs\n\n"
      ]
    },
    {
      "cell_type": "code",
      "execution_count": null,
      "metadata": {
        "collapsed": false
      },
      "outputs": [],
      "source": [
        "md_output, md_desc = ipi.read_output(\"md.out\")\nmts_output, mts_desc = ipi.read_output(\"mts.out\")"
      ]
    },
    {
      "cell_type": "markdown",
      "metadata": {},
      "source": [
        "We can start looking at the behavior of the two components of the potential.\nEven though this is hardly the best slow/fast mode splitting (usually\none also includes the Lennard-Jones and short-range Coulomb components\nin $V_\\mathrm{sr}$)\nit is clear that the intra-molecular potential varies faster than\nthe non-bonded components.\nRunning the whole simulation with a 2 fs time step would lead to major\ninstabilities in the trajectory.\n\n\n"
      ]
    },
    {
      "cell_type": "code",
      "execution_count": null,
      "metadata": {
        "collapsed": false
      },
      "outputs": [],
      "source": [
        "fig, ax = plt.subplots(1, 1, constrained_layout=True, figsize=(5, 2.5))\nax.plot(\n    mts_output[\"time\"],\n    mts_output[\"pot_component(0)\"]\n    - mts_output[\"pot_component(1)\"]\n    - (mts_output[\"pot_component(0)\"] - mts_output[\"pot_component(1)\"])[50],\n    \"b-\",\n    label=r\"$V_\\mathrm{lr}$\",\n)\nax.plot(\n    mts_output[\"time\"],\n    mts_output[\"pot_component(1)\"] - mts_output[\"pot_component(1)\"][50],\n    \"r-\",\n    label=r\"$V_\\mathrm{sr}$\",\n)\nax.set_xlabel(r\"$t$ / ps\")\nax.set_ylabel(r\"$U$ / eV\")\nax.set_xlim(0.1, 0.3)\nax.set_ylim(-1, 1)\nax.legend()"
      ]
    },
    {
      "cell_type": "markdown",
      "metadata": {},
      "source": [
        "This can be made clearer by computing the autocorrelation function,\nand seeing that the long-range term is that showing a slow decay, while\nthe short-range one decays quickly to zero, rapidly oscillating\n\n"
      ]
    },
    {
      "cell_type": "code",
      "execution_count": null,
      "metadata": {
        "collapsed": false
      },
      "outputs": [],
      "source": [
        "# a simple wrapper to np.correlate to evaluate the autocorrelation function\ndef autocorrelate(x, xbar=None, normalize=True):\n    \"\"\"Computes the autocorrelation function of a trajectory.\n    It can be given the exact average as a parameter\"\"\"\n\n    if xbar is None:\n        xbar = x.mean()\n    acf = np.correlate(x - xbar, x - xbar, mode=\"same\")\n    return acf[len(x) // 2 :] / (((x - xbar) * (x - xbar)).sum() if normalize else 1)\n\n\nacf_vsr = autocorrelate(mts_output[\"pot_component(1)\"][50:])\nacf_vlr = autocorrelate(\n    (mts_output[\"pot_component(0)\"] - mts_output[\"pot_component(1)\"])[50:]\n)\n\nfig, ax = plt.subplots(1, 1, constrained_layout=True, figsize=(5, 2.5))\nax.plot(\n    mts_output[\"time\"][: len(acf_vsr)],\n    acf_vsr,\n    \"r-\",\n    label=r\"$V_\\mathrm{sr}$\",\n)\nax.plot(\n    mts_output[\"time\"][: len(acf_vlr)],\n    acf_vlr,\n    \"b-\",\n    label=r\"$V_\\mathrm{lr}$\",\n)\nax.legend()\nax.set_xlabel(r\"$t$ / ps\")\nax.set_ylabel(r\"$c_{VV}$\")"
      ]
    },
    {
      "cell_type": "markdown",
      "metadata": {},
      "source": [
        "The equilibration is slow due to the weak thermostat, but the two\ntrajectories both equilibrate to 300 K. The difference in potential\nenergy is not significant, because of the slow convergence of\nthe potential energy in liquid water.\n\n"
      ]
    },
    {
      "cell_type": "code",
      "execution_count": null,
      "metadata": {
        "collapsed": false
      },
      "outputs": [],
      "source": [
        "fig, ax = plt.subplots(1, 2, constrained_layout=True, figsize=(8, 3))\nax[1].plot(mts_output[\"time\"], mts_output[\"potential\"], \"b-\", label=\"MTS\")\nax[1].plot(md_output[\"time\"], md_output[\"potential\"], \"c.\", label=\"MD\")\nax[1].set_xlabel(\"t / ps\")\nax[1].set_ylabel(\"U / eV\")\nax[0].plot(mts_output[\"time\"], mts_output[\"temperature\"], \"r-\", label=\"MTS\")\nax[0].plot(md_output[\"time\"], md_output[\"temperature\"], \"m.\", label=\"MD\")\nax[0].set_xlabel(\"t / ps\")\nax[0].set_ylabel(\"T / K\")\nax[0].legend()\nax[1].legend()"
      ]
    },
    {
      "cell_type": "markdown",
      "metadata": {},
      "source": [
        "## RPC/MTS simulation\n\nNow let's get to the full beast. The input for the RCP/MTS simulation is\n`h2o_rpc-mts.xml`. The setup is rather subtle,\nbecause we will use the F90 driver that implements the full\nq-TIP4P/f potential (with `-m qtip4pf`) and the intra-molecular part\n(with `-m qtip4pf-sr`). This means that we will have to compute\nthe slowly-varying part as $V_\\mathrm{full}-V_\\mathrm{sr}$.\nLet's look at the key sections in the input file. Much as for the\nMTS setup, the simulation includes two `ffsocket` sections\n- one will be used with the `qtip4pf` driver and the other with `qtip4pf-sr`.\n\n"
      ]
    },
    {
      "cell_type": "code",
      "execution_count": null,
      "metadata": {
        "collapsed": false
      },
      "outputs": [],
      "source": [
        "# Open and read the XML file\nwith open(\"data/h2o_rpc-mts.xml\", \"r\") as file:\n    lines = file.readlines()\n\nfor line in lines[7:13]:\n    print(line, end=\"\")"
      ]
    },
    {
      "cell_type": "markdown",
      "metadata": {},
      "source": [
        "The `<forces>` section is where the magic happens.\nThere are three components here.\nThe first computes a full `qtip4pf` potential,\nand is computed on a contraction to 2 beads, as\nindicated by the `nbeads='2'` attribute.\nA second component is also evaluated on a\ncontracted ring polymer, and is used to subtract\nthe short-range component to leave the (smoother) long-range part.\nThis is achieved linking to the `qtip4pf-sr` forcefield,\nand using the attribute `weight='-1'` to subtract the\nterm from the total potential.\nFinally, there is another `qtip4pf-sr` component,\nthat is evaluated on the full `nbeads='8'` ring polymer.\nThe result is a RPC setup in which the smooth\n(Lennard-Jones + Coulomb) part of the potential\nis contracted on 2 replicas, and the fast part is\ncomputed on 8 replicas, which (thanks to the use of\na PIGLET thermostat) is enough to achieve a good\ndegree of convergence for water at 300 K.\n\nEach `<force>` block also contains a `<mts_weights>` section,\nwhich is different from that used for the MTS simulation, because\nwe now have a separate force component to subtract from the full\npotential, which is computed on the contracted ring polymer.\n\n\n"
      ]
    },
    {
      "cell_type": "code",
      "execution_count": null,
      "metadata": {
        "collapsed": false
      },
      "outputs": [],
      "source": [
        "for line in lines[18:29]:\n    print(line, end=\"\")"
      ]
    },
    {
      "cell_type": "markdown",
      "metadata": {},
      "source": [
        "It remains to specify the MTS setup. In this case,\nwe use an outer time step of 1 fs (twice the typical\ntime step for room temperature water) and a splitting\nwith `M=2`, so the fast forces are computed every 0.5\nfs. Compared to the classical MTS setup, we need a\nfiner-grained integration because of the ring-polymer\ndynamics and because of the use of PIGLET, that requires\na short time step to integrate accurately the Generalized\nLangevin equation. Still, even this splitting reduces by a\nfactor of 2 the evaluations of the long-range potential.\n\n\n"
      ]
    },
    {
      "cell_type": "code",
      "execution_count": null,
      "metadata": {
        "collapsed": false
      },
      "outputs": [],
      "source": [
        "for line in lines[34:36]:\n    print(line, end=\"\")"
      ]
    },
    {
      "cell_type": "markdown",
      "metadata": {},
      "source": [
        "Finally, we are ready to run! We launch i-PI, and then\nexecute two instances of the full potential\n(using `-m qtip4pf` and the correct socket address)\nand four instances of the short-range component,\nthat is evaluated on the full ring polymer.\nThis will take some time...\nThe correct `bash` commands are:\n\n```bash\nPYTHONUNBUFFERED=1 i-pi h2o_rpc-mts.xml &> log.rpc-mts &\nsleep 5\nfor i in `seq 1 2`; do\n   i-pi-driver -u -a qtip4pf-full -m qtip4pf -v &> log.driver-full.$i &\ndone\nfor i in `seq 1 4`; do\n   i-pi-driver -u -a qtip4pf-sr -m qtip4pf-sr -v &> log.driver-sr.$i &\ndone\nwait\n```\n"
      ]
    },
    {
      "cell_type": "code",
      "execution_count": null,
      "metadata": {
        "collapsed": false
      },
      "outputs": [],
      "source": [
        "ipi_process = None\nif not os.path.exists(\"rpc-mts.out\"):\n    ipi_process = subprocess.Popen([\"i-pi\", \"data/h2o_rpc-mts.xml\"])\n    time.sleep(5)  # wait for i-PI to start\n    lmp_process0 = [\n        subprocess.Popen([\"i-pi-driver\", \"-u\", \"-a\", \"qtip4pf-full\", \"-m\", \"qtip4pf\"])\n        for i in range(2)\n    ]\n    lmp_process1 = [\n        subprocess.Popen([\"i-pi-driver\", \"-u\", \"-a\", \"qtip4pf-sr\", \"-m\", \"qtip4pf-sr\"])\n        for i in range(4)\n    ]"
      ]
    },
    {
      "cell_type": "markdown",
      "metadata": {},
      "source": [
        "If you run this in a notebook, you can go ahead and start loading\noutput files *before* i-PI and the drivers have finished running, by\nskipping this cell\n\n"
      ]
    },
    {
      "cell_type": "code",
      "execution_count": null,
      "metadata": {
        "collapsed": false
      },
      "outputs": [],
      "source": [
        "if ipi_process is not None:\n    ipi_process.wait()\n    lmp_process0[0].wait()\n    lmp_process0[1].wait()\n    for i in range(4):\n        lmp_process1[i].wait()"
      ]
    },
    {
      "cell_type": "markdown",
      "metadata": {},
      "source": [
        "### Analysis of results\n\nLet's read the results from the reference and RPC/MTS\nsimulations and analyze them\n\n\n"
      ]
    },
    {
      "cell_type": "code",
      "execution_count": null,
      "metadata": {
        "collapsed": false
      },
      "outputs": [],
      "source": [
        "pimd_output, pimd_desc = ipi.read_output(\"pimd.out\")\nrpcmts_output, rpcmts_desc = ipi.read_output(\"rpc-mts.out\")"
      ]
    },
    {
      "cell_type": "markdown",
      "metadata": {},
      "source": [
        "Let's start looking at the long-range/contracted and short-range components\nof the potential. Here the long-range part is the sum of the first two components\nof the potential, since the second enters with a negative weight.\nWe don't see a clear time-scale separation here, because of the very\naggressive PIGLET thermostat, that adds noise on top of the physical dynamics.\nThis is not a major issue, because it only affects the dynamics of the momenta,\nbut it means we cannot easily check for time scale separation\nwhen using advanced thermostatting schemes.\n\n\n"
      ]
    },
    {
      "cell_type": "code",
      "execution_count": null,
      "metadata": {
        "collapsed": false
      },
      "outputs": [],
      "source": [
        "fig, ax = plt.subplots(1, 1, constrained_layout=True, figsize=(5, 2.5))\nax.plot(\n    rpcmts_output[\"time\"],\n    (rpcmts_output[\"pot_component(0)\"] - rpcmts_output[\"pot_component(1)\"])\n    - (rpcmts_output[\"pot_component(0)\"] - rpcmts_output[\"pot_component(1)\"])[10],\n    \"b-\",\n    label=r\"$V_{\\mathrm{lr}}$\",\n)\nax.plot(\n    rpcmts_output[\"time\"],\n    rpcmts_output[\"pot_component(2)\"] - rpcmts_output[\"pot_component(2)\"][10],\n    \"r-\",\n    label=r\"$V_{\\mathrm{sr}}$\",\n)\nax.set_xlabel(\"t / ps\")\nax.set_ylabel(\"U / eV\")\nax.set_xlim(1.0, 1.5)\nax.set_ylim(-2, 2)\nax.legend()"
      ]
    },
    {
      "cell_type": "markdown",
      "metadata": {},
      "source": [
        "Simulations reach equilibrium faster than for the (weakly thermostatted)\nclassical simulation, and even though the agreement between PIMD and the\nRPC+MTS run is not perfect, it is very good,\nin comparison with the major discrepancy between classical and quantum averages.\n\n\n"
      ]
    },
    {
      "cell_type": "code",
      "execution_count": null,
      "metadata": {
        "collapsed": false
      },
      "outputs": [],
      "source": [
        "fig, ax = plt.subplots(1, 2, constrained_layout=True, figsize=(8, 3))\nax[0].plot(md_output[\"time\"], md_output[\"potential\"], \"b-\", label=\"MD\")\nax[0].plot(pimd_output[\"time\"], pimd_output[\"potential\"], \"r-\", label=\"PIMD\")\nax[0].plot(rpcmts_output[\"time\"], rpcmts_output[\"potential\"], \"m.\", label=\"RPC-MTS\")\nax[0].set_xlabel(\"t / ps\")\nax[0].set_ylabel(\"U / eV\")\nax[1].plot(md_output[\"time\"], md_output[\"kinetic_md\"], \"b-\", label=\"MD\")\nax[1].plot(pimd_output[\"time\"], pimd_output[\"kinetic_cv\"], \"r-\", label=\"PIMD\")\nax[1].plot(rpcmts_output[\"time\"], rpcmts_output[\"kinetic_cv\"], \"m.\", label=\"RPC-MTS\")\nax[1].set_xlabel(\"t / ps\")\nax[1].set_ylabel(\"K / eV\")\nax[0].set_xlim(0.0, 5.0)\nax[1].set_xlim(0.0, 5.0)\nax[0].legend()"
      ]
    },
    {
      "cell_type": "markdown",
      "metadata": {},
      "source": [
        "RPC+MTS simulations generate\na distribution of structures at the highest path integral\nresolution, and can be used to compute all sorts of\nstructural properties.\n\n\n"
      ]
    },
    {
      "cell_type": "code",
      "execution_count": null,
      "metadata": {
        "collapsed": false
      },
      "outputs": [],
      "source": [
        "# loads structures, discarding unused atom properties\nwarnings.filterwarnings(\"ignore\", \".*residuenumbers array.*\")\npi_frames = [ipi.read_trajectory(\"rpc-mts.pos_\" + str(i) + \".xyz\") for i in range(8)]\nframes = []\nfor idx_f in range(len(pi_frames[0])):\n    f = pi_frames[0][idx_f]\n    for k in range(1, 8):\n        f += pi_frames[k][idx_f]\n    f.info = {}\n    f.arrays = {\"positions\": f.positions, \"numbers\": f.numbers}\n    frames.append(f)\n\n\nchemiscope.show(\n    frames=frames,\n    properties={\n        \"t\": {\n            \"values\": rpcmts_output[\"time\"][::25],\n            \"units\": \"ps\",\n            \"target\": \"structure\",\n        },\n        \"U\": {\n            \"values\": rpcmts_output[\"potential\"][::25],\n            \"units\": \"eV\",\n            \"target\": \"structure\",\n        },\n        \"K\": {\n            \"values\": rpcmts_output[\"kinetic_cv\"][::25],\n            \"units\": \"eV\",\n            \"target\": \"structure\",\n        },\n    },\n    settings=chemiscope.quick_settings(\n        x=\"t\",\n        y=\"K\",\n        color=\"U\",\n        structure_settings={\n            \"bonds\": False,\n            \"unitCell\": True,\n        },\n        trajectory=True,\n    ),\n)"
      ]
    }
  ],
  "metadata": {
    "kernelspec": {
      "display_name": "Python 3",
      "language": "python",
      "name": "python3"
    },
    "language_info": {
      "codemirror_mode": {
        "name": "ipython",
        "version": 3
      },
      "file_extension": ".py",
      "mimetype": "text/x-python",
      "name": "python",
      "nbconvert_exporter": "python",
      "pygments_lexer": "ipython3",
      "version": "3.11.14"
    }
  },
  "nbformat": 4,
  "nbformat_minor": 0
}