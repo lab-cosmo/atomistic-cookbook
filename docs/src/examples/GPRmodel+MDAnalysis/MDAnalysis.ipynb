{
  "cells": [
    {
      "cell_type": "markdown",
      "metadata": {},
      "source": [
        "\n# A Gaussian approximation potential (GAP) for Barium Titanate\n\n.. start-body\n\nThe present notebook is meant to give you an overview of the main ingredients that you need to build an Machine Learning (ML) interatomic potential with librascal (soon to be replaced by rascaline) and use it in connection with i-Pi (https://github.com/lab-cosmo/i-pi) to generate molecular dynamics (MD) trajectories of the system of interest. \nWe will start from building a GAP model for Barium Titanate ($BaTiO_3$), using a training set of structures computed via Density Functional Theory, following the approach outlined in [[1]](https://www.nature.com/articles/s41524-022-00845-0#Sec9\"). Specifically, each structure of the dataset corresponds to an independent DFT (self-consistent) calculation, providing a reference total potential energy and a set of atomic forces. The mathematical framework that we are going to use to fit the model is Gaussian-Process Regression (GPR) using both total potential energies and atomic forces as target properties [2]. Then we will calculate the Root-Mean-Squared-Error (RMSE) of the ML-predicted energies and forces on a test set to check its performance and run a short NVT simulation at T = 250 K. We will also provide some basic analysis to compute the radial distribution function, the total energy autocorrelation function and the volume fluctuations from our MD trajectory.\n\nIn many cases, the dataset that you need to feed your favourite Machine Learning algorithm is already published or has been computed by someone else, so we will not treat here the topic on how to construct an appropriate dataset of structures for a specific application. If you have to build a dataset from scratch, however, then a general rule of thumb is to start from some reference structure available in the literature or on some online repository, like MaterialsProject (https://materialsproject.org/) or the MaterialsCloudArchive (https://archive.materialscloud.org/) and generate a set of structures by randomly displacing atoms around their initial positions. \n"
      ]
    },
    {
      "cell_type": "code",
      "execution_count": null,
      "metadata": {
        "collapsed": false
      },
      "outputs": [],
      "source": [
        "from matplotlib import pylab as plt\n\nimport ase\nfrom ase.io import read, write\nfrom ase.build import make_supercell\nfrom ase.visualize import view\nimport numpy as np\n# If installed -- not essential, though\ntry:\n    from tqdm.notebook import tqdm\nexcept ImportError:\n    tqdm = (lambda i, **kwargs: i)\n\nfrom time import time\n\nfrom rascal.models import Kernel, train_gap_model, compute_KNM\nfrom rascal.representations import SphericalInvariants\nfrom rascal.utils import from_dict, to_dict, CURFilter, dump_obj, load_obj"
      ]
    },
    {
      "cell_type": "markdown",
      "metadata": {},
      "source": [
        "Let's first load the dataset\n\n\n"
      ]
    },
    {
      "cell_type": "code",
      "execution_count": null,
      "metadata": {
        "collapsed": false
      },
      "outputs": [],
      "source": [
        "dataset = read('Dataset/BTO_dataset.extxyz', index=':')\nenergies = []\nforces = []\n\nfor frame in dataset:\n    energies.append(frame.get_total_energy())\n    forces.append(frame.get_forces())\n\nenergies = np.array(energies)\nforces = np.array(forces)\n\n#Keys of the arrays dictionary\nprint(energies.shape, forces.shape)"
      ]
    },
    {
      "cell_type": "markdown",
      "metadata": {},
      "source": [
        "## References\n[1] L. Gigli, M. Veit, M. Kotiuga, G. Pizzi, N. Marzari and M. Ceriotti, npj Computational Materials 8, 209, 2022 \n\n[2] V. L. Deringer, A. P. Bart\u00f3k, N. Bernstein, D. M. Wilkins, M. Ceriotti and G. Cs\u00e0nyi, Chem. Rev. 121, 16, 2021\n\n"
      ]
    }
  ],
  "metadata": {
    "kernelspec": {
      "display_name": "Python 3",
      "language": "python",
      "name": "python3"
    },
    "language_info": {
      "codemirror_mode": {
        "name": "ipython",
        "version": 3
      },
      "file_extension": ".py",
      "mimetype": "text/x-python",
      "name": "python",
      "nbconvert_exporter": "python",
      "pygments_lexer": "ipython3",
      "version": "3.8.10"
    }
  },
  "nbformat": 4,
  "nbformat_minor": 0
}