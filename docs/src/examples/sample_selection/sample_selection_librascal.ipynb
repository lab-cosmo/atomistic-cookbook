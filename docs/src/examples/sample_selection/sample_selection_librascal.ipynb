{
  "cells": [
    {
      "cell_type": "markdown",
      "metadata": {},
      "source": [
        "\n# Sample Selection with FPS and CUR (librascal)\n\n.. start-body\n\nIn this tutorial we generate descriptors using librascal, then select a subset\nof structures using both the farthest-point sampling (FPS) and CUR algorithms\nimplemented in scikit-matter.\n"
      ]
    },
    {
      "cell_type": "markdown",
      "metadata": {},
      "source": [
        "First, import all the necessary packages\n\n"
      ]
    },
    {
      "cell_type": "code",
      "execution_count": null,
      "metadata": {
        "collapsed": false
      },
      "outputs": [],
      "source": [
        "import ase.io\nimport numpy as np\nfrom sklearn.decomposition import PCA\n\nimport chemiscope\nfrom rascal.representations import SphericalInvariants\nfrom rascal.utils import FPSFilter\nfrom skmatter import sample_selection, feature_selection"
      ]
    },
    {
      "cell_type": "markdown",
      "metadata": {},
      "source": [
        "## Load molecular data\n\nLoad 100 example BTO structures from file, reading them using\n[ASE](https://wiki.fysik.dtu.dk/ase/).\n\n"
      ]
    },
    {
      "cell_type": "code",
      "execution_count": null,
      "metadata": {
        "collapsed": false
      },
      "outputs": [],
      "source": [
        "# Load a subset of structures of the example dataset\nn_frames = 250\nframes = ase.io.read(\"./dataset/input-fps.xyz\", f\":{n_frames}\", format=\"extxyz\")\n\n# librascal requires the atomic positions to be wrapped in the cell\nfor frame in frames:\n    frame.wrap(eps=1.0e-12)"
      ]
    },
    {
      "cell_type": "markdown",
      "metadata": {},
      "source": [
        "## Compute SOAP descriptor using librascal\n\nFirst, define the librascal hyperparameters used to compute SOAP.\n\n"
      ]
    },
    {
      "cell_type": "code",
      "execution_count": null,
      "metadata": {
        "collapsed": false
      },
      "outputs": [],
      "source": [
        "# librascal hyperparameters\nsoap_hypers = {\n    \"soap_type\": \"PowerSpectrum\",\n    \"interaction_cutoff\": 6.0,\n    \"max_radial\": 8,\n    \"max_angular\": 6,\n    \"gaussian_sigma_constant\": 0.3,\n    \"gaussian_sigma_type\": \"Constant\",\n    \"cutoff_function_type\": \"RadialScaling\",\n    \"cutoff_smooth_width\": 0.5,\n    \"cutoff_function_parameters\": {\n        \"rate\": 1,\n        \"scale\": 3.5,\n        \"exponent\": 4,\n    },\n    \"radial_basis\": \"GTO\",\n    \"normalize\": True,\n    \"optimization\": {\n        \"Spline\": {\n            \"accuracy\": 1.0e-05,\n        },\n    },\n    \"compute_gradients\": False,\n}\n\n# Generate a SOAP spherical expansion\nsoap = SphericalInvariants(**soap_hypers)\n\n# Perform a data trasnformation and get the descriptor with samples as atomic environments\natom_dscrptr = soap.transform(frames).get_features(soap)\n\n# Calculate the stucture features as the mean over the atomic features for each\n# structure\nstruct_dscrptr = np.zeros((len(frames), atom_dscrptr.shape[1]))\natom_idx_start = 0\nfor i, frame in enumerate(frames):\n    atom_idx_stop = atom_idx_start + len(frame.numbers)\n    struct_dscrptr[i] = atom_dscrptr[atom_idx_start:atom_idx_stop].mean(axis=0)\n    atom_idx_start = atom_idx_stop\n\nprint(\"atom feature descriptor shape:\", atom_dscrptr.shape)\nprint(\"structure feature descriptor shape:\", struct_dscrptr.shape)"
      ]
    },
    {
      "cell_type": "markdown",
      "metadata": {},
      "source": [
        "## Perform structure (i.e. sample) selection\n\nUsing FPS and CUR algorithms implemented in scikit-matter, select a subset of\nthe structures. skmatter assumes that our descriptor is represented as a 2D\nmatrix, with the samples along axis 0 and features along axis 1.\n\nFor more info on the functions: [skmatter](https://scikit-cosmo.readthedocs.io/en/latest/selection.html)\n\n"
      ]
    },
    {
      "cell_type": "code",
      "execution_count": null,
      "metadata": {
        "collapsed": false
      },
      "outputs": [],
      "source": [
        "# Define the number of structures to select using FPS/CUR\nn_structures = 25\n\n# FPS sample selection\nstruct_fps = sample_selection.FPS(n_to_select=n_structures, initialize=\"random\").fit(\n    struct_dscrptr\n)\nstruct_fps_idxs = struct_fps.selected_idx_\n\n# CUR sample selection\nstruct_cur = sample_selection.CUR(n_to_select=n_structures).fit(struct_dscrptr)\nstruct_cur_idxs = struct_cur.selected_idx_\n\nprint(\"Structure indices obtained with FPS \", struct_fps_idxs)\nprint(\"Structure indices obtained with CUR \", struct_cur_idxs)\n\n# Slice structure descriptor along axis 0 to contain only the selected structures\nstruct_dscrptr_fps = struct_dscrptr[struct_fps_idxs, :]\nstruct_dscrptr_cur = struct_dscrptr[struct_cur_idxs, :]\nassert struct_dscrptr_fps.shape == struct_dscrptr_cur.shape\n\nprint(\"Structure descriptor shape before selection \", struct_dscrptr.shape)\nprint(\"Structure descriptor shape after selection \", struct_dscrptr_fps.shape)"
      ]
    },
    {
      "cell_type": "markdown",
      "metadata": {},
      "source": [
        "## Visualize selected structures with chemiscope\n\nsklearn can be used to perform PCA dimensionality reduction on the SOAP\ndescriptors. The resulting PC coordinates can be used to visualize the the\ndata alongside their structures in a chemiscope widget.\n\nNote: chemiscope widgets are not currently integrated into our sphinx gallery:\ncoming soon.\n\n"
      ]
    },
    {
      "cell_type": "code",
      "execution_count": null,
      "metadata": {
        "collapsed": false
      },
      "outputs": [],
      "source": [
        "# Generate a structure PCA\nstruct_dscrptr_pca = PCA(n_components=2).fit_transform(struct_dscrptr)\nassert struct_dscrptr_pca.shape == (n_frames, 2)\n\n# Selected level\nselection_levels = []\nfor i in range(len(frames)):\n    level = 0\n    if i in struct_cur_idxs:\n        level += 1\n    if i in struct_fps_idxs:\n        level += 2\n    selection_levels.append(level)\n\n\nproperties = {\n    \"PC1\": struct_dscrptr_pca[:, 0],\n    \"PC2\": struct_dscrptr_pca[:, 1],\n    \"Selection: (1) CUR, (2) FPS, (3) both\": np.array(selection_levels),\n}\n\n\n# Display with chemiscope. This currently does not work - as raised in issue #8\n# https://github.com/lab-cosmo/software-cookbook/issues/8\n# chemiscope.show(frames, properties=properties)"
      ]
    },
    {
      "cell_type": "markdown",
      "metadata": {},
      "source": [
        "## Perform feature selection\n\nNow perform feature selection. In this example we will go back to using the\ndescriptor decomposed into atomic environments, as opposed to the one\ndecomposed into structure environments, but only use FPS for brevity.\n\n"
      ]
    },
    {
      "cell_type": "code",
      "execution_count": null,
      "metadata": {
        "collapsed": false
      },
      "outputs": [],
      "source": [
        "# Define the number of features to select\nn_features = 200\n\n# FPS feature selection\nfeat_fps = feature_selection.FPS(n_to_select=n_features, initialize=\"random\").fit(\n    atom_dscrptr\n)\nfeat_fps_idxs = feat_fps.selected_idx_\n\nprint(\"Feature indices obtained with FPS \", feat_fps_idxs)\n\n# Slice atomic descriptor along axis 1 to contain only the selected features\natom_dscrptr_fps = atom_dscrptr[:, feat_fps_idxs]\n\nprint(\"atomic descriptor shape before selection \", atom_dscrptr.shape)\nprint(\"atomic descriptor shape after selection \", atom_dscrptr_fps.shape)"
      ]
    }
  ],
  "metadata": {
    "kernelspec": {
      "display_name": "Python 3",
      "language": "python",
      "name": "python3"
    },
    "language_info": {
      "codemirror_mode": {
        "name": "ipython",
        "version": 3
      },
      "file_extension": ".py",
      "mimetype": "text/x-python",
      "name": "python",
      "nbconvert_exporter": "python",
      "pygments_lexer": "ipython3",
      "version": "3.8.10"
    }
  },
  "nbformat": 4,
  "nbformat_minor": 0
}