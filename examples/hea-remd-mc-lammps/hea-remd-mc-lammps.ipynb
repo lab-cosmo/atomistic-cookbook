{
 "cells": [
  {
   "cell_type": "markdown",
   "metadata": {},
   "source": [
    "# Replica-exachange molecular dynamics with Monte-Carlo atom swaps"
   ]
  },
  {
   "cell_type": "markdown",
   "metadata": {},
   "source": [
    "Authors: [Arslan Mazitov](https://github.com/abmazitov)"
   ]
  },
  {
   "cell_type": "markdown",
   "metadata": {},
   "source": [
    "This example shows how to run the replica-exchange molecular dynamics (REMD) simulation with Monte-Carlo (MC)\n",
    "atom swaps using a [LAMMPS-METATENSOR](https://github.com/metatensor/lammps/tree/atom_swap) code with the\n",
    "high-entropy alloy (HEA) system as an example. The REMD/MC simulation is a powerful technique to enhance the\n",
    "sampling of the configuration space of multi-component systems, such as HEAs. This example will demonstrate\n",
    "how REMD/MC can efficiently sample the configuration space of the HEA to finally achieve the checmical and\n",
    "spatial relaxation of the system."
   ]
  },
  {
   "cell_type": "markdown",
   "metadata": {},
   "source": [
    "## Understanding Monte-Carlo atom swaps"
   ]
  },
  {
   "cell_type": "markdown",
   "metadata": {},
   "source": [
    "The first concept of this simulation is the Monte-Carlo atom swaps. The atom swaps basically swaps between a pair\n",
    "of randomly selected atoms in the system, which only happens if the Metropolis criterion is satisfied. The Metropolis \n",
    "criterion is a probabilistic criterion that determines whether the swap is accepted or rejected based on the energy \n",
    "difference between the initial and final states of the system. The overall composition of the system is conserved \n",
    "during the swap, so the algorithm essentially only mixes the spatial configuration of the atoms in the system.\n",
    "\n",
    "The acceptance probability of the swap is given by the following formula:\n",
    "\n",
    "$$\n",
    "P_{\\text{accept}} = \\min\\left(1, \\exp\\left(-\\frac{\\Delta E}{k_B T}\\right)\\right)\n",
    "$$\n",
    "\n",
    "where $\\Delta E$ is the energy difference between the initial and final states of the system, $k_B$ is the Boltzmann\n",
    "constant, and $T$ is the temperature of the system.\n",
    "\n",
    "The MC atom swap techni"
   ]
  }
 ],
 "metadata": {
  "kernelspec": {
   "display_name": "metatrain",
   "language": "python",
   "name": "python3"
  },
  "language_info": {
   "codemirror_mode": {
    "name": "ipython",
    "version": 3
   },
   "file_extension": ".py",
   "mimetype": "text/x-python",
   "name": "python",
   "nbconvert_exporter": "python",
   "pygments_lexer": "ipython3",
   "version": "3.10.13"
  }
 },
 "nbformat": 4,
 "nbformat_minor": 2
}
